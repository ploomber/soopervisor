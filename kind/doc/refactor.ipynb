{
 "cells": [
  {
   "cell_type": "markdown",
   "id": "5b02ab81-29a8-4830-b15c-9950ccdc8934",
   "metadata": {},
   "source": [
    "# From notebook to Kubernetes pipeline\n",
    "\n",
    "This tutorial will show you how to automatically convert a Jupyter notebook into a Kubernetes pipeline.\n",
    "\n",
    "Let's download a sample notebook:"
   ]
  },
  {
   "cell_type": "code",
   "execution_count": 2,
   "id": "139e29c4-4bcc-4fe4-a922-78712ae72254",
   "metadata": {
    "tags": [
     "remove-cell"
    ]
   },
   "outputs": [
    {
     "name": "stdout",
     "output_type": "stream",
     "text": [
      "You have new mail in /var/mail/Edu\n"
     ]
    }
   ],
   "source": [
    "# conda activate {env} doesn't work well here\n",
    "# so we manually modify the path\n",
    "PATH=$CONDA_PREFIX/envs/soopervisor/bin:$PATH"
   ]
  },
  {
   "cell_type": "code",
   "execution_count": 4,
   "id": "d3e39561-9d9b-4c55-a1b4-953f47bffa02",
   "metadata": {},
   "outputs": [],
   "source": [
    "mkdir pipeline\n",
    "cd pipeline"
   ]
  },
  {
   "cell_type": "code",
   "execution_count": 5,
   "id": "165a42ca-df19-43e9-a84c-990d71339e93",
   "metadata": {},
   "outputs": [
    {
     "name": "stdout",
     "output_type": "stream",
     "text": [
      "  % Total    % Received % Xferd  Average Speed   Time    Time     Time  Current\n",
      "                                 Dload  Upload   Total   Spent    Left  Speed\n",
      "100  5782  100  5782    0     0  27145      0 --:--:-- --:--:-- --:--:-- 27145\n"
     ]
    }
   ],
   "source": [
    "curl -O https://raw.githubusercontent.com/ploomber/soorgeon/main/examples/machine-learning/nb.ipynb"
   ]
  },
  {
   "cell_type": "markdown",
   "id": "6f115378-bddb-4907-9947-c2c3612ae607",
   "metadata": {},
   "source": [
    "```{note}\n",
    "The sample notebook is a typical Machine\n",
    "Learning pipeline, you can see it\n",
    "[here](https://github.com/ploomber/soorgeon/blob/main/examples/machine-learning/nb.ipynb)\n",
    "```"
   ]
  },
  {
   "cell_type": "markdown",
   "id": "a9894fec-8f3f-41d8-ba55-c520df476051",
   "metadata": {},
   "source": [
    "Let's now use [soorgeon](https://github.com/ploomber/soorgeon) to refactor the notebook:"
   ]
  },
  {
   "cell_type": "code",
   "execution_count": 7,
   "id": "6a0e8b98-7bfc-4b37-81fc-beedd062a133",
   "metadata": {},
   "outputs": [
    {
     "name": "stdout",
     "output_type": "stream",
     "text": [
      "Added README.md\n",
      "\u001b[32mFinished refactoring 'nb.ipynb', use Ploomber to continue.\u001b[0m\n",
      "\n",
      "Install dependencies (this will install ploomber):\n",
      "    $ pip install -r requirements.txt\n",
      "\n",
      "List tasks:\n",
      "    $ ploomber status\n",
      "\n",
      "Execute pipeline:\n",
      "    $ ploomber build\n",
      "\n",
      "Plot pipeline:\n",
      "    $ ploomber plot\n",
      "\n",
      "* Documentation: https://docs.ploomber.io\n",
      "* Jupyter integration: https://ploomber.io/s/jupyter\n",
      "* Other editors: https://ploomber.io/s/editors\n",
      "\n",
      "\u001b[0m"
     ]
    }
   ],
   "source": [
    "pip install soorgeon --quiet\n",
    "soorgeon refactor nb.ipynb -p /mnt/shared-folder -d parquet"
   ]
  },
  {
   "cell_type": "markdown",
   "id": "2ad5f766-71df-4ecf-befa-2d7945295628",
   "metadata": {},
   "source": [
    "```{note}\n",
    "Soorgeon uses static analysis to split notebooks into\n",
    "several files, the output is a [Ploomber](https://github.com/ploomber/ploomber)\n",
    "pipeline that then we can export to Kubernetes.\n",
    "\n",
    "The `-p` tells Soorgeon that it should store all the pipeline\n",
    "outputs in a `/mnt/shared-folder` directory, and the `-d`\n",
    "option states we should use `.parquet` files for the outputs.\n",
    "```"
   ]
  },
  {
   "cell_type": "markdown",
   "id": "39d0ac78-c7ca-4085-976e-168f3ed3ecca",
   "metadata": {},
   "source": [
    "We now configure the Argo workflows backend:"
   ]
  },
  {
   "cell_type": "code",
   "execution_count": 8,
   "id": "7b87e099-af19-4626-9d70-425b0e5b4a3a",
   "metadata": {},
   "outputs": [],
   "source": [
    "# soopervisor add requires a requirements.lock.txt file\n",
    "cp requirements.txt requirements.lock.txt"
   ]
  },
  {
   "cell_type": "code",
   "execution_count": 9,
   "id": "3d07a209-1aa2-4877-a451-7a4f77fe29a7",
   "metadata": {},
   "outputs": [
    {
     "name": "stdout",
     "output_type": "stream",
     "text": [
      "\u001b[34m================================= Loading DAG ==================================\u001b[0m\n",
      "No pipeline.training.yaml found, looking for pipeline.yaml instead\n",
      "/Users/Edu/dev/ploomber/src/ploomber/util/default.py:590: UserWarning: Found project root with filename 'pipeline.yaml' at '/Users/Edu/.Trash/pipeline/pipeline', but found another one in a parent directory ('/Users/Edu/.Trash/pipeline'). The former will be used. Nested YAML specs are not recommended, consider moving them to the same folder and rename them (e.g., project/pipeline.yaml and project/pipeline.serve.yaml) or store them in separate folders (e.g., project1/pipeline.yaml and project2/pipeline.yaml\n",
      "  warnings.warn(\n",
      "/Users/Edu/dev/ploomber/src/ploomber/util/default.py:590: UserWarning: Found project root with filename 'pipeline.yaml' at '/Users/Edu/.Trash/pipeline/pipeline', but found another one in a parent directory ('/Users/Edu/.Trash/pipeline'). The former will be used. Nested YAML specs are not recommended, consider moving them to the same folder and rename them (e.g., project/pipeline.yaml and project/pipeline.serve.yaml) or store them in separate folders (e.g., project1/pipeline.yaml and project2/pipeline.yaml\n",
      "  warnings.warn(\n",
      "Found /Users/Edu/.Trash/pipeline/pipeline/pipeline.yaml. Loading...\n",
      "\u001b[34m====== Adding /Users/Edu/.Trash/pipeline/pipeline/training/Dockerfile... =======\u001b[0m\n",
      "\u001b[32m===================================== Done =====================================\u001b[0m\n",
      "Environment added, to export it:\n",
      "\t $ soopervisor export training\n",
      "To force execution of all tasks:\n",
      "\t $ soopervisor export training --mode force\n",
      "\n",
      "\u001b[0m"
     ]
    }
   ],
   "source": [
    "# add the taget environment\n",
    "soopervisor add training --backend argo-workflows"
   ]
  },
  {
   "cell_type": "markdown",
   "id": "a2c632c6-9d0f-4ae2-ad36-e8703c7d93de",
   "metadata": {},
   "source": [
    "Soopervisor uses a `soopervisor.yaml` to configure your project, we'll download a pre-configured one:"
   ]
  },
  {
   "cell_type": "code",
   "execution_count": 10,
   "id": "644a275f-f109-49a2-b6a2-8adf5b2501f7",
   "metadata": {},
   "outputs": [
    {
     "name": "stdout",
     "output_type": "stream",
     "text": [
      "  % Total    % Received % Xferd  Average Speed   Time    Time     Time  Current\n",
      "                                 Dload  Upload   Total   Spent    Left  Speed\n",
      "100   152  100   152    0     0    730      0 --:--:-- --:--:-- --:--:--   727\n"
     ]
    }
   ],
   "source": [
    "curl https://raw.githubusercontent.com/ploomber/soopervisor/master/tutorials/workflow/soopervisor-workflow.yaml -o soopervisor.yaml"
   ]
  },
  {
   "cell_type": "code",
   "execution_count": 11,
   "id": "1781fd40-8e39-4b95-b5f3-08e466a74dca",
   "metadata": {},
   "outputs": [
    {
     "name": "stdout",
     "output_type": "stream",
     "text": [
      "training:\n",
      "  backend: argo-workflows\n",
      "  repository: null\n",
      "  mounted_volumes:\n",
      "    - name: shared-folder\n",
      "      spec:\n",
      "        hostPath:\n",
      "          path: /host\n"
     ]
    }
   ],
   "source": [
    "cat soopervisor.yaml"
   ]
  },
  {
   "cell_type": "markdown",
   "id": "9521ced3-39a8-4619-8ac6-dbcb2583c31e",
   "metadata": {},
   "source": [
    "The `soopervisor export` command will create the Docker image and the Argo YAML spec:"
   ]
  },
  {
   "cell_type": "code",
   "execution_count": null,
   "id": "7c5a6f74-9cca-4119-9752-e206cb9895da",
   "metadata": {},
   "outputs": [],
   "source": [
    "soopervisor export training --skip-tests --ignore-git --mode force"
   ]
  },
  {
   "cell_type": "markdown",
   "id": "ba5d204b-6fdd-48e4-9cd4-56fcdf743f2f",
   "metadata": {},
   "source": [
    "Here's the generated Argo YAML spec:"
   ]
  },
  {
   "cell_type": "markdown",
   "id": "0af2c165-2544-4028-a2fc-6af7c73f9f10",
   "metadata": {},
   "source": [
    "## Executing"
   ]
  },
  {
   "cell_type": "code",
   "execution_count": null,
   "id": "cc48b184-ccc2-4bd9-964e-11c237a01192",
   "metadata": {},
   "outputs": [],
   "source": []
  }
 ],
 "metadata": {
  "kernelspec": {
   "display_name": "Bash",
   "language": "bash",
   "name": "bash"
  },
  "language_info": {
   "codemirror_mode": "shell",
   "file_extension": ".sh",
   "mimetype": "text/x-sh",
   "name": "bash"
  }
 },
 "nbformat": 4,
 "nbformat_minor": 5
}
