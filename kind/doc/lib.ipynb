{
 "cells": [
  {
   "cell_type": "markdown",
   "id": "01613dc5-7254-44ba-a590-9cacb842e238",
   "metadata": {},
   "source": [
    "## Bundling custom Python modules\n",
    "\n",
    "This guide shows how to bundle custom Python modules in your Docker image.\n",
    "\n",
    "Bundling modules can simplify your setup when you want to include custom libraries that require special credentials and such credentials are already configured locally."
   ]
  },
  {
   "cell_type": "code",
   "execution_count": 1,
   "id": "d8fe19f7-5fdf-41cf-9d34-e33d60db5557",
   "metadata": {
    "tags": [
     "remove-cell"
    ]
   },
   "outputs": [],
   "source": [
    "# conda activate {env} doesn't work well here\n",
    "# so we manually modify the path\n",
    "PATH=$CONDA_PREFIX/envs/soopervisor/bin:$PATH"
   ]
  },
  {
   "cell_type": "code",
   "execution_count": 7,
   "id": "b8fef042-515b-42e6-a76d-af3fa9841a20",
   "metadata": {},
   "outputs": [],
   "source": [
    "# TODO: this should download the directory\n",
    "cd ../../tutorials/local-lib"
   ]
  },
  {
   "cell_type": "code",
   "execution_count": 8,
   "id": "f5593dfe-96c8-473d-ae2a-2462ea82e99e",
   "metadata": {},
   "outputs": [
    {
     "name": "stdout",
     "output_type": "stream",
     "text": [
      "/Users/Edu/dev/soopervisor/tutorials/local-lib\n"
     ]
    }
   ],
   "source": [
    "pwd"
   ]
  },
  {
   "cell_type": "code",
   "execution_count": 9,
   "id": "2b6db4b0-e0b5-49ef-8ec1-7c0176f11e1e",
   "metadata": {},
   "outputs": [
    {
     "name": "stdout",
     "output_type": "stream",
     "text": [
      "\u001b[1m\u001b[36m__pycache__\u001b[39;49m\u001b[0m/            out.txt                 soopervisor.local.yaml\n",
      "\u001b[1m\u001b[36mcluster\u001b[39;49m\u001b[0m/                pipeline.yaml           soopervisor.yaml\n",
      "\u001b[1m\u001b[36mdist\u001b[39;49m\u001b[0m/                   requirements.lock.txt   tasks.py\n",
      "\u001b[1m\u001b[36mlib\u001b[39;49m\u001b[0m/                    script.py\n"
     ]
    }
   ],
   "source": [
    "ls"
   ]
  },
  {
   "cell_type": "code",
   "execution_count": 10,
   "id": "e7e34139-e3b0-40ac-b454-82f46ef86c51",
   "metadata": {},
   "outputs": [],
   "source": [
    "rm -rf cluster dist soopervisor.yaml"
   ]
  },
  {
   "cell_type": "code",
   "execution_count": 11,
   "id": "11b1ed05-3a93-4c61-9bf3-06bea926873d",
   "metadata": {},
   "outputs": [
    {
     "name": "stdout",
     "output_type": "stream",
     "text": [
      "\u001b[34m================================= Loading DAG ==================================\u001b[0m\n",
      "No pipeline.cluster.yaml found, looking for pipeline.yaml instead\n",
      "Found /Users/Edu/dev/soopervisor/tutorials/local-lib/pipeline.yaml. Loading...\n",
      "\u001b[34m= Adding /Users/Edu/dev/soopervisor/tutorials/local-lib/cluster/Dockerfile... ==\u001b[0m\n",
      "\u001b[32m===================================== Done =====================================\u001b[0m\n",
      "Environment added, to export it:\n",
      "\t $ soopervisor export cluster\n",
      "To force execution of all tasks:\n",
      "\t $ soopervisor export cluster --mode force\n",
      "\n",
      "\u001b[0m"
     ]
    }
   ],
   "source": [
    "soopervisor add cluster --backend argo-workflows"
   ]
  },
  {
   "cell_type": "code",
   "execution_count": 12,
   "id": "2eefa19b-8167-4056-b473-52da8ee71abb",
   "metadata": {},
   "outputs": [],
   "source": [
    "cp soopervisor.local.yaml soopervisor.yaml"
   ]
  },
  {
   "cell_type": "code",
   "execution_count": 13,
   "id": "fe5c7fdf-1f3a-45f6-9e45-a6e8781c07da",
   "metadata": {},
   "outputs": [
    {
     "name": "stdout",
     "output_type": "stream",
     "text": [
      "cluster:\n",
      "  backend: argo-workflows\n",
      "  exclude: [output]\n",
      "  repository: null\n"
     ]
    }
   ],
   "source": [
    "cat soopervisor.yaml"
   ]
  },
  {
   "cell_type": "markdown",
   "id": "e7b73262-c907-449e-93a5-9dcc5655a348",
   "metadata": {},
   "source": [
    "Note that the `Dockerfile` adds  `lib/` to the `PYTHONPATH` automatically:"
   ]
  },
  {
   "cell_type": "code",
   "execution_count": 14,
   "id": "91407086-1490-4e36-921e-a692426438ce",
   "metadata": {},
   "outputs": [
    {
     "name": "stdout",
     "output_type": "stream",
     "text": [
      "FROM condaforge/mambaforge:4.10.1-0\n",
      "\n",
      "# find custom lib and included in PYTHONPATH\n",
      "\n",
      "\n",
      "\n",
      "ENV PYTHONPATH lib/\n",
      "\n",
      "\n",
      "\n",
      "COPY requirements.lock.txt project/requirements.lock.txt\n",
      "\n",
      "\n",
      "RUN pip install --requirement project/requirements.lock.txt && rm -rf /root/.cache/pip/\n",
      "\n",
      "\n",
      "COPY dist/* project/\n",
      "WORKDIR /project/\n",
      "\n",
      "# extract to get any config files at the root\n",
      "RUN tar --strip-components=1 -zxvf *.tar.gz\n",
      "RUN cp -r /project/ploomber/ /root/.ploomber/  || echo 'ploomber home does not exist'\n",
      "\n"
     ]
    }
   ],
   "source": [
    "cat cluster/Dockerfile"
   ]
  },
  {
   "cell_type": "code",
   "execution_count": 18,
   "id": "5cd8cfae-87c1-4e27-8a95-dc1fcb5d908c",
   "metadata": {},
   "outputs": [],
   "source": [
    "soopervisor export cluster --skip-tests --ignore-git --mode force &> out.log"
   ]
  },
  {
   "cell_type": "code",
   "execution_count": 19,
   "id": "8cf5c3c6-6f5d-46a4-9772-ecee00965d8d",
   "metadata": {},
   "outputs": [
    {
     "name": "stdout",
     "output_type": "stream",
     "text": [
      "Hello from lib/\n"
     ]
    }
   ],
   "source": [
    "docker run local-lib:latest-default python -c \"from functions import print_message; print_message()\""
   ]
  },
  {
   "cell_type": "code",
   "execution_count": 20,
   "id": "13d398bc-3b73-4ba6-bb63-c85e5597e50f",
   "metadata": {},
   "outputs": [
    {
     "name": "stdout",
     "output_type": "stream",
     "text": [
      "Loading pipeline...\n",
      "Building task 'script':   0%|          | 0/2 [00:00<?, ?it/s]\n",
      "Executing:   0%|          | 0/4 [00:00<?, ?cell/s]\n",
      "Executing: 100%|██████████| 4/4 [00:04<00:00,  1.01s/cell]\n",
      "Building task 'task':  50%|█████     | 1/2 [00:04<00:04,  4.57s/it]  Hello from lib/\n",
      "Building task 'task': 100%|██████████| 2/2 [00:04<00:00,  2.30s/it]\n",
      "name    Ran?      Elapsed (s)    Percentage\n",
      "------  ------  -------------  ------------\n",
      "script  True         4.56829     99.9511\n",
      "task    True         0.002234     0.0488785\n"
     ]
    }
   ],
   "source": [
    "docker run local-lib:latest-default ploomber build"
   ]
  },
  {
   "cell_type": "code",
   "execution_count": null,
   "id": "60bcc6ca-5b9a-462f-8950-a4a1180f92fa",
   "metadata": {},
   "outputs": [],
   "source": []
  }
 ],
 "metadata": {
  "kernelspec": {
   "display_name": "Bash",
   "language": "bash",
   "name": "bash"
  },
  "language_info": {
   "codemirror_mode": "shell",
   "file_extension": ".sh",
   "mimetype": "text/x-sh",
   "name": "bash"
  }
 },
 "nbformat": 4,
 "nbformat_minor": 5
}
