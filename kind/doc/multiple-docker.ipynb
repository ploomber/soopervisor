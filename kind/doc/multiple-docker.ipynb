{
 "cells": [
  {
   "cell_type": "code",
   "execution_count": 1,
   "id": "0595643b-29e7-4884-ab0f-87c73994727a",
   "metadata": {},
   "outputs": [],
   "source": [
    "# conda activate {env} doesn't work well here\n",
    "# so we manually modify the path\n",
    "PATH=$CONDA_PREFIX/envs/soopervisor/bin:$PATH"
   ]
  },
  {
   "cell_type": "code",
   "execution_count": 5,
   "id": "a58e2395-b92b-4af4-b99d-8ee191ba74a2",
   "metadata": {},
   "outputs": [
    {
     "name": "stdout",
     "output_type": "stream",
     "text": [
      "README.md                       raw.py\n",
      "clean_one.py                    requirements.clean-__.lock.txt\n",
      "clean_two.py                    requirements.clean-__.txt\n",
      "env.serve.yaml                  requirements.lock.txt\n",
      "env.yaml                        requirements.plot-__.lock.txt\n",
      "pipeline.yaml                   requirements.plot-__.txt\n",
      "plot.py                         requirements.txt\n"
     ]
    }
   ],
   "source": [
    "ls ../../tests/assets/multiple_requirements_project"
   ]
  },
  {
   "cell_type": "code",
   "execution_count": null,
   "id": "ff08a5fc-d90c-4dc7-aaa5-d764da011587",
   "metadata": {},
   "outputs": [],
   "source": []
  }
 ],
 "metadata": {
  "kernelspec": {
   "display_name": "Bash",
   "language": "bash",
   "name": "bash"
  },
  "language_info": {
   "codemirror_mode": "shell",
   "file_extension": ".sh",
   "mimetype": "text/x-sh",
   "name": "bash"
  }
 },
 "nbformat": 4,
 "nbformat_minor": 5
}
