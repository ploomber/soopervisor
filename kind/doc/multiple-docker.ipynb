{
 "cells": [
  {
   "cell_type": "markdown",
   "id": "43671a11-2fc3-400a-ac61-a3925af80224",
   "metadata": {},
   "source": [
    "# Tasks with different requirements"
   ]
  },
  {
   "cell_type": "code",
   "execution_count": 1,
   "id": "0595643b-29e7-4884-ab0f-87c73994727a",
   "metadata": {},
   "outputs": [],
   "source": [
    "# conda activate {env} doesn't work well here\n",
    "# so we manually modify the path\n",
    "PATH=$CONDA_PREFIX/envs/soopervisor/bin:$PATH"
   ]
  },
  {
   "cell_type": "code",
   "execution_count": 6,
   "id": "a58e2395-b92b-4af4-b99d-8ee191ba74a2",
   "metadata": {},
   "outputs": [
    {
     "name": "stdout",
     "output_type": "stream",
     "text": [
      "You have new mail in /var/mail/Edu\n"
     ]
    }
   ],
   "source": [
    "cd ../../tests/assets/multiple_requirements_project"
   ]
  },
  {
   "cell_type": "code",
   "execution_count": 22,
   "id": "ff08a5fc-d90c-4dc7-aaa5-d764da011587",
   "metadata": {},
   "outputs": [
    {
     "name": "stdout",
     "output_type": "stream",
     "text": [
      "-rw-r--r--  1 Edu  staff  16 Aug 25 22:18 requirements.clean-__.lock.txt\n",
      "-rw-r--r--  1 Edu  staff  33 Aug 25 22:18 requirements.lock.txt\n",
      "-rw-r--r--  1 Edu  staff  24 Aug 25 22:18 requirements.plot-__.lock.txt\n"
     ]
    }
   ],
   "source": [
    "ls -l *.lock.txt"
   ]
  },
  {
   "cell_type": "code",
   "execution_count": 8,
   "id": "e79aacee-849b-449f-94ff-dad4430b2d80",
   "metadata": {},
   "outputs": [],
   "source": [
    "rm -rf cluster dist soopervisor.yaml"
   ]
  },
  {
   "cell_type": "code",
   "execution_count": 9,
   "id": "e2b9a1d3-35b7-4db4-b71f-56a1fd519736",
   "metadata": {},
   "outputs": [
    {
     "name": "stdout",
     "output_type": "stream",
     "text": [
      "\u001b[34m================================= Loading DAG ==================================\u001b[0m\n",
      "No pipeline.cluster.yaml found, looking for pipeline.yaml instead\n",
      "Found /Users/Edu/dev/soopervisor/tests/assets/multiple_requirements_project/pipeline.yaml. Loading...\n",
      "\u001b[34m= Adding /Users/Edu/dev/soopervisor/tests/assets/multiple_requirements_project/cluster/Dockerfile... =\u001b[0m\n",
      "\u001b[32m===================================== Done =====================================\u001b[0m\n",
      "Environment added, to export it:\n",
      "\t $ soopervisor export cluster\n",
      "To force execution of all tasks:\n",
      "\t $ soopervisor export cluster --mode force\n",
      "\n",
      "\u001b[0m"
     ]
    }
   ],
   "source": [
    "soopervisor add cluster --backend argo-workflows"
   ]
  },
  {
   "cell_type": "code",
   "execution_count": null,
   "id": "e0e2ac48-3154-403e-bc1a-2aacc79292a9",
   "metadata": {},
   "outputs": [],
   "source": [
    "soopervisor export cluster --skip-tests --ignore-git --mode force &> out.log"
   ]
  },
  {
   "cell_type": "code",
   "execution_count": 13,
   "id": "9873b20d-f7fa-4944-96c6-85be1d00786d",
   "metadata": {},
   "outputs": [
    {
     "name": "stdout",
     "output_type": "stream",
     "text": [
      "multiple_requirements_project   latest-plot-ploomber    0c0b94bcebb4   40 seconds ago   749MB\n",
      "multiple_requirements_project   latest-clean-ploomber   e5d6845fd350   42 seconds ago   749MB\n",
      "multiple_requirements_project   latest-default          05e150d46b1a   51 seconds ago   749MB\n"
     ]
    }
   ],
   "source": [
    "docker image ls | grep multiple_requirements_project"
   ]
  },
  {
   "cell_type": "code",
   "execution_count": 24,
   "id": "3a3ad7c4-8e79-4f70-8000-25cbaccf2717",
   "metadata": {},
   "outputs": [
    {
     "name": "stdout",
     "output_type": "stream",
     "text": [
      "      image: multiple_requirements_project:latest-default\n",
      "      imagePullPolicy: Never\n",
      "You have new mail in /var/mail/Edu\n"
     ]
    }
   ],
   "source": [
    "cat cluster/argo.yaml | grep image"
   ]
  },
  {
   "cell_type": "code",
   "execution_count": 26,
   "id": "4a62387f-8ddb-4070-9a3f-65d8d5f10600",
   "metadata": {},
   "outputs": [
    {
     "name": "stdout",
     "output_type": "stream",
     "text": [
      "matplotlib==3.5.3\n",
      "matplotlib-inline==0.1.6\n",
      "You have new mail in /var/mail/Edu\n"
     ]
    }
   ],
   "source": [
    "docker run multiple_requirements_project:latest-default pip freeze | grep matplotlib"
   ]
  },
  {
   "cell_type": "code",
   "execution_count": 32,
   "id": "2a480836-1491-4c68-b733-260107b22dbb",
   "metadata": {},
   "outputs": [
    {
     "ename": "",
     "evalue": "1",
     "output_type": "error",
     "traceback": []
    }
   ],
   "source": [
    "docker run multiple_requirements_project:latest-plot-ploomber pip freeze | grep seaborn"
   ]
  },
  {
   "cell_type": "code",
   "execution_count": 30,
   "id": "55c908d1-a7d0-482b-af05-ed424395ea47",
   "metadata": {},
   "outputs": [
    {
     "name": "stdout",
     "output_type": "stream",
     "text": [
      "pandas==1.4.3\n"
     ]
    }
   ],
   "source": [
    "docker run multiple_requirements_project:latest-clean-ploomber pip freeze | grep pandas"
   ]
  },
  {
   "cell_type": "code",
   "execution_count": null,
   "id": "b51664b2-bfd1-49a7-92c0-bd08003d099c",
   "metadata": {},
   "outputs": [],
   "source": []
  }
 ],
 "metadata": {
  "kernelspec": {
   "display_name": "Bash",
   "language": "bash",
   "name": "bash"
  },
  "language_info": {
   "codemirror_mode": "shell",
   "file_extension": ".sh",
   "mimetype": "text/x-sh",
   "name": "bash"
  }
 },
 "nbformat": 4,
 "nbformat_minor": 5
}
