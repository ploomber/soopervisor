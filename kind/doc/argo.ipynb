{
 "cells": [
  {
   "cell_type": "markdown",
   "id": "32ce212a",
   "metadata": {},
   "source": [
    "# Exporting pipelines to Argo\n",
    "\n",
    "[Ploomber](https://github.com/ploomber/ploomber) is an open-source framework to write data pipelines. By using Ploomber in combination with Soopervisor you can quickly convert your Jupyter notebooks into production-ready pipelines that run on Kubernetes. No need to write a complex Argo YAML spec!\n",
    "\n",
    "This tutorial will show you how to export Ploomber pipelines to Kubernetes (via Argo workflows).\n",
    "\n",
    "```{note}\n",
    "This example requires:\n",
    "\n",
    "- [kind](https://kind.sigs.k8s.io/) (for creating a local Kubernetes cluster)\n",
    "- Docker\n",
    "- A Python 3 environment\n",
    "```"
   ]
  },
  {
   "cell_type": "code",
   "execution_count": 2,
   "id": "9ddf4e7b-247c-4986-b90c-3e98aaaca743",
   "metadata": {
    "tags": [
     "remove-cell"
    ]
   },
   "outputs": [],
   "source": [
    "# conda activate {env} doesn't work well here\n",
    "# so we manually modify the path\n",
    "PATH=$CONDA_PREFIX/envs/soopervisor/bin:$PATH"
   ]
  },
  {
   "cell_type": "code",
   "execution_count": 5,
   "id": "74f4aef7-31ac-468f-90c8-f5d2ed71ac16",
   "metadata": {
    "tags": [
     "remove-cell"
    ]
   },
   "outputs": [
    {
     "name": "stdout",
     "output_type": "stream",
     "text": [
      "Deleting cluster \"kind\" ...\n"
     ]
    }
   ],
   "source": [
    "kind delete cluster"
   ]
  },
  {
   "cell_type": "markdown",
   "id": "215f0085-6693-4cb8-b3bb-1b70bc137195",
   "metadata": {},
   "source": [
    "Let's create a local Kubernetes cluster using `kind`:"
   ]
  },
  {
   "cell_type": "code",
   "execution_count": 6,
   "id": "e6aaa7d4-354d-4c00-bf21-6247dd87ab9f",
   "metadata": {},
   "outputs": [
    {
     "name": "stdout",
     "output_type": "stream",
     "text": [
      "Creating cluster \"kind\" ...\n",
      " \u001b[32m✓\u001b[0m Ensuring node image (kindest/node:v1.24.0) 🖼7l\n",
      " \u001b[32m✓\u001b[0m Preparing nodes 📦 7l\n",
      " \u001b[32m✓\u001b[0m Writing configuration 📜7l\n",
      " \u001b[32m✓\u001b[0m Starting control-plane 🕹️7l\n",
      " \u001b[32m✓\u001b[0m Installing CNI 🔌7l\n",
      " \u001b[32m✓\u001b[0m Installing StorageClass 💾7l\n",
      "Set kubectl context to \"kind-kind\"\n",
      "You can now use your cluster with:\n",
      "\n",
      "kubectl cluster-info --context kind-kind\n",
      "\n",
      "Have a question, bug, or feature request? Let us know! https://kind.sigs.k8s.io/#community 🙂\n"
     ]
    }
   ],
   "source": [
    "kind create cluster --config kind-config.yaml"
   ]
  },
  {
   "cell_type": "markdown",
   "id": "52ed285b-65e9-45aa-8243-58f581f01b83",
   "metadata": {},
   "source": [
    "Note that we're passing a configuration file, we'll mount the `./outputs` directory in the cluster in (`/host`). This will allow us to get the outputs upon execution:"
   ]
  },
  {
   "cell_type": "code",
   "execution_count": 34,
   "id": "9d6538a5-127e-43fa-83f3-b2ed0fd64f2c",
   "metadata": {},
   "outputs": [
    {
     "name": "stdout",
     "output_type": "stream",
     "text": [
      "apiVersion: kind.x-k8s.io/v1alpha4\n",
      "kind: Cluster\n",
      "nodes:\n",
      "  - role: control-plane\n",
      "    extraMounts:\n",
      "      - hostPath: outputs\n",
      "        containerPath: /host\n"
     ]
    }
   ],
   "source": [
    "cat kind-config.yaml"
   ]
  },
  {
   "cell_type": "markdown",
   "id": "d01d7907-3b7f-4003-9cc6-e0e403a1491e",
   "metadata": {},
   "source": [
    "Let's check if the cluster is ready:"
   ]
  },
  {
   "cell_type": "code",
   "execution_count": 3,
   "id": "62d8b37c-b3b8-4068-b617-8d64d843a77d",
   "metadata": {},
   "outputs": [
    {
     "name": "stdout",
     "output_type": "stream",
     "text": [
      "NAME                 STATUS   ROLES           AGE   VERSION\n",
      "kind-control-plane   Ready    control-plane   82s   v1.24.0\n"
     ]
    }
   ],
   "source": [
    "kubectl get nodes"
   ]
  },
  {
   "cell_type": "markdown",
   "id": "4fed317b-4da1-4785-b85b-5199081be910",
   "metadata": {},
   "source": [
    "Install Argo (for details, see the [docs](https://argoproj.github.io/argo-workflows/quick-start/)):"
   ]
  },
  {
   "cell_type": "code",
   "execution_count": 4,
   "id": "0ebc190e-3c42-4871-9edb-d6649f6a9de1",
   "metadata": {
    "tags": [
     "hide-output"
    ]
   },
   "outputs": [
    {
     "name": "stdout",
     "output_type": "stream",
     "text": [
      "namespace/argo created\n",
      "customresourcedefinition.apiextensions.k8s.io/clusterworkflowtemplates.argoproj.io created\n",
      "customresourcedefinition.apiextensions.k8s.io/cronworkflows.argoproj.io created\n",
      "customresourcedefinition.apiextensions.k8s.io/workfloweventbindings.argoproj.io created\n",
      "customresourcedefinition.apiextensions.k8s.io/workflows.argoproj.io created\n",
      "customresourcedefinition.apiextensions.k8s.io/workflowtaskresults.argoproj.io created\n",
      "customresourcedefinition.apiextensions.k8s.io/workflowtasksets.argoproj.io created\n",
      "customresourcedefinition.apiextensions.k8s.io/workflowtemplates.argoproj.io created\n",
      "serviceaccount/argo created\n",
      "serviceaccount/argo-server created\n",
      "role.rbac.authorization.k8s.io/argo-role created\n",
      "clusterrole.rbac.authorization.k8s.io/argo-aggregate-to-admin created\n",
      "clusterrole.rbac.authorization.k8s.io/argo-aggregate-to-edit created\n",
      "clusterrole.rbac.authorization.k8s.io/argo-aggregate-to-view created\n",
      "clusterrole.rbac.authorization.k8s.io/argo-cluster-role created\n",
      "clusterrole.rbac.authorization.k8s.io/argo-server-cluster-role created\n",
      "rolebinding.rbac.authorization.k8s.io/argo-binding created\n",
      "clusterrolebinding.rbac.authorization.k8s.io/argo-binding created\n",
      "clusterrolebinding.rbac.authorization.k8s.io/argo-server-binding created\n",
      "configmap/workflow-controller-configmap created\n",
      "service/argo-server created\n",
      "service/workflow-controller-metrics created\n",
      "priorityclass.scheduling.k8s.io/workflow-controller created\n",
      "deployment.apps/argo-server created\n",
      "deployment.apps/workflow-controller created\n"
     ]
    }
   ],
   "source": [
    "kubectl create namespace argo\n",
    "kubectl apply -n argo -f https://github.com/argoproj/argo-workflows/releases/download/v3.3.9/install.yaml"
   ]
  },
  {
   "cell_type": "markdown",
   "id": "ce677900-feec-4ad5-96e7-55f3ba99a9f2",
   "metadata": {},
   "source": [
    "Patch the UI so can bypass the login form:"
   ]
  },
  {
   "cell_type": "code",
   "execution_count": 5,
   "id": "a20926d7-4cbc-46bd-aec1-b2b362aed767",
   "metadata": {},
   "outputs": [
    {
     "name": "stdout",
     "output_type": "stream",
     "text": [
      "deployment.apps/argo-server patched\n"
     ]
    }
   ],
   "source": [
    "kubectl patch deployment \\\n",
    "  argo-server \\\n",
    "  --namespace argo \\\n",
    "  --type='json' \\\n",
    "  -p='[{\"op\": \"replace\", \"path\": \"/spec/template/spec/containers/0/args\", \"value\": [\n",
    "  \"server\",\n",
    "  \"--auth-mode=server\"\n",
    "]}]'"
   ]
  },
  {
   "cell_type": "markdown",
   "id": "842140a0-13d3-488d-a1ed-f001bcc2b9f2",
   "metadata": {},
   "source": [
    "```{note}\n",
    "To access Argo's UI, open a terminal and execute:\n",
    "\n",
    "`kubectl -n argo port-forward deployment/argo-server 2746:2746`\n",
    "\n",
    "Then, open: https://localhost:2746/\n",
    "```"
   ]
  },
  {
   "cell_type": "markdown",
   "id": "fe233801-8480-4161-8564-d07b4904e609",
   "metadata": {},
   "source": [
    "Let's give it a few seconds for the cluster to fully initialize:"
   ]
  },
  {
   "cell_type": "code",
   "execution_count": 37,
   "id": "9168ed90-f08e-45f7-8b10-8186a6f371a1",
   "metadata": {},
   "outputs": [],
   "source": [
    "sleep 5"
   ]
  },
  {
   "cell_type": "markdown",
   "id": "a16603de-8688-4ed3-85fe-3a2af10b238f",
   "metadata": {},
   "source": [
    "If the pods show as \"Running\", we're ready to go:"
   ]
  },
  {
   "cell_type": "code",
   "execution_count": 11,
   "id": "2c3fed17-8601-4cd3-aab9-d9ebc3571576",
   "metadata": {},
   "outputs": [
    {
     "name": "stdout",
     "output_type": "stream",
     "text": [
      "NAME                                   READY   STATUS    RESTARTS   AGE\n",
      "argo-server-57cf87c886-wfrg6           1/1     Running   0          27s\n",
      "workflow-controller-77c44779bf-lb64s   1/1     Running   0          29s\n"
     ]
    }
   ],
   "source": [
    "kubectl get pods -n argo"
   ]
  },
  {
   "cell_type": "markdown",
   "id": "1c601dfb-2465-4b37-a3d1-b70a10e5def3",
   "metadata": {},
   "source": [
    "Let's intall the dependencies:"
   ]
  },
  {
   "cell_type": "code",
   "execution_count": 31,
   "id": "eeb4f977-207b-4171-b015-820cc6b0528b",
   "metadata": {},
   "outputs": [],
   "source": [
    "pip install ploomber soopervisor --quiet"
   ]
  },
  {
   "cell_type": "markdown",
   "id": "2f723300-70e4-48eb-b1f0-cdd9a402996a",
   "metadata": {},
   "source": [
    "We now download an example:"
   ]
  },
  {
   "cell_type": "code",
   "execution_count": 14,
   "id": "59c90698-33ae-419f-aefc-7a36f6c86376",
   "metadata": {},
   "outputs": [
    {
     "name": "stdout",
     "output_type": "stream",
     "text": [
      "Loading examples...\n",
      "\u001b[34m======== Copying example templates/ml-intermediate to ml-intermediate/ =========\u001b[0m\n",
      "Next steps:\n",
      "\n",
      "$ cd ml-intermediate/\n",
      "$ ploomber install\u001b[34m\n",
      "\n",
      "Open ml-intermediate/README.md for details.\n",
      "\u001b[0m\u001b[0m"
     ]
    }
   ],
   "source": [
    "ploomber examples -n templates/ml-intermediate -o ml-intermediate\n",
    "cd ml-intermediate"
   ]
  },
  {
   "cell_type": "markdown",
   "id": "16a2899a-b4bf-4142-8e05-4e568d94f87f",
   "metadata": {},
   "source": [
    "Install the example's dependencies:"
   ]
  },
  {
   "cell_type": "code",
   "execution_count": 38,
   "id": "d65e515b-248b-4310-b6b9-671e1ba06f2d",
   "metadata": {},
   "outputs": [],
   "source": [
    "cp requirements.txt requirements.lock.txt"
   ]
  },
  {
   "cell_type": "code",
   "execution_count": 17,
   "id": "70f7a555-b231-49f9-8fde-0f60ed15b385",
   "metadata": {},
   "outputs": [],
   "source": [
    "pip install -r requirements.txt --quiet"
   ]
  },
  {
   "cell_type": "markdown",
   "id": "92358e6f-8ca9-40a5-9ad0-cd07db3b100a",
   "metadata": {},
   "source": [
    "We now create a new `soopervisor` environment that uses Argo as backend:"
   ]
  },
  {
   "cell_type": "code",
   "execution_count": 18,
   "id": "01e68e49-09c5-4777-84f8-5c42637ecfc4",
   "metadata": {},
   "outputs": [
    {
     "name": "stdout",
     "output_type": "stream",
     "text": [
      "\u001b[34m================================= Loading DAG ==================================\u001b[0m\n",
      "No pipeline.training.yaml found, looking for pipeline.yaml instead\n",
      "Found /Users/Edu/dev/soopervisor/kind/doc/ml-intermediate/pipeline.yaml. Loading...\n",
      "\u001b[34m= Adding /Users/Edu/dev/soopervisor/kind/doc/ml-intermediate/training/Dockerfile... =\u001b[0m\n",
      "\u001b[32m===================================== Done =====================================\u001b[0m\n",
      "Environment added, to export it:\n",
      "\t $ soopervisor export training\n",
      "To force execution of all tasks:\n",
      "\t $ soopervisor export training --mode force\n",
      "\n",
      "\u001b[0m"
     ]
    }
   ],
   "source": [
    "soopervisor add training --backend argo-workflows"
   ]
  },
  {
   "cell_type": "markdown",
   "id": "b47b4a66-6ba4-430b-9cda-b8fb52c82f74",
   "metadata": {},
   "source": [
    "Let's download our configuration files:"
   ]
  },
  {
   "cell_type": "code",
   "execution_count": 19,
   "id": "7a5193a1-509d-41cd-8272-08cd831b1deb",
   "metadata": {},
   "outputs": [
    {
     "name": "stdout",
     "output_type": "stream",
     "text": [
      "  % Total    % Received % Xferd  Average Speed   Time    Time     Time  Current\n",
      "                                 Dload  Upload   Total   Spent    Left  Speed\n",
      "100    38  100    38    0     0    151      0 --:--:-- --:--:-- --:--:--   151\n",
      "You have new mail in /var/mail/Edu\n"
     ]
    }
   ],
   "source": [
    "curl https://raw.githubusercontent.com/ploomber/soopervisor/master/tutorials/kubernetes/env-k8s.yaml -o env.yaml"
   ]
  },
  {
   "cell_type": "markdown",
   "id": "13d159e3-6a83-4650-a29b-b3ebae599d39",
   "metadata": {},
   "source": [
    "This will allow us to store all pipeline outputs in a shared folder:"
   ]
  },
  {
   "cell_type": "code",
   "execution_count": 46,
   "id": "ea1a5d81-4f8a-4c59-a19a-bd63e9f1b322",
   "metadata": {},
   "outputs": [
    {
     "name": "stdout",
     "output_type": "stream",
     "text": [
      "sample: False\n",
      "root: /mnt/shared-folder"
     ]
    }
   ],
   "source": [
    "cat env.yaml"
   ]
  },
  {
   "cell_type": "code",
   "execution_count": 20,
   "id": "b261c51d-20f4-4079-9b4b-339bf0a4f918",
   "metadata": {},
   "outputs": [
    {
     "name": "stdout",
     "output_type": "stream",
     "text": [
      "  % Total    % Received % Xferd  Average Speed   Time    Time     Time  Current\n",
      "                                 Dload  Upload   Total   Spent    Left  Speed\n",
      "100   284  100   284    0     0   1378      0 --:--:-- --:--:-- --:--:--  1378\n"
     ]
    }
   ],
   "source": [
    "curl https://raw.githubusercontent.com/ploomber/soopervisor/master/tutorials/kubernetes/soopervisor-k8s.yaml -o soopervisor.yaml"
   ]
  },
  {
   "cell_type": "markdown",
   "id": "810d5d20-76b8-4584-a01a-f3ebf6986290",
   "metadata": {},
   "source": [
    "And this will mount the `/host` folder in the pod (so we can see the outputs in our local `outputs/` directory):"
   ]
  },
  {
   "cell_type": "code",
   "execution_count": 48,
   "id": "a496de14-ca7b-4401-9531-b159c11d9fe5",
   "metadata": {},
   "outputs": [
    {
     "name": "stdout",
     "output_type": "stream",
     "text": [
      "training:\n",
      "  backend: argo-workflows\n",
      "  # we are not uploading the docker image, set to null\n",
      "  repository: null\n",
      "  # mount the /host folder, it will be visible to pods in /mnt/shared-folder\n",
      "  mounted_volumes:\n",
      "    - name: shared-folder\n",
      "      spec:\n",
      "        hostPath:\n",
      "          path: /host\n",
      "You have new mail in /var/mail/Edu\n"
     ]
    }
   ],
   "source": [
    "cat soopervisor.yaml"
   ]
  },
  {
   "cell_type": "markdown",
   "id": "29fac1f8-1392-4701-8307-980efb1bd8c2",
   "metadata": {},
   "source": [
    "The `soopervisor export` command will generate the Argo YAML spec and build the docker image:"
   ]
  },
  {
   "cell_type": "code",
   "execution_count": 21,
   "id": "1d131829-cc98-44f2-bdb2-e4bc859da527",
   "metadata": {
    "tags": [
     "hide-output"
    ]
   },
   "outputs": [
    {
     "name": "stdout",
     "output_type": "stream",
     "text": [
      "\u001b[34m================================= Loading DAG ==================================\u001b[0m\n",
      "No pipeline.training.yaml found, looking for pipeline.yaml instead\n",
      "Found /Users/Edu/dev/soopervisor/kind/doc/ml-intermediate/pipeline.yaml. Loading...\n",
      "\u001b[34m================================= Loading DAG ==================================\u001b[0m\n",
      "No pipeline.training.yaml found, looking for pipeline.yaml instead\n",
      "Found /Users/Edu/dev/soopervisor/kind/doc/ml-intermediate/pipeline.yaml. Loading...\n",
      "100%|███████████████████████████████████████████| 5/5 [00:00<00:00, 3221.43it/s]\n",
      "\u001b[34m================================ Packaging code ================================\u001b[0m\n",
      "Copying soopervisor.yaml -> dist/ml-intermediate/soopervisor.yaml\n",
      "Copying env.serve.yaml -> dist/ml-intermediate/env.serve.yaml\n",
      "Copying tasks/__init__.py -> dist/ml-intermediate/tasks/__init__.py\n",
      "Copying tasks/serve.py -> dist/ml-intermediate/tasks/serve.py\n",
      "Copying tasks/features.py -> dist/ml-intermediate/tasks/features.py\n",
      "Copying tasks/join.py -> dist/ml-intermediate/tasks/join.py\n",
      "Copying tasks/get.py -> dist/ml-intermediate/tasks/get.py\n",
      "Copying fit.py -> dist/ml-intermediate/fit.py\n",
      "Copying requirements.txt -> dist/ml-intermediate/requirements.txt\n",
      "Copying environment.yml -> dist/ml-intermediate/environment.yml\n",
      "Copying env.yaml -> dist/ml-intermediate/env.yaml\n",
      "Copying training/Dockerfile -> dist/ml-intermediate/training/Dockerfile\n",
      "Copying training/requirements.lock.txt -> dist/ml-intermediate/training/requirements.lock.txt\n",
      "Copying README.ipynb -> dist/ml-intermediate/README.ipynb\n",
      "Copying integration.py -> dist/ml-intermediate/integration.py\n",
      "Copying README.md -> dist/ml-intermediate/README.md\n",
      "Copying clients.py -> dist/ml-intermediate/clients.py\n",
      "Copying partial.features.yaml -> dist/ml-intermediate/partial.features.yaml\n",
      "Copying _source.md -> dist/ml-intermediate/_source.md\n",
      "Copying requirements.lock.txt -> dist/ml-intermediate/requirements.lock.txt\n",
      "Copying env.local.yaml -> dist/ml-intermediate/env.local.yaml\n",
      "Copying pipeline.yaml -> dist/ml-intermediate/pipeline.yaml\n",
      "Copying pipeline.serve.yaml -> dist/ml-intermediate/pipeline.serve.yaml\n",
      "Compressing directory , src : dist/ml-intermediate, dst : dist/ml-intermediate.tar.gz\n",
      "docker args: ['docker', 'build', '.', '--tag', 'ml-intermediate:latest-default']\n",
      "\u001b[34m===== Building image: docker build . --tag ml-intermediate:latest-default ======\u001b[0m\n",
      "\u001b[1A\u001b[1B\u001b[0G\u001b[?25l[+] Building 0.0s (0/1)                                                         \n",
      "\u001b[?25h\u001b[1A\u001b[0G\u001b[?25l[+] Building 0.1s (2/2)                                                         \n",
      "\u001b[34m => [internal] load build definition from Dockerfile                       0.1s\n",
      "\u001b[0m\u001b[34m => => transferring dockerfile: 495B                                       0.0s\n",
      "\u001b[0m\u001b[34m => [internal] load .dockerignore                                          0.0s\n",
      "\u001b[0m\u001b[34m => => transferring context: 2B                                            0.0s\n",
      "\u001b[0m\u001b[?25h\u001b[1A\u001b[1A\u001b[1A\u001b[1A\u001b[1A\u001b[0G\u001b[?25l[+] Building 0.3s (2/3)                                                         \n",
      "\u001b[34m => [internal] load build definition from Dockerfile                       0.1s\n",
      "\u001b[0m\u001b[34m => => transferring dockerfile: 495B                                       0.0s\n",
      "\u001b[0m\u001b[34m => [internal] load .dockerignore                                          0.0s\n",
      "\u001b[0m\u001b[34m => => transferring context: 2B                                            0.0s\n",
      "\u001b[0m => [internal] load metadata for docker.io/condaforge/mambaforge:4.10.1-0  0.1s\n",
      "\u001b[?25h\u001b[1A\u001b[1A\u001b[1A\u001b[1A\u001b[1A\u001b[1A\u001b[0G\u001b[?25l[+] Building 0.4s (2/3)                                                         \n",
      "\u001b[34m => [internal] load build definition from Dockerfile                       0.1s\n",
      "\u001b[0m\u001b[34m => => transferring dockerfile: 495B                                       0.0s\n",
      "\u001b[0m\u001b[34m => [internal] load .dockerignore                                          0.0s\n",
      "\u001b[0m\u001b[34m => => transferring context: 2B                                            0.0s\n",
      "\u001b[0m => [internal] load metadata for docker.io/condaforge/mambaforge:4.10.1-0  0.3s\n",
      "\u001b[?25h\u001b[1A\u001b[1A\u001b[1A\u001b[1A\u001b[1A\u001b[1A\u001b[0G\u001b[?25l[+] Building 0.6s (2/3)                                                         \n",
      "\u001b[34m => [internal] load build definition from Dockerfile                       0.1s\n",
      "\u001b[0m\u001b[34m => => transferring dockerfile: 495B                                       0.0s\n",
      "\u001b[0m\u001b[34m => [internal] load .dockerignore                                          0.0s\n",
      "\u001b[0m\u001b[34m => => transferring context: 2B                                            0.0s\n",
      "\u001b[0m => [internal] load metadata for docker.io/condaforge/mambaforge:4.10.1-0  0.4s\n",
      "\u001b[?25h\u001b[1A\u001b[1A\u001b[1A\u001b[1A\u001b[1A\u001b[1A\u001b[0G\u001b[?25l[+] Building 0.7s (2/3)                                                         \n",
      "\u001b[34m => [internal] load build definition from Dockerfile                       0.1s\n",
      "\u001b[0m\u001b[34m => => transferring dockerfile: 495B                                       0.0s\n",
      "\u001b[0m\u001b[34m => [internal] load .dockerignore                                          0.0s\n",
      "\u001b[0m\u001b[34m => => transferring context: 2B                                            0.0s\n",
      "\u001b[0m => [internal] load metadata for docker.io/condaforge/mambaforge:4.10.1-0  0.6s\n",
      "\u001b[?25h\u001b[1A\u001b[1A\u001b[1A\u001b[1A\u001b[1A\u001b[1A\u001b[0G\u001b[?25l[+] Building 0.9s (2/3)                                                         \n",
      "\u001b[34m => [internal] load build definition from Dockerfile                       0.1s\n",
      "\u001b[0m\u001b[34m => => transferring dockerfile: 495B                                       0.0s\n",
      "\u001b[0m\u001b[34m => [internal] load .dockerignore                                          0.0s\n",
      "\u001b[0m\u001b[34m => => transferring context: 2B                                            0.0s\n",
      "\u001b[0m => [internal] load metadata for docker.io/condaforge/mambaforge:4.10.1-0  0.7s\n",
      "\u001b[?25h\u001b[1A\u001b[1A\u001b[1A\u001b[1A\u001b[1A\u001b[1A\u001b[0G\u001b[?25l[+] Building 1.1s (2/3)                                                         \n",
      "\u001b[34m => [internal] load build definition from Dockerfile                       0.1s\n",
      "\u001b[0m\u001b[34m => => transferring dockerfile: 495B                                       0.0s\n",
      "\u001b[0m\u001b[34m => [internal] load .dockerignore                                          0.0s\n",
      "\u001b[0m\u001b[34m => => transferring context: 2B                                            0.0s\n",
      "\u001b[0m => [internal] load metadata for docker.io/condaforge/mambaforge:4.10.1-0  0.9s\n",
      "\u001b[?25h\u001b[1A\u001b[1A\u001b[1A\u001b[1A\u001b[1A\u001b[1A\u001b[0G\u001b[?25l[+] Building 1.2s (2/3)                                                         \n",
      "\u001b[34m => [internal] load build definition from Dockerfile                       0.1s\n",
      "\u001b[0m\u001b[34m => => transferring dockerfile: 495B                                       0.0s\n",
      "\u001b[0m\u001b[34m => [internal] load .dockerignore                                          0.0s\n",
      "\u001b[0m\u001b[34m => => transferring context: 2B                                            0.0s\n",
      "\u001b[0m => [internal] load metadata for docker.io/condaforge/mambaforge:4.10.1-0  1.0s\n",
      "\u001b[?25h\u001b[1A\u001b[1A\u001b[1A\u001b[1A\u001b[1A\u001b[1A\u001b[0G\u001b[?25l[+] Building 1.4s (2/3)                                                         \n",
      "\u001b[34m => [internal] load build definition from Dockerfile                       0.1s\n",
      "\u001b[0m\u001b[34m => => transferring dockerfile: 495B                                       0.0s\n",
      "\u001b[0m\u001b[34m => [internal] load .dockerignore                                          0.0s\n",
      "\u001b[0m\u001b[34m => => transferring context: 2B                                            0.0s\n",
      "\u001b[0m => [internal] load metadata for docker.io/condaforge/mambaforge:4.10.1-0  1.2s\n",
      "\u001b[?25h\u001b[1A\u001b[1A\u001b[1A\u001b[1A\u001b[1A\u001b[1A\u001b[0G\u001b[?25l[+] Building 1.5s (2/3)                                                         \n",
      "\u001b[34m => [internal] load build definition from Dockerfile                       0.1s\n",
      "\u001b[0m\u001b[34m => => transferring dockerfile: 495B                                       0.0s\n",
      "\u001b[0m\u001b[34m => [internal] load .dockerignore                                          0.0s\n",
      "\u001b[0m\u001b[34m => => transferring context: 2B                                            0.0s\n",
      "\u001b[0m => [internal] load metadata for docker.io/condaforge/mambaforge:4.10.1-0  1.4s\n",
      "\u001b[?25h\u001b[1A\u001b[1A\u001b[1A\u001b[1A\u001b[1A\u001b[1A\u001b[0G\u001b[?25l[+] Building 1.7s (2/3)                                                         \n",
      "\u001b[34m => [internal] load build definition from Dockerfile                       0.1s\n",
      "\u001b[0m\u001b[34m => => transferring dockerfile: 495B                                       0.0s\n",
      "\u001b[0m\u001b[34m => [internal] load .dockerignore                                          0.0s\n",
      "\u001b[0m\u001b[34m => => transferring context: 2B                                            0.0s\n",
      "\u001b[0m => [internal] load metadata for docker.io/condaforge/mambaforge:4.10.1-0  1.5s\n",
      "\u001b[?25h\u001b[1A\u001b[1A\u001b[1A\u001b[1A\u001b[1A\u001b[1A\u001b[0G\u001b[?25l[+] Building 1.8s (8/11)                                                        \n",
      "\u001b[34m => [internal] load build definition from Dockerfile                       0.1s\n",
      "\u001b[0m\u001b[34m => => transferring dockerfile: 495B                                       0.0s\n",
      "\u001b[0m\u001b[34m => [internal] load .dockerignore                                          0.0s\n",
      "\u001b[0m\u001b[34m => => transferring context: 2B                                            0.0s\n",
      "\u001b[0m\u001b[34m => [internal] load metadata for docker.io/condaforge/mambaforge:4.10.1-0  1.5s\n",
      "\u001b[0m\u001b[34m => [1/7] FROM docker.io/condaforge/mambaforge:4.10.1-0@sha256:0afe653d5d  0.0s\n",
      "\u001b[0m\u001b[34m => [internal] load build context                                          0.0s\n",
      "\u001b[0m\u001b[34m => => transferring context: 127.35kB                                      0.0s\n",
      "\u001b[0m\u001b[34m => CACHED [2/7] COPY requirements.lock.txt project/requirements.lock.txt  0.0s\n",
      "\u001b[0m\u001b[34m => CACHED [3/7] RUN pip install --requirement project/requirements.lock.  0.0s\n",
      "\u001b[0m\u001b[34m => [4/7] COPY dist/* project/                                             0.0s\n",
      "\u001b[0m\u001b[?25h\u001b[1A\u001b[1A\u001b[1A\u001b[1A\u001b[1A\u001b[1A\u001b[1A\u001b[1A\u001b[1A\u001b[1A\u001b[1A\u001b[1A\u001b[0G\u001b[?25l[+] Building 1.9s (9/11)                                                        \n",
      "\u001b[34m => [internal] load build definition from Dockerfile                       0.1s\n",
      "\u001b[0m\u001b[34m => => transferring dockerfile: 495B                                       0.0s\n",
      "\u001b[0m\u001b[34m => [internal] load .dockerignore                                          0.0s\n",
      "\u001b[0m\u001b[34m => => transferring context: 2B                                            0.0s\n",
      "\u001b[0m\u001b[34m => [internal] load metadata for docker.io/condaforge/mambaforge:4.10.1-0  1.5s\n",
      "\u001b[0m\u001b[34m => [1/7] FROM docker.io/condaforge/mambaforge:4.10.1-0@sha256:0afe653d5d  0.0s\n",
      "\u001b[0m\u001b[34m => [internal] load build context                                          0.0s\n",
      "\u001b[0m\u001b[34m => => transferring context: 127.35kB                                      0.0s\n",
      "\u001b[0m\u001b[34m => CACHED [2/7] COPY requirements.lock.txt project/requirements.lock.txt  0.0s\n",
      "\u001b[0m\u001b[34m => CACHED [3/7] RUN pip install --requirement project/requirements.lock.  0.0s\n",
      "\u001b[0m\u001b[34m => [4/7] COPY dist/* project/                                             0.0s\n",
      "\u001b[0m\u001b[34m => [5/7] WORKDIR /project/                                                0.0s\n",
      "\u001b[0m => [6/7] RUN tar --strip-components=1 -zxvf *.tar.gz                      0.1s\n",
      "\u001b[?25h\u001b[1A\u001b[1A\u001b[1A\u001b[1A\u001b[1A\u001b[1A\u001b[1A\u001b[1A\u001b[1A\u001b[1A\u001b[1A\u001b[1A\u001b[1A\u001b[1A\u001b[0G\u001b[?25l[+] Building 2.1s (9/11)                                                        \n",
      "\u001b[34m => [internal] load build definition from Dockerfile                       0.1s\n",
      "\u001b[0m\u001b[34m => => transferring dockerfile: 495B                                       0.0s\n",
      "\u001b[0m\u001b[34m => [internal] load .dockerignore                                          0.0s\n",
      "\u001b[0m\u001b[34m => => transferring context: 2B                                            0.0s\n",
      "\u001b[0m\u001b[34m => [internal] load metadata for docker.io/condaforge/mambaforge:4.10.1-0  1.5s\n",
      "\u001b[0m\u001b[34m => [1/7] FROM docker.io/condaforge/mambaforge:4.10.1-0@sha256:0afe653d5d  0.0s\n",
      "\u001b[0m\u001b[34m => [internal] load build context                                          0.0s\n",
      "\u001b[0m\u001b[34m => => transferring context: 127.35kB                                      0.0s\n",
      "\u001b[0m\u001b[34m => CACHED [2/7] COPY requirements.lock.txt project/requirements.lock.txt  0.0s\n",
      "\u001b[0m\u001b[34m => CACHED [3/7] RUN pip install --requirement project/requirements.lock.  0.0s\n",
      "\u001b[0m\u001b[34m => [4/7] COPY dist/* project/                                             0.0s\n",
      "\u001b[0m\u001b[34m => [5/7] WORKDIR /project/                                                0.0s\n",
      "\u001b[0m => [6/7] RUN tar --strip-components=1 -zxvf *.tar.gz                      0.3s\n",
      "\u001b[?25h\u001b[1A\u001b[1A\u001b[1A\u001b[1A\u001b[1A\u001b[1A\u001b[1A\u001b[1A\u001b[1A\u001b[1A\u001b[1A\u001b[1A\u001b[1A\u001b[1A\u001b[0G\u001b[?25l[+] Building 2.2s (9/11)                                                        \n",
      "\u001b[34m => [internal] load build definition from Dockerfile                       0.1s\n",
      "\u001b[0m\u001b[34m => => transferring dockerfile: 495B                                       0.0s\n",
      "\u001b[0m\u001b[34m => [internal] load .dockerignore                                          0.0s\n",
      "\u001b[0m\u001b[34m => => transferring context: 2B                                            0.0s\n",
      "\u001b[0m\u001b[34m => [internal] load metadata for docker.io/condaforge/mambaforge:4.10.1-0  1.5s\n",
      "\u001b[0m\u001b[34m => [1/7] FROM docker.io/condaforge/mambaforge:4.10.1-0@sha256:0afe653d5d  0.0s\n",
      "\u001b[0m\u001b[34m => [internal] load build context                                          0.0s\n",
      "\u001b[0m\u001b[34m => => transferring context: 127.35kB                                      0.0s\n",
      "\u001b[0m\u001b[34m => CACHED [2/7] COPY requirements.lock.txt project/requirements.lock.txt  0.0s\n",
      "\u001b[0m\u001b[34m => CACHED [3/7] RUN pip install --requirement project/requirements.lock.  0.0s\n",
      "\u001b[0m\u001b[34m => [4/7] COPY dist/* project/                                             0.0s\n",
      "\u001b[0m\u001b[34m => [5/7] WORKDIR /project/                                                0.0s\n",
      "\u001b[0m => [6/7] RUN tar --strip-components=1 -zxvf *.tar.gz                      0.4s\n",
      "\u001b[?25h\u001b[1A\u001b[1A\u001b[1A\u001b[1A\u001b[1A\u001b[1A\u001b[1A\u001b[1A\u001b[1A\u001b[1A\u001b[1A\u001b[1A\u001b[1A\u001b[1A\u001b[0G\u001b[?25l[+] Building 2.4s (9/11)                                                        \n",
      "\u001b[34m => [internal] load build definition from Dockerfile                       0.1s\n",
      "\u001b[0m\u001b[34m => => transferring dockerfile: 495B                                       0.0s\n",
      "\u001b[0m\u001b[34m => [internal] load .dockerignore                                          0.0s\n",
      "\u001b[0m\u001b[34m => => transferring context: 2B                                            0.0s\n",
      "\u001b[0m\u001b[34m => [internal] load metadata for docker.io/condaforge/mambaforge:4.10.1-0  1.5s\n",
      "\u001b[0m\u001b[34m => [1/7] FROM docker.io/condaforge/mambaforge:4.10.1-0@sha256:0afe653d5d  0.0s\n",
      "\u001b[0m\u001b[34m => [internal] load build context                                          0.0s\n",
      "\u001b[0m\u001b[34m => => transferring context: 127.35kB                                      0.0s\n",
      "\u001b[0m\u001b[34m => CACHED [2/7] COPY requirements.lock.txt project/requirements.lock.txt  0.0s\n",
      "\u001b[0m\u001b[34m => CACHED [3/7] RUN pip install --requirement project/requirements.lock.  0.0s\n",
      "\u001b[0m\u001b[34m => [4/7] COPY dist/* project/                                             0.0s\n",
      "\u001b[0m\u001b[34m => [5/7] WORKDIR /project/                                                0.0s\n",
      "\u001b[0m => [6/7] RUN tar --strip-components=1 -zxvf *.tar.gz                      0.6s\n",
      "\u001b[?25h\u001b[1A\u001b[1A\u001b[1A\u001b[1A\u001b[1A\u001b[1A\u001b[1A\u001b[1A\u001b[1A\u001b[1A\u001b[1A\u001b[1A\u001b[1A\u001b[1A\u001b[0G\u001b[?25l[+] Building 2.5s (9/11)                                                        \n",
      "\u001b[34m => [internal] load build definition from Dockerfile                       0.1s\n",
      "\u001b[0m\u001b[34m => => transferring dockerfile: 495B                                       0.0s\n",
      "\u001b[0m\u001b[34m => [internal] load .dockerignore                                          0.0s\n",
      "\u001b[0m\u001b[34m => => transferring context: 2B                                            0.0s\n",
      "\u001b[0m\u001b[34m => [internal] load metadata for docker.io/condaforge/mambaforge:4.10.1-0  1.5s\n",
      "\u001b[0m\u001b[34m => [1/7] FROM docker.io/condaforge/mambaforge:4.10.1-0@sha256:0afe653d5d  0.0s\n",
      "\u001b[0m\u001b[34m => [internal] load build context                                          0.0s\n",
      "\u001b[0m\u001b[34m => => transferring context: 127.35kB                                      0.0s\n",
      "\u001b[0m\u001b[34m => CACHED [2/7] COPY requirements.lock.txt project/requirements.lock.txt  0.0s\n",
      "\u001b[0m\u001b[34m => CACHED [3/7] RUN pip install --requirement project/requirements.lock.  0.0s\n",
      "\u001b[0m\u001b[34m => [4/7] COPY dist/* project/                                             0.0s\n",
      "\u001b[0m\u001b[34m => [5/7] WORKDIR /project/                                                0.0s\n",
      "\u001b[0m => [6/7] RUN tar --strip-components=1 -zxvf *.tar.gz                      0.7s\n",
      "\u001b[?25h\u001b[1A\u001b[1A\u001b[1A\u001b[1A\u001b[1A\u001b[1A\u001b[1A\u001b[1A\u001b[1A\u001b[1A\u001b[1A\u001b[1A\u001b[1A\u001b[1A\u001b[0G\u001b[?25l[+] Building 2.7s (9/11)                                                        \n",
      "\u001b[34m => [internal] load build definition from Dockerfile                       0.1s\n",
      "\u001b[0m\u001b[34m => => transferring dockerfile: 495B                                       0.0s\n",
      "\u001b[0m\u001b[34m => [internal] load .dockerignore                                          0.0s\n",
      "\u001b[0m\u001b[34m => => transferring context: 2B                                            0.0s\n",
      "\u001b[0m\u001b[34m => [internal] load metadata for docker.io/condaforge/mambaforge:4.10.1-0  1.5s\n",
      "\u001b[0m\u001b[34m => [1/7] FROM docker.io/condaforge/mambaforge:4.10.1-0@sha256:0afe653d5d  0.0s\n",
      "\u001b[0m\u001b[34m => [internal] load build context                                          0.0s\n",
      "\u001b[0m\u001b[34m => => transferring context: 127.35kB                                      0.0s\n",
      "\u001b[0m\u001b[34m => CACHED [2/7] COPY requirements.lock.txt project/requirements.lock.txt  0.0s\n",
      "\u001b[0m\u001b[34m => CACHED [3/7] RUN pip install --requirement project/requirements.lock.  0.0s\n",
      "\u001b[0m\u001b[34m => [4/7] COPY dist/* project/                                             0.0s\n",
      "\u001b[0m\u001b[34m => [5/7] WORKDIR /project/                                                0.0s\n",
      "\u001b[0m => [6/7] RUN tar --strip-components=1 -zxvf *.tar.gz                      0.9s\n",
      "\u001b[?25h\u001b[1A\u001b[1A\u001b[1A\u001b[1A\u001b[1A\u001b[1A\u001b[1A\u001b[1A\u001b[1A\u001b[1A\u001b[1A\u001b[1A\u001b[1A\u001b[1A\u001b[0G\u001b[?25l[+] Building 2.8s (9/11)                                                        \n",
      "\u001b[34m => [internal] load build definition from Dockerfile                       0.1s\n",
      "\u001b[0m\u001b[34m => => transferring dockerfile: 495B                                       0.0s\n",
      "\u001b[0m\u001b[34m => [internal] load .dockerignore                                          0.0s\n",
      "\u001b[0m\u001b[34m => => transferring context: 2B                                            0.0s\n",
      "\u001b[0m\u001b[34m => [internal] load metadata for docker.io/condaforge/mambaforge:4.10.1-0  1.5s\n",
      "\u001b[0m\u001b[34m => [1/7] FROM docker.io/condaforge/mambaforge:4.10.1-0@sha256:0afe653d5d  0.0s\n",
      "\u001b[0m\u001b[34m => [internal] load build context                                          0.0s\n",
      "\u001b[0m\u001b[34m => => transferring context: 127.35kB                                      0.0s\n",
      "\u001b[0m\u001b[34m => CACHED [2/7] COPY requirements.lock.txt project/requirements.lock.txt  0.0s\n",
      "\u001b[0m\u001b[34m => CACHED [3/7] RUN pip install --requirement project/requirements.lock.  0.0s\n",
      "\u001b[0m\u001b[34m => [4/7] COPY dist/* project/                                             0.0s\n",
      "\u001b[0m\u001b[34m => [5/7] WORKDIR /project/                                                0.0s\n",
      "\u001b[0m => [6/7] RUN tar --strip-components=1 -zxvf *.tar.gz                      1.0s\n",
      "\u001b[?25h\u001b[1A\u001b[1A\u001b[1A\u001b[1A\u001b[1A\u001b[1A\u001b[1A\u001b[1A\u001b[1A\u001b[1A\u001b[1A\u001b[1A\u001b[1A\u001b[1A\u001b[0G\u001b[?25l[+] Building 3.0s (10/11)                                                       \n",
      "\u001b[34m => [internal] load build definition from Dockerfile                       0.1s\n",
      "\u001b[0m\u001b[34m => => transferring dockerfile: 495B                                       0.0s\n",
      "\u001b[0m\u001b[34m => [internal] load .dockerignore                                          0.0s\n",
      "\u001b[0m\u001b[34m => => transferring context: 2B                                            0.0s\n",
      "\u001b[0m\u001b[34m => [internal] load metadata for docker.io/condaforge/mambaforge:4.10.1-0  1.5s\n",
      "\u001b[0m\u001b[34m => [1/7] FROM docker.io/condaforge/mambaforge:4.10.1-0@sha256:0afe653d5d  0.0s\n",
      "\u001b[0m\u001b[34m => [internal] load build context                                          0.0s\n",
      "\u001b[0m\u001b[34m => => transferring context: 127.35kB                                      0.0s\n",
      "\u001b[0m\u001b[34m => CACHED [2/7] COPY requirements.lock.txt project/requirements.lock.txt  0.0s\n",
      "\u001b[0m\u001b[34m => CACHED [3/7] RUN pip install --requirement project/requirements.lock.  0.0s\n",
      "\u001b[0m\u001b[34m => [4/7] COPY dist/* project/                                             0.0s\n",
      "\u001b[0m\u001b[34m => [5/7] WORKDIR /project/                                                0.0s\n",
      "\u001b[0m\u001b[34m => [6/7] RUN tar --strip-components=1 -zxvf *.tar.gz                      1.1s\n",
      "\u001b[0m\u001b[?25h\u001b[1A\u001b[1A\u001b[1A\u001b[1A\u001b[1A\u001b[1A\u001b[1A\u001b[1A\u001b[1A\u001b[1A\u001b[1A\u001b[1A\u001b[1A\u001b[1A\u001b[0G\u001b[?25l[+] Building 3.1s (10/11)                                                       \n",
      "\u001b[34m => [internal] load build definition from Dockerfile                       0.1s\n",
      "\u001b[0m\u001b[34m => => transferring dockerfile: 495B                                       0.0s\n",
      "\u001b[0m\u001b[34m => [internal] load .dockerignore                                          0.0s\n",
      "\u001b[0m\u001b[34m => => transferring context: 2B                                            0.0s\n",
      "\u001b[0m\u001b[34m => [internal] load metadata for docker.io/condaforge/mambaforge:4.10.1-0  1.5s\n",
      "\u001b[0m\u001b[34m => [1/7] FROM docker.io/condaforge/mambaforge:4.10.1-0@sha256:0afe653d5d  0.0s\n",
      "\u001b[0m\u001b[34m => [internal] load build context                                          0.0s\n",
      "\u001b[0m\u001b[34m => => transferring context: 127.35kB                                      0.0s\n",
      "\u001b[0m\u001b[34m => CACHED [2/7] COPY requirements.lock.txt project/requirements.lock.txt  0.0s\n",
      "\u001b[0m\u001b[34m => CACHED [3/7] RUN pip install --requirement project/requirements.lock.  0.0s\n",
      "\u001b[0m\u001b[34m => [4/7] COPY dist/* project/                                             0.0s\n",
      "\u001b[0m\u001b[34m => [5/7] WORKDIR /project/                                                0.0s\n",
      "\u001b[0m\u001b[34m => [6/7] RUN tar --strip-components=1 -zxvf *.tar.gz                      1.1s\n",
      "\u001b[0m => [7/7] RUN cp -r /project/ploomber/ /root/.ploomber/  || echo 'ploombe  0.1s\n",
      "\u001b[?25h\u001b[1A\u001b[1A\u001b[1A\u001b[1A\u001b[1A\u001b[1A\u001b[1A\u001b[1A\u001b[1A\u001b[1A\u001b[1A\u001b[1A\u001b[1A\u001b[1A\u001b[1A\u001b[0G\u001b[?25l[+] Building 3.3s (10/11)                                                       \n",
      "\u001b[34m => [internal] load build definition from Dockerfile                       0.1s\n",
      "\u001b[0m\u001b[34m => => transferring dockerfile: 495B                                       0.0s\n",
      "\u001b[0m\u001b[34m => [internal] load .dockerignore                                          0.0s\n",
      "\u001b[0m\u001b[34m => => transferring context: 2B                                            0.0s\n",
      "\u001b[0m\u001b[34m => [internal] load metadata for docker.io/condaforge/mambaforge:4.10.1-0  1.5s\n",
      "\u001b[0m\u001b[34m => [1/7] FROM docker.io/condaforge/mambaforge:4.10.1-0@sha256:0afe653d5d  0.0s\n",
      "\u001b[0m\u001b[34m => [internal] load build context                                          0.0s\n",
      "\u001b[0m\u001b[34m => => transferring context: 127.35kB                                      0.0s\n",
      "\u001b[0m\u001b[34m => CACHED [2/7] COPY requirements.lock.txt project/requirements.lock.txt  0.0s\n",
      "\u001b[0m\u001b[34m => CACHED [3/7] RUN pip install --requirement project/requirements.lock.  0.0s\n",
      "\u001b[0m\u001b[34m => [4/7] COPY dist/* project/                                             0.0s\n",
      "\u001b[0m\u001b[34m => [5/7] WORKDIR /project/                                                0.0s\n",
      "\u001b[0m\u001b[34m => [6/7] RUN tar --strip-components=1 -zxvf *.tar.gz                      1.1s\n",
      "\u001b[0m => [7/7] RUN cp -r /project/ploomber/ /root/.ploomber/  || echo 'ploombe  0.3s\n",
      "\u001b[?25h\u001b[1A\u001b[1A\u001b[1A\u001b[1A\u001b[1A\u001b[1A\u001b[1A\u001b[1A\u001b[1A\u001b[1A\u001b[1A\u001b[1A\u001b[1A\u001b[1A\u001b[1A\u001b[0G\u001b[?25l[+] Building 3.4s (10/11)                                                       \n",
      "\u001b[34m => [internal] load build definition from Dockerfile                       0.1s\n",
      "\u001b[0m\u001b[34m => => transferring dockerfile: 495B                                       0.0s\n",
      "\u001b[0m\u001b[34m => [internal] load .dockerignore                                          0.0s\n",
      "\u001b[0m\u001b[34m => => transferring context: 2B                                            0.0s\n",
      "\u001b[0m\u001b[34m => [internal] load metadata for docker.io/condaforge/mambaforge:4.10.1-0  1.5s\n",
      "\u001b[0m\u001b[34m => [1/7] FROM docker.io/condaforge/mambaforge:4.10.1-0@sha256:0afe653d5d  0.0s\n",
      "\u001b[0m\u001b[34m => [internal] load build context                                          0.0s\n",
      "\u001b[0m\u001b[34m => => transferring context: 127.35kB                                      0.0s\n",
      "\u001b[0m\u001b[34m => CACHED [2/7] COPY requirements.lock.txt project/requirements.lock.txt  0.0s\n",
      "\u001b[0m\u001b[34m => CACHED [3/7] RUN pip install --requirement project/requirements.lock.  0.0s\n",
      "\u001b[0m\u001b[34m => [4/7] COPY dist/* project/                                             0.0s\n",
      "\u001b[0m\u001b[34m => [5/7] WORKDIR /project/                                                0.0s\n",
      "\u001b[0m\u001b[34m => [6/7] RUN tar --strip-components=1 -zxvf *.tar.gz                      1.1s\n",
      "\u001b[0m => [7/7] RUN cp -r /project/ploomber/ /root/.ploomber/  || echo 'ploombe  0.4s\n",
      "\u001b[?25h\u001b[1A\u001b[1A\u001b[1A\u001b[1A\u001b[1A\u001b[1A\u001b[1A\u001b[1A\u001b[1A\u001b[1A\u001b[1A\u001b[1A\u001b[1A\u001b[1A\u001b[1A\u001b[0G\u001b[?25l[+] Building 3.5s (11/11)                                                       \n",
      "\u001b[34m => [internal] load build definition from Dockerfile                       0.1s\n",
      "\u001b[0m\u001b[34m => => transferring dockerfile: 495B                                       0.0s\n",
      "\u001b[0m\u001b[34m => [internal] load .dockerignore                                          0.0s\n",
      "\u001b[0m\u001b[34m => => transferring context: 2B                                            0.0s\n",
      "\u001b[0m\u001b[34m => [internal] load metadata for docker.io/condaforge/mambaforge:4.10.1-0  1.5s\n",
      "\u001b[0m\u001b[34m => [1/7] FROM docker.io/condaforge/mambaforge:4.10.1-0@sha256:0afe653d5d  0.0s\n",
      "\u001b[0m\u001b[34m => [internal] load build context                                          0.0s\n",
      "\u001b[0m\u001b[34m => => transferring context: 127.35kB                                      0.0s\n",
      "\u001b[0m\u001b[34m => CACHED [2/7] COPY requirements.lock.txt project/requirements.lock.txt  0.0s\n",
      "\u001b[0m\u001b[34m => CACHED [3/7] RUN pip install --requirement project/requirements.lock.  0.0s\n",
      "\u001b[0m\u001b[34m => [4/7] COPY dist/* project/                                             0.0s\n",
      "\u001b[0m\u001b[34m => [5/7] WORKDIR /project/                                                0.0s\n",
      "\u001b[0m\u001b[34m => [6/7] RUN tar --strip-components=1 -zxvf *.tar.gz                      1.1s\n",
      "\u001b[0m\u001b[34m => [7/7] RUN cp -r /project/ploomber/ /root/.ploomber/  || echo 'ploombe  0.6s\n",
      "\u001b[0m\u001b[?25h\u001b[1A\u001b[1A\u001b[1A\u001b[1A\u001b[1A\u001b[1A\u001b[1A\u001b[1A\u001b[1A\u001b[1A\u001b[1A\u001b[1A\u001b[1A\u001b[1A\u001b[1A\u001b[0G\u001b[?25l[+] Building 3.6s (11/12)                                                       \n",
      "\u001b[34m => [internal] load build definition from Dockerfile                       0.1s\n",
      "\u001b[0m\u001b[34m => => transferring dockerfile: 495B                                       0.0s\n",
      "\u001b[0m\u001b[34m => [internal] load .dockerignore                                          0.0s\n",
      "\u001b[0m\u001b[34m => => transferring context: 2B                                            0.0s\n",
      "\u001b[0m\u001b[34m => [internal] load metadata for docker.io/condaforge/mambaforge:4.10.1-0  1.5s\n",
      "\u001b[0m\u001b[34m => [1/7] FROM docker.io/condaforge/mambaforge:4.10.1-0@sha256:0afe653d5d  0.0s\n",
      "\u001b[0m\u001b[34m => [internal] load build context                                          0.0s\n",
      "\u001b[0m\u001b[34m => => transferring context: 127.35kB                                      0.0s\n",
      "\u001b[0m\u001b[34m => CACHED [2/7] COPY requirements.lock.txt project/requirements.lock.txt  0.0s\n",
      "\u001b[0m\u001b[34m => CACHED [3/7] RUN pip install --requirement project/requirements.lock.  0.0s\n",
      "\u001b[0m\u001b[34m => [4/7] COPY dist/* project/                                             0.0s\n",
      "\u001b[0m\u001b[34m => [5/7] WORKDIR /project/                                                0.0s\n",
      "\u001b[0m\u001b[34m => [6/7] RUN tar --strip-components=1 -zxvf *.tar.gz                      1.1s\n",
      "\u001b[0m\u001b[34m => [7/7] RUN cp -r /project/ploomber/ /root/.ploomber/  || echo 'ploombe  0.6s\n",
      "\u001b[0m => exporting to image                                                     0.1s\n",
      "\u001b[34m => => exporting layers                                                    0.1s\n",
      "\u001b[0m\u001b[?25h\u001b[1A\u001b[1A\u001b[1A\u001b[1A\u001b[1A\u001b[1A\u001b[1A\u001b[1A\u001b[1A\u001b[1A\u001b[1A\u001b[1A\u001b[1A\u001b[1A\u001b[1A\u001b[1A\u001b[1A\u001b[0G\u001b[?25l[+] Building 3.7s (12/12) FINISHED                                              \n",
      "\u001b[34m => [internal] load build definition from Dockerfile                       0.1s\n",
      "\u001b[0m\u001b[34m => => transferring dockerfile: 495B                                       0.0s\n",
      "\u001b[0m\u001b[34m => [internal] load .dockerignore                                          0.0s\n",
      "\u001b[0m\u001b[34m => => transferring context: 2B                                            0.0s\n",
      "\u001b[0m\u001b[34m => [internal] load metadata for docker.io/condaforge/mambaforge:4.10.1-0  1.5s\n",
      "\u001b[0m\u001b[34m => [1/7] FROM docker.io/condaforge/mambaforge:4.10.1-0@sha256:0afe653d5d  0.0s\n",
      "\u001b[0m\u001b[34m => [internal] load build context                                          0.0s\n",
      "\u001b[0m\u001b[34m => => transferring context: 127.35kB                                      0.0s\n",
      "\u001b[0m\u001b[34m => CACHED [2/7] COPY requirements.lock.txt project/requirements.lock.txt  0.0s\n",
      "\u001b[0m\u001b[34m => CACHED [3/7] RUN pip install --requirement project/requirements.lock.  0.0s\n",
      "\u001b[0m\u001b[34m => [4/7] COPY dist/* project/                                             0.0s\n",
      "\u001b[0m\u001b[34m => [5/7] WORKDIR /project/                                                0.0s\n",
      "\u001b[0m\u001b[34m => [6/7] RUN tar --strip-components=1 -zxvf *.tar.gz                      1.1s\n",
      "\u001b[0m\u001b[34m => [7/7] RUN cp -r /project/ploomber/ /root/.ploomber/  || echo 'ploombe  0.6s\n",
      "\u001b[0m\u001b[34m => exporting to image                                                     0.1s\n",
      "\u001b[0m\u001b[34m => => exporting layers                                                    0.1s\n",
      "\u001b[0m\u001b[34m => => writing image sha256:e3d92729b49c8dcfb33f1b092fad49cecdb5a44a47d36  0.0s\n",
      "\u001b[0m\u001b[34m => => naming to docker.io/library/ml-intermediate:latest-default          0.0s\n",
      "\u001b[0m\u001b[?25h\n",
      "Use 'docker scan' to run Snyk tests against images to find vulnerabilities and learn how to fix them\n",
      "\u001b[34m===================== Generating Argo Workflows YAML spec ======================\u001b[0m\n",
      "null repository found in soopervisor.yaml, setting imagePullPolicy to \"Never\"\n",
      "Done. Saved argo spec to 'training/argo.yaml'\n",
      "Submit your workflow with: argo submit -n argo training/argo.yaml\n",
      "\u001b[32m==================================== Done. =====================================\u001b[0m\n",
      "\u001b[0m"
     ]
    }
   ],
   "source": [
    "soopervisor export training --skip-tests --ignore-git --mode force"
   ]
  },
  {
   "cell_type": "markdown",
   "id": "0f30338c-546b-4234-89dc-15a470dcf737",
   "metadata": {},
   "source": [
    "Load the docker image into the `kind` cluster:"
   ]
  },
  {
   "cell_type": "code",
   "execution_count": 22,
   "id": "72e52a42-ad74-4a12-a755-8242056fbe6b",
   "metadata": {},
   "outputs": [
    {
     "name": "stdout",
     "output_type": "stream",
     "text": [
      "Image: \"ml-intermediate:latest-default\" with ID \"sha256:e3d92729b49c8dcfb33f1b092fad49cecdb5a44a47d369960c22216ba3e7eda1\" not yet present on node \"kind-control-plane\", loading...\n",
      "You have new mail in /var/mail/Edu\n"
     ]
    }
   ],
   "source": [
    "kind load docker-image ml-intermediate:latest-default"
   ]
  },
  {
   "cell_type": "markdown",
   "id": "fc8aba21-f6d1-4928-ac59-5e05bc32636b",
   "metadata": {},
   "source": [
    "```{note}\n",
    "This is only required for this example. When using\n",
    "a production Kubernetes cluster, `soopervisor export` will\n",
    "automatically push the image to the registry.\n",
    "```\n",
    "\n",
    "Let's now submit the workflow:"
   ]
  },
  {
   "cell_type": "code",
   "execution_count": 23,
   "id": "66ff30e0-5100-4c8a-852e-8d5a5c94323f",
   "metadata": {},
   "outputs": [
    {
     "name": "stdout",
     "output_type": "stream",
     "text": [
      "Name:                ml-intermediate-c56tj\n",
      "Namespace:           argo\n",
      "ServiceAccount:      default\n",
      "Status:              Pending\n",
      "Created:             Sun Aug 28 00:47:00 -0500 (now)\n",
      "Progress:            \n",
      "You have new mail in /var/mail/Edu\n"
     ]
    }
   ],
   "source": [
    "argo submit -n argo training/argo.yaml"
   ]
  },
  {
   "cell_type": "markdown",
   "id": "7ac050b7-8e5d-45c7-86d2-f3eb38890ad7",
   "metadata": {},
   "source": [
    "Wait for the workflow to finish:"
   ]
  },
  {
   "cell_type": "code",
   "execution_count": 24,
   "id": "5d3ab6b1-1c0f-4f1d-8274-510cd0c2ebbf",
   "metadata": {},
   "outputs": [
    {
     "name": "stdout",
     "output_type": "stream",
     "text": [
      "@latest Succeeded at 2022-08-28 00:48:43 -0500 CDT\n",
      "You have new mail in /var/mail/Edu\n"
     ]
    }
   ],
   "source": [
    "argo wait @latest -n argo"
   ]
  },
  {
   "cell_type": "markdown",
   "id": "58d38b8e-9372-45cb-8e13-b71e82b3d0e1",
   "metadata": {},
   "source": [
    "Let's get the status:"
   ]
  },
  {
   "cell_type": "code",
   "execution_count": 25,
   "id": "d9ce88d6-62f1-49e8-8cbd-bda82e872cf8",
   "metadata": {},
   "outputs": [
    {
     "name": "stdout",
     "output_type": "stream",
     "text": [
      "Name:                ml-intermediate-c56tj\n",
      "Namespace:           argo\n",
      "ServiceAccount:      default\n",
      "Status:              Succeeded\n",
      "Conditions:          \n",
      " PodRunning          False\n",
      " Completed           True\n",
      "Created:             Sun Aug 28 00:47:00 -0500 (2 minutes ago)\n",
      "Started:             Sun Aug 28 00:47:00 -0500 (2 minutes ago)\n",
      "Finished:            Sun Aug 28 00:48:43 -0500 (41 seconds ago)\n",
      "Duration:            1 minute 43 seconds\n",
      "Progress:            5/5\n",
      "ResourcesDuration:   1m59s*(1 cpu),1m59s*(100Mi memory)\n",
      "\n",
      "\u001b[39mSTEP\u001b[0m                      TEMPLATE  PODNAME                           DURATION  MESSAGE\n",
      " \u001b[32m✔\u001b[0m ml-intermediate-c56tj  dag                                                     \n",
      " ├─\u001b[32m✔\u001b[0m get                  run-task  ml-intermediate-c56tj-4292949941  26s         \n",
      " ├─\u001b[32m✔\u001b[0m petal-area           run-task  ml-intermediate-c56tj-469948449   14s         \n",
      " ├─\u001b[32m✔\u001b[0m sepal-area           run-task  ml-intermediate-c56tj-2014493210  14s         \n",
      " ├─\u001b[32m✔\u001b[0m join                 run-task  ml-intermediate-c56tj-1386079931  12s         \n",
      " └─\u001b[32m✔\u001b[0m fit                  run-task  ml-intermediate-c56tj-2051177882  22s         \n"
     ]
    }
   ],
   "source": [
    "argo get @latest -n argo"
   ]
  },
  {
   "cell_type": "markdown",
   "id": "9daf72ca-06f6-46b7-8013-ae3f9d0b4607",
   "metadata": {},
   "source": [
    "All the outputs are stored in the `outputs` directory:"
   ]
  },
  {
   "cell_type": "code",
   "execution_count": 30,
   "id": "d71e2c2b-0c67-4033-8915-835d7e9134b3",
   "metadata": {},
   "outputs": [
    {
     "name": "stdout",
     "output_type": "stream",
     "text": [
      "get.parquet         model.pickle        petal_area.parquet\n",
      "join.parquet        nb.html             sepal_area.parquet\n"
     ]
    }
   ],
   "source": [
    "ls ../outputs/sample=False"
   ]
  }
 ],
 "metadata": {
  "kernelspec": {
   "display_name": "Bash",
   "language": "bash",
   "name": "bash"
  },
  "language_info": {
   "codemirror_mode": "shell",
   "file_extension": ".sh",
   "mimetype": "text/x-sh",
   "name": "bash"
  }
 },
 "nbformat": 4,
 "nbformat_minor": 5
}
