{
 "cells": [
  {
   "cell_type": "code",
   "execution_count": 3,
   "id": "4234aeb0-f80e-4e70-9e9c-8b28d4e0391b",
   "metadata": {},
   "outputs": [
    {
     "name": "stderr",
     "output_type": "stream",
     "text": [
      "Creating cluster \"kind\" ...\n",
      " • Ensuring node image (kindest/node:v1.24.0) 🖼  ...\n",
      " ✓ Ensuring node image (kindest/node:v1.24.0) 🖼\n",
      " • Preparing nodes 📦   ...\n",
      " ✓ Preparing nodes 📦 \n",
      " • Writing configuration 📜  ...\n",
      " ✓ Writing configuration 📜\n",
      " • Starting control-plane 🕹️  ...\n",
      " ✓ Starting control-plane 🕹️\n",
      " • Installing CNI 🔌  ...\n",
      " ✓ Installing CNI 🔌\n",
      " • Installing StorageClass 💾  ...\n",
      " ✓ Installing StorageClass 💾\n",
      "Set kubectl context to \"kind-kind\"\n",
      "You can now use your cluster with:\n",
      "\n",
      "kubectl cluster-info --context kind-kind\n",
      "\n",
      "Thanks for using kind! 😊\n"
     ]
    }
   ],
   "source": [
    "%%bash\n",
    "kind create cluster --config kind-config.yaml"
   ]
  },
  {
   "cell_type": "code",
   "execution_count": 5,
   "id": "a540f30f-259a-4252-b03c-e9157bad3dcf",
   "metadata": {},
   "outputs": [
    {
     "name": "stdout",
     "output_type": "stream",
     "text": [
      "NAME                 STATUS   ROLES           AGE   VERSION\n",
      "kind-control-plane   Ready    control-plane   78s   v1.24.0\n"
     ]
    }
   ],
   "source": [
    "%%bash\n",
    "kubectl get nodes"
   ]
  },
  {
   "cell_type": "code",
   "execution_count": 4,
   "id": "e677fef9-0e7d-4322-9d33-f6935c7c00a8",
   "metadata": {},
   "outputs": [
    {
     "name": "stdout",
     "output_type": "stream",
     "text": [
      "namespace/argo created\n",
      "customresourcedefinition.apiextensions.k8s.io/clusterworkflowtemplates.argoproj.io created\n",
      "customresourcedefinition.apiextensions.k8s.io/cronworkflows.argoproj.io created\n",
      "customresourcedefinition.apiextensions.k8s.io/workfloweventbindings.argoproj.io created\n",
      "customresourcedefinition.apiextensions.k8s.io/workflows.argoproj.io created\n",
      "customresourcedefinition.apiextensions.k8s.io/workflowtaskresults.argoproj.io created\n",
      "customresourcedefinition.apiextensions.k8s.io/workflowtasksets.argoproj.io created\n",
      "customresourcedefinition.apiextensions.k8s.io/workflowtemplates.argoproj.io created\n",
      "serviceaccount/argo created\n",
      "serviceaccount/argo-server created\n",
      "role.rbac.authorization.k8s.io/argo-role created\n",
      "clusterrole.rbac.authorization.k8s.io/argo-aggregate-to-admin created\n",
      "clusterrole.rbac.authorization.k8s.io/argo-aggregate-to-edit created\n",
      "clusterrole.rbac.authorization.k8s.io/argo-aggregate-to-view created\n",
      "clusterrole.rbac.authorization.k8s.io/argo-cluster-role created\n",
      "clusterrole.rbac.authorization.k8s.io/argo-server-cluster-role created\n",
      "rolebinding.rbac.authorization.k8s.io/argo-binding created\n",
      "clusterrolebinding.rbac.authorization.k8s.io/argo-binding created\n",
      "clusterrolebinding.rbac.authorization.k8s.io/argo-server-binding created\n",
      "configmap/workflow-controller-configmap created\n",
      "service/argo-server created\n",
      "service/workflow-controller-metrics created\n",
      "priorityclass.scheduling.k8s.io/workflow-controller created\n",
      "deployment.apps/argo-server created\n",
      "deployment.apps/workflow-controller created\n"
     ]
    }
   ],
   "source": [
    "%%bash\n",
    "kubectl create namespace argo\n",
    "kubectl apply -n argo -f https://github.com/argoproj/argo-workflows/releases/download/v3.3.9/install.yaml"
   ]
  },
  {
   "cell_type": "markdown",
   "id": "e84d0b7e-30ce-444b-bfb3-c49f6d41e98c",
   "metadata": {},
   "source": [
    "See: https://argoproj.github.io/argo-workflows/quick-start/"
   ]
  },
  {
   "cell_type": "code",
   "execution_count": 18,
   "id": "9b9b3596-5c98-4ace-b653-bdd9afe5a3a0",
   "metadata": {},
   "outputs": [
    {
     "name": "stdout",
     "output_type": "stream",
     "text": [
      "deployment.apps/argo-server patched\n"
     ]
    }
   ],
   "source": [
    "%%bash\n",
    "kubectl patch deployment \\\n",
    "  argo-server \\\n",
    "  --namespace argo \\\n",
    "  --type='json' \\\n",
    "  -p='[{\"op\": \"replace\", \"path\": \"/spec/template/spec/containers/0/args\", \"value\": [\n",
    "  \"server\",\n",
    "  \"--auth-mode=server\"\n",
    "]}]'"
   ]
  },
  {
   "cell_type": "markdown",
   "id": "1083d2cb-df84-43de-8b93-0ed7ff5d910f",
   "metadata": {},
   "source": [
    "```sh\n",
    "kubectl -n argo port-forward deployment/argo-server 2746:2746\n",
    "```"
   ]
  },
  {
   "cell_type": "code",
   "execution_count": 7,
   "id": "0c7667f5-e58f-4728-aa05-e0306ea2b394",
   "metadata": {},
   "outputs": [
    {
     "name": "stdout",
     "output_type": "stream",
     "text": [
      "NAME                                   READY   STATUS    RESTARTS   AGE\n",
      "argo-server-65566599f8-hpjbb           1/1     Running   0          24s\n",
      "workflow-controller-77c44779bf-8mrvt   1/1     Running   0          24s\n"
     ]
    }
   ],
   "source": [
    "%%bash\n",
    "kubectl get pods -n argo"
   ]
  },
  {
   "cell_type": "code",
   "execution_count": 11,
   "id": "9ef93000-afca-4096-a96a-1dd7eaa7e421",
   "metadata": {},
   "outputs": [
    {
     "name": "stdout",
     "output_type": "stream",
     "text": [
      "Requirement already satisfied: ploomber in /Users/Edu/dev/ploomber/src (0.21.1.dev0)\n",
      "Requirement already satisfied: soopervisor in /Users/Edu/dev/soopervisor/src (0.8.1.dev0)\n",
      "Requirement already satisfied: ploomber-scaffold>=0.3 in /Users/Edu/miniconda3/envs/soopervisor/lib/python3.9/site-packages (from ploomber) (0.3.1)\n",
      "Requirement already satisfied: ploomber-engine>=0.0.8 in /Users/Edu/miniconda3/envs/soopervisor/lib/python3.9/site-packages (from ploomber) (0.0.10)\n",
      "Requirement already satisfied: ploomber-core>=0.0.5 in /Users/Edu/miniconda3/envs/soopervisor/lib/python3.9/site-packages (from ploomber) (0.0.6)\n",
      "Requirement already satisfied: pyyaml in /Users/Edu/miniconda3/envs/soopervisor/lib/python3.9/site-packages (from ploomber) (5.4.1)\n",
      "Requirement already satisfied: networkx>=2.5 in /Users/Edu/miniconda3/envs/soopervisor/lib/python3.9/site-packages (from ploomber) (2.7.1)\n",
      "Requirement already satisfied: jinja2 in /Users/Edu/miniconda3/envs/soopervisor/lib/python3.9/site-packages (from ploomber) (3.1.2)\n",
      "Requirement already satisfied: tabulate in /Users/Edu/miniconda3/envs/soopervisor/lib/python3.9/site-packages (from ploomber) (0.8.9)\n",
      "Requirement already satisfied: humanize in /Users/Edu/miniconda3/envs/soopervisor/lib/python3.9/site-packages (from ploomber) (4.0.0)\n",
      "Requirement already satisfied: tqdm in /Users/Edu/miniconda3/envs/soopervisor/lib/python3.9/site-packages (from ploomber) (4.63.1)\n",
      "Requirement already satisfied: posthog in /Users/Edu/miniconda3/envs/soopervisor/lib/python3.9/site-packages (from ploomber) (1.4.5)\n",
      "Requirement already satisfied: sqlparse in /Users/Edu/miniconda3/envs/soopervisor/lib/python3.9/site-packages (from ploomber) (0.4.2)\n",
      "Requirement already satisfied: autopep8 in /Users/Edu/miniconda3/envs/soopervisor/lib/python3.9/site-packages (from ploomber) (1.6.0)\n",
      "Requirement already satisfied: parso in /Users/Edu/miniconda3/envs/soopervisor/lib/python3.9/site-packages (from ploomber) (0.8.3)\n",
      "Requirement already satisfied: mistune in /Users/Edu/miniconda3/envs/soopervisor/lib/python3.9/site-packages (from ploomber) (0.8.4)\n",
      "Requirement already satisfied: pygments in /Users/Edu/miniconda3/envs/soopervisor/lib/python3.9/site-packages (from ploomber) (2.11.2)\n",
      "Requirement already satisfied: sqlalchemy in /Users/Edu/miniconda3/envs/soopervisor/lib/python3.9/site-packages (from ploomber) (1.3.24)\n",
      "Requirement already satisfied: click in /Users/Edu/miniconda3/envs/soopervisor/lib/python3.9/site-packages (from ploomber) (8.0.4)\n",
      "Requirement already satisfied: ipython in /Users/Edu/miniconda3/envs/soopervisor/lib/python3.9/site-packages (from ploomber) (7.32.0)\n",
      "Requirement already satisfied: ipdb in /Users/Edu/miniconda3/envs/soopervisor/lib/python3.9/site-packages (from ploomber) (0.13.9)\n",
      "Requirement already satisfied: pydantic in /Users/Edu/miniconda3/envs/soopervisor/lib/python3.9/site-packages (from ploomber) (1.9.0)\n",
      "Requirement already satisfied: papermill in /Users/Edu/miniconda3/envs/soopervisor/lib/python3.9/site-packages (from ploomber) (2.3.4)\n",
      "Requirement already satisfied: jupytext in /Users/Edu/miniconda3/envs/soopervisor/lib/python3.9/site-packages (from ploomber) (1.13.7)\n",
      "Requirement already satisfied: ipykernel>=1.5.2 in /Users/Edu/miniconda3/envs/soopervisor/lib/python3.9/site-packages (from ploomber) (6.9.2)\n",
      "Requirement already satisfied: jupyter_client>=5.3.1 in /Users/Edu/miniconda3/envs/soopervisor/lib/python3.9/site-packages (from ploomber) (7.1.2)\n",
      "Requirement already satisfied: nbconvert>=5.6.0 in /Users/Edu/miniconda3/envs/soopervisor/lib/python3.9/site-packages (from ploomber) (6.4.4)\n",
      "Requirement already satisfied: nbformat in /Users/Edu/miniconda3/envs/soopervisor/lib/python3.9/site-packages (from ploomber) (5.2.0)\n",
      "Requirement already satisfied: pyflakes in /Users/Edu/miniconda3/envs/soopervisor/lib/python3.9/site-packages (from ploomber) (2.4.0)\n",
      "Requirement already satisfied: build in /Users/Edu/miniconda3/envs/soopervisor/lib/python3.9/site-packages (from soopervisor) (0.7.0)\n",
      "Requirement already satisfied: tornado<7.0,>=4.2 in /Users/Edu/miniconda3/envs/soopervisor/lib/python3.9/site-packages (from ipykernel>=1.5.2->ploomber) (6.1)\n",
      "Requirement already satisfied: debugpy<2.0,>=1.0.0 in /Users/Edu/miniconda3/envs/soopervisor/lib/python3.9/site-packages (from ipykernel>=1.5.2->ploomber) (1.6.0)\n",
      "Requirement already satisfied: matplotlib-inline<0.2.0,>=0.1.0 in /Users/Edu/miniconda3/envs/soopervisor/lib/python3.9/site-packages (from ipykernel>=1.5.2->ploomber) (0.1.3)\n",
      "Requirement already satisfied: appnope in /Users/Edu/miniconda3/envs/soopervisor/lib/python3.9/site-packages (from ipykernel>=1.5.2->ploomber) (0.1.2)\n",
      "Requirement already satisfied: psutil in /Users/Edu/miniconda3/envs/soopervisor/lib/python3.9/site-packages (from ipykernel>=1.5.2->ploomber) (5.9.0)\n",
      "Requirement already satisfied: nest-asyncio in /Users/Edu/miniconda3/envs/soopervisor/lib/python3.9/site-packages (from ipykernel>=1.5.2->ploomber) (1.5.4)\n",
      "Requirement already satisfied: traitlets<6.0,>=5.1.0 in /Users/Edu/miniconda3/envs/soopervisor/lib/python3.9/site-packages (from ipykernel>=1.5.2->ploomber) (5.1.1)\n",
      "Requirement already satisfied: jedi>=0.16 in /Users/Edu/miniconda3/envs/soopervisor/lib/python3.9/site-packages (from ipython->ploomber) (0.18.1)\n",
      "Requirement already satisfied: pexpect>4.3 in /Users/Edu/miniconda3/envs/soopervisor/lib/python3.9/site-packages (from ipython->ploomber) (4.8.0)\n",
      "Requirement already satisfied: prompt-toolkit!=3.0.0,!=3.0.1,<3.1.0,>=2.0.0 in /Users/Edu/miniconda3/envs/soopervisor/lib/python3.9/site-packages (from ipython->ploomber) (3.0.28)\n",
      "Requirement already satisfied: setuptools>=18.5 in /Users/Edu/miniconda3/envs/soopervisor/lib/python3.9/site-packages (from ipython->ploomber) (61.1.0)\n",
      "Requirement already satisfied: decorator in /Users/Edu/miniconda3/envs/soopervisor/lib/python3.9/site-packages (from ipython->ploomber) (5.1.1)\n",
      "Requirement already satisfied: pickleshare in /Users/Edu/miniconda3/envs/soopervisor/lib/python3.9/site-packages (from ipython->ploomber) (0.7.5)\n",
      "Requirement already satisfied: backcall in /Users/Edu/miniconda3/envs/soopervisor/lib/python3.9/site-packages (from ipython->ploomber) (0.2.0)\n",
      "Requirement already satisfied: jupyter-core>=4.6.0 in /Users/Edu/miniconda3/envs/soopervisor/lib/python3.9/site-packages (from jupyter_client>=5.3.1->ploomber) (4.9.2)\n",
      "Requirement already satisfied: python-dateutil>=2.1 in /Users/Edu/miniconda3/envs/soopervisor/lib/python3.9/site-packages (from jupyter_client>=5.3.1->ploomber) (2.8.2)\n",
      "Requirement already satisfied: entrypoints in /Users/Edu/miniconda3/envs/soopervisor/lib/python3.9/site-packages (from jupyter_client>=5.3.1->ploomber) (0.4)\n",
      "Requirement already satisfied: pyzmq>=13 in /Users/Edu/miniconda3/envs/soopervisor/lib/python3.9/site-packages (from jupyter_client>=5.3.1->ploomber) (22.3.0)\n",
      "Requirement already satisfied: testpath in /Users/Edu/miniconda3/envs/soopervisor/lib/python3.9/site-packages (from nbconvert>=5.6.0->ploomber) (0.6.0)\n",
      "Requirement already satisfied: jupyterlab-pygments in /Users/Edu/miniconda3/envs/soopervisor/lib/python3.9/site-packages (from nbconvert>=5.6.0->ploomber) (0.1.2)\n",
      "Requirement already satisfied: defusedxml in /Users/Edu/miniconda3/envs/soopervisor/lib/python3.9/site-packages (from nbconvert>=5.6.0->ploomber) (0.7.1)\n",
      "Requirement already satisfied: pandocfilters>=1.4.1 in /Users/Edu/miniconda3/envs/soopervisor/lib/python3.9/site-packages (from nbconvert>=5.6.0->ploomber) (1.5.0)\n",
      "Requirement already satisfied: beautifulsoup4 in /Users/Edu/miniconda3/envs/soopervisor/lib/python3.9/site-packages (from nbconvert>=5.6.0->ploomber) (4.10.0)\n",
      "Requirement already satisfied: nbclient<0.6.0,>=0.5.0 in /Users/Edu/miniconda3/envs/soopervisor/lib/python3.9/site-packages (from nbconvert>=5.6.0->ploomber) (0.5.13)\n",
      "Requirement already satisfied: bleach in /Users/Edu/miniconda3/envs/soopervisor/lib/python3.9/site-packages (from nbconvert>=5.6.0->ploomber) (4.1.0)\n",
      "Requirement already satisfied: MarkupSafe>=2.0 in /Users/Edu/miniconda3/envs/soopervisor/lib/python3.9/site-packages (from jinja2->ploomber) (2.0.1)\n",
      "Requirement already satisfied: jsonschema!=2.5.0,>=2.4 in /Users/Edu/miniconda3/envs/soopervisor/lib/python3.9/site-packages (from nbformat->ploomber) (3.2.0)\n",
      "Requirement already satisfied: debuglater in /Users/Edu/miniconda3/envs/soopervisor/lib/python3.9/site-packages (from ploomber-engine>=0.0.8->ploomber) (1.4.3)\n",
      "Requirement already satisfied: pycodestyle>=2.8.0 in /Users/Edu/miniconda3/envs/soopervisor/lib/python3.9/site-packages (from autopep8->ploomber) (2.8.0)\n",
      "Requirement already satisfied: toml in /Users/Edu/miniconda3/envs/soopervisor/lib/python3.9/site-packages (from autopep8->ploomber) (0.10.2)\n",
      "Requirement already satisfied: packaging>=19.0 in /Users/Edu/miniconda3/envs/soopervisor/lib/python3.9/site-packages (from build->soopervisor) (21.3)\n",
      "Requirement already satisfied: pep517>=0.9.1 in /Users/Edu/miniconda3/envs/soopervisor/lib/python3.9/site-packages (from build->soopervisor) (0.12.0)\n",
      "Requirement already satisfied: tomli>=1.0.0 in /Users/Edu/miniconda3/envs/soopervisor/lib/python3.9/site-packages (from build->soopervisor) (2.0.1)\n",
      "Requirement already satisfied: mdit-py-plugins in /Users/Edu/miniconda3/envs/soopervisor/lib/python3.9/site-packages (from jupytext->ploomber) (0.3.0)\n",
      "Requirement already satisfied: markdown-it-py~=1.0 in /Users/Edu/miniconda3/envs/soopervisor/lib/python3.9/site-packages (from jupytext->ploomber) (1.1.0)\n",
      "Requirement already satisfied: ansiwrap in /Users/Edu/miniconda3/envs/soopervisor/lib/python3.9/site-packages (from papermill->ploomber) (0.8.4)\n",
      "Requirement already satisfied: requests in /Users/Edu/miniconda3/envs/soopervisor/lib/python3.9/site-packages (from papermill->ploomber) (2.27.1)\n",
      "Requirement already satisfied: tenacity in /Users/Edu/miniconda3/envs/soopervisor/lib/python3.9/site-packages (from papermill->ploomber) (8.0.1)\n",
      "Requirement already satisfied: monotonic>=1.5 in /Users/Edu/miniconda3/envs/soopervisor/lib/python3.9/site-packages (from posthog->ploomber) (1.6)\n",
      "Requirement already satisfied: six>=1.5 in /Users/Edu/miniconda3/envs/soopervisor/lib/python3.9/site-packages (from posthog->ploomber) (1.16.0)\n",
      "Requirement already satisfied: backoff<2.0.0,>=1.10.0 in /Users/Edu/miniconda3/envs/soopervisor/lib/python3.9/site-packages (from posthog->ploomber) (1.11.1)\n",
      "Requirement already satisfied: typing-extensions>=3.7.4.3 in /Users/Edu/miniconda3/envs/soopervisor/lib/python3.9/site-packages (from pydantic->ploomber) (4.1.1)\n",
      "Requirement already satisfied: pyrsistent>=0.14.0 in /Users/Edu/miniconda3/envs/soopervisor/lib/python3.9/site-packages (from jsonschema!=2.5.0,>=2.4->nbformat->ploomber) (0.18.1)\n",
      "Requirement already satisfied: attrs>=17.4.0 in /Users/Edu/miniconda3/envs/soopervisor/lib/python3.9/site-packages (from jsonschema!=2.5.0,>=2.4->nbformat->ploomber) (20.3.0)\n",
      "Requirement already satisfied: pyparsing!=3.0.5,>=2.0.2 in /Users/Edu/miniconda3/envs/soopervisor/lib/python3.9/site-packages (from packaging>=19.0->build->soopervisor) (3.0.7)\n",
      "Requirement already satisfied: ptyprocess>=0.5 in /Users/Edu/miniconda3/envs/soopervisor/lib/python3.9/site-packages (from pexpect>4.3->ipython->ploomber) (0.7.0)\n",
      "Requirement already satisfied: wcwidth in /Users/Edu/miniconda3/envs/soopervisor/lib/python3.9/site-packages (from prompt-toolkit!=3.0.0,!=3.0.1,<3.1.0,>=2.0.0->ipython->ploomber) (0.2.5)\n",
      "Requirement already satisfied: certifi>=2017.4.17 in /Users/Edu/miniconda3/envs/soopervisor/lib/python3.9/site-packages (from requests->papermill->ploomber) (2021.10.8)\n",
      "Requirement already satisfied: charset-normalizer~=2.0.0 in /Users/Edu/miniconda3/envs/soopervisor/lib/python3.9/site-packages (from requests->papermill->ploomber) (2.0.12)\n",
      "Requirement already satisfied: idna<4,>=2.5 in /Users/Edu/miniconda3/envs/soopervisor/lib/python3.9/site-packages (from requests->papermill->ploomber) (2.8)\n",
      "Requirement already satisfied: urllib3<1.27,>=1.21.1 in /Users/Edu/miniconda3/envs/soopervisor/lib/python3.9/site-packages (from requests->papermill->ploomber) (1.26.9)\n",
      "Requirement already satisfied: textwrap3>=0.9.2 in /Users/Edu/miniconda3/envs/soopervisor/lib/python3.9/site-packages (from ansiwrap->papermill->ploomber) (0.9.2)\n",
      "Requirement already satisfied: soupsieve>1.2 in /Users/Edu/miniconda3/envs/soopervisor/lib/python3.9/site-packages (from beautifulsoup4->nbconvert>=5.6.0->ploomber) (2.3.1)\n",
      "Requirement already satisfied: webencodings in /Users/Edu/miniconda3/envs/soopervisor/lib/python3.9/site-packages (from bleach->nbconvert>=5.6.0->ploomber) (0.5.1)\n",
      "Requirement already satisfied: colorama in /Users/Edu/miniconda3/envs/soopervisor/lib/python3.9/site-packages (from debuglater->ploomber-engine>=0.0.8->ploomber) (0.4.4)\n"
     ]
    }
   ],
   "source": [
    "%%bash\n",
    "pip install ploomber soopervisor"
   ]
  },
  {
   "cell_type": "code",
   "execution_count": 13,
   "id": "a925b074-7165-46e1-b103-53a5e34de938",
   "metadata": {},
   "outputs": [
    {
     "name": "stdout",
     "output_type": "stream",
     "text": [
      "Loading examples...\n",
      "There's a new ploomber version available (0.21), you're running 0.21.1dev. To upgrade: pip install ploomber --upgrade\n",
      "======== Copying example templates/ml-intermediate to ml-intermediate/ =========\n",
      "Next steps:\n",
      "\n",
      "$ cd ml-intermediate/\n",
      "$ ploomber install\n",
      "\n",
      "Open ml-intermediate/README.md for details.\n",
      "Collecting ipywidgets\n",
      "  Using cached ipywidgets-8.0.1-py3-none-any.whl (133 kB)\n",
      "Requirement already satisfied: pandas in /Users/Edu/miniconda3/envs/soopervisor/lib/python3.9/site-packages (from -r requirements.txt (line 2)) (1.4.1)\n",
      "Requirement already satisfied: ploomber in /Users/Edu/dev/ploomber/src (from -r requirements.txt (line 3)) (0.21.1.dev0)\n",
      "Collecting pyarrow\n",
      "  Using cached pyarrow-9.0.0-cp39-cp39-macosx_10_13_x86_64.whl (24.0 MB)\n",
      "Requirement already satisfied: scikit-learn in /Users/Edu/miniconda3/envs/soopervisor/lib/python3.9/site-packages (from -r requirements.txt (line 5)) (1.0.2)\n",
      "Collecting sklearn-evaluation\n",
      "  Using cached sklearn_evaluation-0.7-py3-none-any.whl (46 kB)\n",
      "Requirement already satisfied: soopervisor in /Users/Edu/dev/soopervisor/src (from -r requirements.txt (line 7)) (0.8.1.dev0)\n",
      "Requirement already satisfied: ipython>=6.1.0 in /Users/Edu/miniconda3/envs/soopervisor/lib/python3.9/site-packages (from ipywidgets->-r requirements.txt (line 1)) (7.32.0)\n",
      "Collecting widgetsnbextension~=4.0\n",
      "  Using cached widgetsnbextension-4.0.2-py3-none-any.whl (2.0 MB)\n",
      "Collecting jupyterlab-widgets~=3.0\n",
      "  Using cached jupyterlab_widgets-3.0.2-py3-none-any.whl (383 kB)\n",
      "Requirement already satisfied: ipykernel>=4.5.1 in /Users/Edu/miniconda3/envs/soopervisor/lib/python3.9/site-packages (from ipywidgets->-r requirements.txt (line 1)) (6.9.2)\n",
      "Requirement already satisfied: traitlets>=4.3.1 in /Users/Edu/miniconda3/envs/soopervisor/lib/python3.9/site-packages (from ipywidgets->-r requirements.txt (line 1)) (5.1.1)\n",
      "Requirement already satisfied: pytz>=2020.1 in /Users/Edu/miniconda3/envs/soopervisor/lib/python3.9/site-packages (from pandas->-r requirements.txt (line 2)) (2022.1)\n",
      "Requirement already satisfied: python-dateutil>=2.8.1 in /Users/Edu/miniconda3/envs/soopervisor/lib/python3.9/site-packages (from pandas->-r requirements.txt (line 2)) (2.8.2)\n",
      "Requirement already satisfied: numpy>=1.18.5 in /Users/Edu/miniconda3/envs/soopervisor/lib/python3.9/site-packages (from pandas->-r requirements.txt (line 2)) (1.22.3)\n",
      "Requirement already satisfied: ploomber-scaffold>=0.3 in /Users/Edu/miniconda3/envs/soopervisor/lib/python3.9/site-packages (from ploomber->-r requirements.txt (line 3)) (0.3.1)\n",
      "Requirement already satisfied: ploomber-engine>=0.0.8 in /Users/Edu/miniconda3/envs/soopervisor/lib/python3.9/site-packages (from ploomber->-r requirements.txt (line 3)) (0.0.10)\n",
      "Requirement already satisfied: ploomber-core>=0.0.5 in /Users/Edu/miniconda3/envs/soopervisor/lib/python3.9/site-packages (from ploomber->-r requirements.txt (line 3)) (0.0.6)\n",
      "Requirement already satisfied: pyyaml in /Users/Edu/miniconda3/envs/soopervisor/lib/python3.9/site-packages (from ploomber->-r requirements.txt (line 3)) (5.4.1)\n",
      "Requirement already satisfied: networkx>=2.5 in /Users/Edu/miniconda3/envs/soopervisor/lib/python3.9/site-packages (from ploomber->-r requirements.txt (line 3)) (2.7.1)\n",
      "Requirement already satisfied: jinja2 in /Users/Edu/miniconda3/envs/soopervisor/lib/python3.9/site-packages (from ploomber->-r requirements.txt (line 3)) (3.1.2)\n",
      "Requirement already satisfied: tabulate in /Users/Edu/miniconda3/envs/soopervisor/lib/python3.9/site-packages (from ploomber->-r requirements.txt (line 3)) (0.8.9)\n",
      "Requirement already satisfied: humanize in /Users/Edu/miniconda3/envs/soopervisor/lib/python3.9/site-packages (from ploomber->-r requirements.txt (line 3)) (4.0.0)\n",
      "Requirement already satisfied: tqdm in /Users/Edu/miniconda3/envs/soopervisor/lib/python3.9/site-packages (from ploomber->-r requirements.txt (line 3)) (4.63.1)\n",
      "Requirement already satisfied: posthog in /Users/Edu/miniconda3/envs/soopervisor/lib/python3.9/site-packages (from ploomber->-r requirements.txt (line 3)) (1.4.5)\n",
      "Requirement already satisfied: sqlparse in /Users/Edu/miniconda3/envs/soopervisor/lib/python3.9/site-packages (from ploomber->-r requirements.txt (line 3)) (0.4.2)\n",
      "Requirement already satisfied: autopep8 in /Users/Edu/miniconda3/envs/soopervisor/lib/python3.9/site-packages (from ploomber->-r requirements.txt (line 3)) (1.6.0)\n",
      "Requirement already satisfied: parso in /Users/Edu/miniconda3/envs/soopervisor/lib/python3.9/site-packages (from ploomber->-r requirements.txt (line 3)) (0.8.3)\n",
      "Requirement already satisfied: mistune in /Users/Edu/miniconda3/envs/soopervisor/lib/python3.9/site-packages (from ploomber->-r requirements.txt (line 3)) (0.8.4)\n",
      "Requirement already satisfied: pygments in /Users/Edu/miniconda3/envs/soopervisor/lib/python3.9/site-packages (from ploomber->-r requirements.txt (line 3)) (2.11.2)\n",
      "Requirement already satisfied: sqlalchemy in /Users/Edu/miniconda3/envs/soopervisor/lib/python3.9/site-packages (from ploomber->-r requirements.txt (line 3)) (1.3.24)\n",
      "Requirement already satisfied: click in /Users/Edu/miniconda3/envs/soopervisor/lib/python3.9/site-packages (from ploomber->-r requirements.txt (line 3)) (8.0.4)\n",
      "Requirement already satisfied: ipdb in /Users/Edu/miniconda3/envs/soopervisor/lib/python3.9/site-packages (from ploomber->-r requirements.txt (line 3)) (0.13.9)\n",
      "Requirement already satisfied: pydantic in /Users/Edu/miniconda3/envs/soopervisor/lib/python3.9/site-packages (from ploomber->-r requirements.txt (line 3)) (1.9.0)\n",
      "Requirement already satisfied: papermill in /Users/Edu/miniconda3/envs/soopervisor/lib/python3.9/site-packages (from ploomber->-r requirements.txt (line 3)) (2.3.4)\n",
      "Requirement already satisfied: jupytext in /Users/Edu/miniconda3/envs/soopervisor/lib/python3.9/site-packages (from ploomber->-r requirements.txt (line 3)) (1.13.7)\n",
      "Requirement already satisfied: jupyter_client>=5.3.1 in /Users/Edu/miniconda3/envs/soopervisor/lib/python3.9/site-packages (from ploomber->-r requirements.txt (line 3)) (7.1.2)\n",
      "Requirement already satisfied: nbconvert>=5.6.0 in /Users/Edu/miniconda3/envs/soopervisor/lib/python3.9/site-packages (from ploomber->-r requirements.txt (line 3)) (6.4.4)\n",
      "Requirement already satisfied: nbformat in /Users/Edu/miniconda3/envs/soopervisor/lib/python3.9/site-packages (from ploomber->-r requirements.txt (line 3)) (5.2.0)\n",
      "Requirement already satisfied: pyflakes in /Users/Edu/miniconda3/envs/soopervisor/lib/python3.9/site-packages (from ploomber->-r requirements.txt (line 3)) (2.4.0)\n",
      "Requirement already satisfied: threadpoolctl>=2.0.0 in /Users/Edu/miniconda3/envs/soopervisor/lib/python3.9/site-packages (from scikit-learn->-r requirements.txt (line 5)) (3.1.0)\n",
      "Requirement already satisfied: scipy>=1.1.0 in /Users/Edu/miniconda3/envs/soopervisor/lib/python3.9/site-packages (from scikit-learn->-r requirements.txt (line 5)) (1.8.0)\n",
      "Requirement already satisfied: joblib>=0.11 in /Users/Edu/miniconda3/envs/soopervisor/lib/python3.9/site-packages (from scikit-learn->-r requirements.txt (line 5)) (1.1.0)\n",
      "Requirement already satisfied: decorator in /Users/Edu/miniconda3/envs/soopervisor/lib/python3.9/site-packages (from sklearn-evaluation->-r requirements.txt (line 6)) (5.1.1)\n",
      "Collecting black\n",
      "  Using cached black-22.6.0-cp39-cp39-macosx_10_9_x86_64.whl (1.4 MB)\n",
      "Collecting matplotlib\n",
      "  Using cached matplotlib-3.5.3-cp39-cp39-macosx_10_9_x86_64.whl (7.3 MB)\n",
      "Requirement already satisfied: build in /Users/Edu/miniconda3/envs/soopervisor/lib/python3.9/site-packages (from soopervisor->-r requirements.txt (line 7)) (0.7.0)\n",
      "Requirement already satisfied: debugpy<2.0,>=1.0.0 in /Users/Edu/miniconda3/envs/soopervisor/lib/python3.9/site-packages (from ipykernel>=4.5.1->ipywidgets->-r requirements.txt (line 1)) (1.6.0)\n",
      "Requirement already satisfied: tornado<7.0,>=4.2 in /Users/Edu/miniconda3/envs/soopervisor/lib/python3.9/site-packages (from ipykernel>=4.5.1->ipywidgets->-r requirements.txt (line 1)) (6.1)\n",
      "Requirement already satisfied: appnope in /Users/Edu/miniconda3/envs/soopervisor/lib/python3.9/site-packages (from ipykernel>=4.5.1->ipywidgets->-r requirements.txt (line 1)) (0.1.2)\n",
      "Requirement already satisfied: nest-asyncio in /Users/Edu/miniconda3/envs/soopervisor/lib/python3.9/site-packages (from ipykernel>=4.5.1->ipywidgets->-r requirements.txt (line 1)) (1.5.4)\n",
      "Requirement already satisfied: matplotlib-inline<0.2.0,>=0.1.0 in /Users/Edu/miniconda3/envs/soopervisor/lib/python3.9/site-packages (from ipykernel>=4.5.1->ipywidgets->-r requirements.txt (line 1)) (0.1.3)\n",
      "Requirement already satisfied: psutil in /Users/Edu/miniconda3/envs/soopervisor/lib/python3.9/site-packages (from ipykernel>=4.5.1->ipywidgets->-r requirements.txt (line 1)) (5.9.0)\n",
      "Requirement already satisfied: prompt-toolkit!=3.0.0,!=3.0.1,<3.1.0,>=2.0.0 in /Users/Edu/miniconda3/envs/soopervisor/lib/python3.9/site-packages (from ipython>=6.1.0->ipywidgets->-r requirements.txt (line 1)) (3.0.28)\n",
      "Requirement already satisfied: backcall in /Users/Edu/miniconda3/envs/soopervisor/lib/python3.9/site-packages (from ipython>=6.1.0->ipywidgets->-r requirements.txt (line 1)) (0.2.0)\n",
      "Requirement already satisfied: setuptools>=18.5 in /Users/Edu/miniconda3/envs/soopervisor/lib/python3.9/site-packages (from ipython>=6.1.0->ipywidgets->-r requirements.txt (line 1)) (61.1.0)\n",
      "Requirement already satisfied: jedi>=0.16 in /Users/Edu/miniconda3/envs/soopervisor/lib/python3.9/site-packages (from ipython>=6.1.0->ipywidgets->-r requirements.txt (line 1)) (0.18.1)\n",
      "Requirement already satisfied: pickleshare in /Users/Edu/miniconda3/envs/soopervisor/lib/python3.9/site-packages (from ipython>=6.1.0->ipywidgets->-r requirements.txt (line 1)) (0.7.5)\n",
      "Requirement already satisfied: pexpect>4.3 in /Users/Edu/miniconda3/envs/soopervisor/lib/python3.9/site-packages (from ipython>=6.1.0->ipywidgets->-r requirements.txt (line 1)) (4.8.0)\n",
      "Requirement already satisfied: pyzmq>=13 in /Users/Edu/miniconda3/envs/soopervisor/lib/python3.9/site-packages (from jupyter_client>=5.3.1->ploomber->-r requirements.txt (line 3)) (22.3.0)\n",
      "Requirement already satisfied: jupyter-core>=4.6.0 in /Users/Edu/miniconda3/envs/soopervisor/lib/python3.9/site-packages (from jupyter_client>=5.3.1->ploomber->-r requirements.txt (line 3)) (4.9.2)\n",
      "Requirement already satisfied: entrypoints in /Users/Edu/miniconda3/envs/soopervisor/lib/python3.9/site-packages (from jupyter_client>=5.3.1->ploomber->-r requirements.txt (line 3)) (0.4)\n",
      "Requirement already satisfied: pandocfilters>=1.4.1 in /Users/Edu/miniconda3/envs/soopervisor/lib/python3.9/site-packages (from nbconvert>=5.6.0->ploomber->-r requirements.txt (line 3)) (1.5.0)\n",
      "Requirement already satisfied: defusedxml in /Users/Edu/miniconda3/envs/soopervisor/lib/python3.9/site-packages (from nbconvert>=5.6.0->ploomber->-r requirements.txt (line 3)) (0.7.1)\n",
      "Requirement already satisfied: testpath in /Users/Edu/miniconda3/envs/soopervisor/lib/python3.9/site-packages (from nbconvert>=5.6.0->ploomber->-r requirements.txt (line 3)) (0.6.0)\n",
      "Requirement already satisfied: beautifulsoup4 in /Users/Edu/miniconda3/envs/soopervisor/lib/python3.9/site-packages (from nbconvert>=5.6.0->ploomber->-r requirements.txt (line 3)) (4.10.0)\n",
      "Requirement already satisfied: bleach in /Users/Edu/miniconda3/envs/soopervisor/lib/python3.9/site-packages (from nbconvert>=5.6.0->ploomber->-r requirements.txt (line 3)) (4.1.0)\n",
      "Requirement already satisfied: jupyterlab-pygments in /Users/Edu/miniconda3/envs/soopervisor/lib/python3.9/site-packages (from nbconvert>=5.6.0->ploomber->-r requirements.txt (line 3)) (0.1.2)\n",
      "Requirement already satisfied: nbclient<0.6.0,>=0.5.0 in /Users/Edu/miniconda3/envs/soopervisor/lib/python3.9/site-packages (from nbconvert>=5.6.0->ploomber->-r requirements.txt (line 3)) (0.5.13)\n",
      "Requirement already satisfied: MarkupSafe>=2.0 in /Users/Edu/miniconda3/envs/soopervisor/lib/python3.9/site-packages (from jinja2->ploomber->-r requirements.txt (line 3)) (2.0.1)\n",
      "Requirement already satisfied: jsonschema!=2.5.0,>=2.4 in /Users/Edu/miniconda3/envs/soopervisor/lib/python3.9/site-packages (from nbformat->ploomber->-r requirements.txt (line 3)) (3.2.0)\n",
      "Requirement already satisfied: debuglater in /Users/Edu/miniconda3/envs/soopervisor/lib/python3.9/site-packages (from ploomber-engine>=0.0.8->ploomber->-r requirements.txt (line 3)) (1.4.3)\n",
      "Requirement already satisfied: six>=1.5 in /Users/Edu/miniconda3/envs/soopervisor/lib/python3.9/site-packages (from python-dateutil>=2.8.1->pandas->-r requirements.txt (line 2)) (1.16.0)\n",
      "Requirement already satisfied: toml in /Users/Edu/miniconda3/envs/soopervisor/lib/python3.9/site-packages (from autopep8->ploomber->-r requirements.txt (line 3)) (0.10.2)\n",
      "Requirement already satisfied: pycodestyle>=2.8.0 in /Users/Edu/miniconda3/envs/soopervisor/lib/python3.9/site-packages (from autopep8->ploomber->-r requirements.txt (line 3)) (2.8.0)\n",
      "Collecting pathspec>=0.9.0\n",
      "  Using cached pathspec-0.9.0-py2.py3-none-any.whl (31 kB)\n",
      "Collecting mypy-extensions>=0.4.3\n",
      "  Using cached mypy_extensions-0.4.3-py2.py3-none-any.whl (4.5 kB)\n",
      "Collecting platformdirs>=2\n",
      "  Using cached platformdirs-2.5.2-py3-none-any.whl (14 kB)\n",
      "Requirement already satisfied: typing-extensions>=3.10.0.0 in /Users/Edu/miniconda3/envs/soopervisor/lib/python3.9/site-packages (from black->sklearn-evaluation->-r requirements.txt (line 6)) (4.1.1)\n",
      "Requirement already satisfied: tomli>=1.1.0 in /Users/Edu/miniconda3/envs/soopervisor/lib/python3.9/site-packages (from black->sklearn-evaluation->-r requirements.txt (line 6)) (2.0.1)\n",
      "Requirement already satisfied: packaging>=19.0 in /Users/Edu/miniconda3/envs/soopervisor/lib/python3.9/site-packages (from build->soopervisor->-r requirements.txt (line 7)) (21.3)\n",
      "Requirement already satisfied: pep517>=0.9.1 in /Users/Edu/miniconda3/envs/soopervisor/lib/python3.9/site-packages (from build->soopervisor->-r requirements.txt (line 7)) (0.12.0)\n",
      "Requirement already satisfied: mdit-py-plugins in /Users/Edu/miniconda3/envs/soopervisor/lib/python3.9/site-packages (from jupytext->ploomber->-r requirements.txt (line 3)) (0.3.0)\n",
      "Requirement already satisfied: markdown-it-py~=1.0 in /Users/Edu/miniconda3/envs/soopervisor/lib/python3.9/site-packages (from jupytext->ploomber->-r requirements.txt (line 3)) (1.1.0)\n",
      "Collecting kiwisolver>=1.0.1\n",
      "  Using cached kiwisolver-1.4.4-cp39-cp39-macosx_10_9_x86_64.whl (65 kB)\n",
      "Requirement already satisfied: pyparsing>=2.2.1 in /Users/Edu/miniconda3/envs/soopervisor/lib/python3.9/site-packages (from matplotlib->sklearn-evaluation->-r requirements.txt (line 6)) (3.0.7)\n",
      "Collecting pillow>=6.2.0\n",
      "  Using cached Pillow-9.2.0-cp39-cp39-macosx_10_10_x86_64.whl (3.1 MB)\n",
      "Collecting fonttools>=4.22.0\n",
      "  Downloading fonttools-4.37.1-py3-none-any.whl (957 kB)\n",
      "     ━━━━━━━━━━━━━━━━━━━━━━━━━━━━━━━━━━━━━━━ 957.2/957.2 KB 5.7 MB/s eta 0:00:00\n",
      "Collecting cycler>=0.10\n",
      "  Using cached cycler-0.11.0-py3-none-any.whl (6.4 kB)\n",
      "Requirement already satisfied: requests in /Users/Edu/miniconda3/envs/soopervisor/lib/python3.9/site-packages (from papermill->ploomber->-r requirements.txt (line 3)) (2.27.1)\n",
      "Requirement already satisfied: tenacity in /Users/Edu/miniconda3/envs/soopervisor/lib/python3.9/site-packages (from papermill->ploomber->-r requirements.txt (line 3)) (8.0.1)\n",
      "Requirement already satisfied: ansiwrap in /Users/Edu/miniconda3/envs/soopervisor/lib/python3.9/site-packages (from papermill->ploomber->-r requirements.txt (line 3)) (0.8.4)\n",
      "Requirement already satisfied: monotonic>=1.5 in /Users/Edu/miniconda3/envs/soopervisor/lib/python3.9/site-packages (from posthog->ploomber->-r requirements.txt (line 3)) (1.6)\n",
      "Requirement already satisfied: backoff<2.0.0,>=1.10.0 in /Users/Edu/miniconda3/envs/soopervisor/lib/python3.9/site-packages (from posthog->ploomber->-r requirements.txt (line 3)) (1.11.1)\n",
      "Requirement already satisfied: attrs>=17.4.0 in /Users/Edu/miniconda3/envs/soopervisor/lib/python3.9/site-packages (from jsonschema!=2.5.0,>=2.4->nbformat->ploomber->-r requirements.txt (line 3)) (20.3.0)\n",
      "Requirement already satisfied: pyrsistent>=0.14.0 in /Users/Edu/miniconda3/envs/soopervisor/lib/python3.9/site-packages (from jsonschema!=2.5.0,>=2.4->nbformat->ploomber->-r requirements.txt (line 3)) (0.18.1)\n",
      "Requirement already satisfied: ptyprocess>=0.5 in /Users/Edu/miniconda3/envs/soopervisor/lib/python3.9/site-packages (from pexpect>4.3->ipython>=6.1.0->ipywidgets->-r requirements.txt (line 1)) (0.7.0)\n",
      "Requirement already satisfied: wcwidth in /Users/Edu/miniconda3/envs/soopervisor/lib/python3.9/site-packages (from prompt-toolkit!=3.0.0,!=3.0.1,<3.1.0,>=2.0.0->ipython>=6.1.0->ipywidgets->-r requirements.txt (line 1)) (0.2.5)\n",
      "Requirement already satisfied: charset-normalizer~=2.0.0 in /Users/Edu/miniconda3/envs/soopervisor/lib/python3.9/site-packages (from requests->papermill->ploomber->-r requirements.txt (line 3)) (2.0.12)\n",
      "Requirement already satisfied: idna<4,>=2.5 in /Users/Edu/miniconda3/envs/soopervisor/lib/python3.9/site-packages (from requests->papermill->ploomber->-r requirements.txt (line 3)) (2.8)\n",
      "Requirement already satisfied: urllib3<1.27,>=1.21.1 in /Users/Edu/miniconda3/envs/soopervisor/lib/python3.9/site-packages (from requests->papermill->ploomber->-r requirements.txt (line 3)) (1.26.9)\n",
      "Requirement already satisfied: certifi>=2017.4.17 in /Users/Edu/miniconda3/envs/soopervisor/lib/python3.9/site-packages (from requests->papermill->ploomber->-r requirements.txt (line 3)) (2021.10.8)\n",
      "Requirement already satisfied: textwrap3>=0.9.2 in /Users/Edu/miniconda3/envs/soopervisor/lib/python3.9/site-packages (from ansiwrap->papermill->ploomber->-r requirements.txt (line 3)) (0.9.2)\n",
      "Requirement already satisfied: soupsieve>1.2 in /Users/Edu/miniconda3/envs/soopervisor/lib/python3.9/site-packages (from beautifulsoup4->nbconvert>=5.6.0->ploomber->-r requirements.txt (line 3)) (2.3.1)\n",
      "Requirement already satisfied: webencodings in /Users/Edu/miniconda3/envs/soopervisor/lib/python3.9/site-packages (from bleach->nbconvert>=5.6.0->ploomber->-r requirements.txt (line 3)) (0.5.1)\n",
      "Requirement already satisfied: colorama in /Users/Edu/miniconda3/envs/soopervisor/lib/python3.9/site-packages (from debuglater->ploomber-engine>=0.0.8->ploomber->-r requirements.txt (line 3)) (0.4.4)\n",
      "Installing collected packages: mypy-extensions, widgetsnbextension, pyarrow, platformdirs, pillow, pathspec, kiwisolver, jupyterlab-widgets, fonttools, cycler, matplotlib, black, sklearn-evaluation, ipywidgets\n",
      "Successfully installed black-22.6.0 cycler-0.11.0 fonttools-4.37.1 ipywidgets-8.0.1 jupyterlab-widgets-3.0.2 kiwisolver-1.4.4 matplotlib-3.5.3 mypy-extensions-0.4.3 pathspec-0.9.0 pillow-9.2.0 platformdirs-2.5.2 pyarrow-9.0.0 sklearn-evaluation-0.7 widgetsnbextension-4.0.2\n"
     ]
    }
   ],
   "source": [
    "%%bash\n",
    "ploomber examples -n templates/ml-intermediate -o ml-intermediate\n",
    "cd ml-intermediate\n",
    "\n",
    "# configure development environment\n",
    "cp requirements.txt requirements.lock.txt\n",
    "pip install -r requirements.txt"
   ]
  },
  {
   "cell_type": "code",
   "execution_count": 15,
   "id": "cf8a1f40-903c-4fef-9f6a-2b9772164ab7",
   "metadata": {},
   "outputs": [
    {
     "name": "stdout",
     "output_type": "stream",
     "text": [
      "================================= Loading DAG ==================================\n",
      "No pipeline.training.yaml found, looking for pipeline.yaml instead\n",
      "Found /Users/Edu/dev/soopervisor/kind/ml-intermediate/pipeline.yaml. Loading...\n",
      "= Adding /Users/Edu/dev/soopervisor/kind/ml-intermediate/training/Dockerfile... =\n",
      "===================================== Done =====================================\n",
      "Environment added, to export it:\n",
      "\t $ soopervisor export training\n",
      "To force execution of all tasks:\n",
      "\t $ soopervisor export training --mode force\n",
      "\n"
     ]
    }
   ],
   "source": [
    "%%bash\n",
    "cd ml-intermediate\n",
    "soopervisor add training --backend argo-workflows"
   ]
  },
  {
   "cell_type": "code",
   "execution_count": 16,
   "id": "5e14da0b-7f61-435b-84a8-a764a896467f",
   "metadata": {},
   "outputs": [
    {
     "name": "stderr",
     "output_type": "stream",
     "text": [
      "  % Total    % Received % Xferd  Average Speed   Time    Time     Time  Current\n",
      "                                 Dload  Upload   Total   Spent    Left  Speed\n",
      "100    38  100    38    0     0    208      0 --:--:-- --:--:-- --:--:--   208\n"
     ]
    }
   ],
   "source": [
    "%%bash\n",
    "cd ml-intermediate\n",
    "curl https://raw.githubusercontent.com/ploomber/soopervisor/master/tutorials/kubernetes/env-k8s.yaml -o env.yaml"
   ]
  },
  {
   "cell_type": "code",
   "execution_count": 17,
   "id": "cc650ac7-e4b7-4e4c-ac87-11fdd2dd487a",
   "metadata": {},
   "outputs": [
    {
     "name": "stderr",
     "output_type": "stream",
     "text": [
      "  % Total    % Received % Xferd  Average Speed   Time    Time     Time  Current\n",
      "                                 Dload  Upload   Total   Spent    Left  Speed\n",
      "100   284  100   284    0     0   1007      0 --:--:-- --:--:-- --:--:--  1007\n"
     ]
    }
   ],
   "source": [
    "%%bash\n",
    "cd ml-intermediate\n",
    "curl https://raw.githubusercontent.com/ploomber/soopervisor/master/tutorials/kubernetes/soopervisor-k8s.yaml -o soopervisor.yaml"
   ]
  },
  {
   "cell_type": "code",
   "execution_count": 37,
   "id": "ab9b5a45-dfeb-4c7f-9f0a-0620ad523fc1",
   "metadata": {},
   "outputs": [
    {
     "name": "stdout",
     "output_type": "stream",
     "text": [
      "================================= Loading DAG ==================================\n",
      "No pipeline.training.yaml found, looking for pipeline.yaml instead\n",
      "Found /Users/Edu/dev/soopervisor/kind/ml-intermediate/pipeline.yaml. Loading...\n",
      "================================= Loading DAG ==================================\n",
      "No pipeline.training.yaml found, looking for pipeline.yaml instead\n",
      "Found /Users/Edu/dev/soopervisor/kind/ml-intermediate/pipeline.yaml. Loading...\n",
      "================================ Packaging code ================================\n",
      "Copying soopervisor.yaml -> dist/ml-intermediate/soopervisor.yaml\n",
      "Copying env.serve.yaml -> dist/ml-intermediate/env.serve.yaml\n",
      "Copying tasks/__init__.py -> dist/ml-intermediate/tasks/__init__.py\n",
      "Copying tasks/serve.py -> dist/ml-intermediate/tasks/serve.py\n",
      "Copying tasks/features.py -> dist/ml-intermediate/tasks/features.py\n",
      "Copying tasks/join.py -> dist/ml-intermediate/tasks/join.py\n",
      "Copying tasks/get.py -> dist/ml-intermediate/tasks/get.py\n",
      "Copying fit.py -> dist/ml-intermediate/fit.py\n",
      "Copying requirements.txt -> dist/ml-intermediate/requirements.txt\n",
      "Copying environment.yml -> dist/ml-intermediate/environment.yml\n",
      "Copying env.yaml -> dist/ml-intermediate/env.yaml\n",
      "Copying training/Dockerfile -> dist/ml-intermediate/training/Dockerfile\n",
      "Copying training/argo.yaml -> dist/ml-intermediate/training/argo.yaml\n",
      "Copying training/requirements.lock.txt -> dist/ml-intermediate/training/requirements.lock.txt\n",
      "Copying README.ipynb -> dist/ml-intermediate/README.ipynb\n",
      "Copying integration.py -> dist/ml-intermediate/integration.py\n",
      "Copying README.md -> dist/ml-intermediate/README.md\n",
      "Copying clients.py -> dist/ml-intermediate/clients.py\n",
      "Copying partial.features.yaml -> dist/ml-intermediate/partial.features.yaml\n",
      "Copying _source.md -> dist/ml-intermediate/_source.md\n",
      "Copying requirements.lock.txt -> dist/ml-intermediate/requirements.lock.txt\n",
      "Copying env.local.yaml -> dist/ml-intermediate/env.local.yaml\n",
      "Copying pipeline.yaml -> dist/ml-intermediate/pipeline.yaml\n",
      "Copying pipeline.serve.yaml -> dist/ml-intermediate/pipeline.serve.yaml\n",
      "Compressing directory , src : dist/ml-intermediate, dst : dist/ml-intermediate.tar.gz\n",
      "docker args: ['docker', 'build', '.', '--tag', 'ml-intermediate:latest-default']\n",
      "===== Building image: docker build . --tag ml-intermediate:latest-default ======\n",
      "===================== Generating Argo Workflows YAML spec ======================\n",
      "null repository found in soopervisor.yaml, setting imagePullPolicy to \"Never\"\n",
      "Done. Saved argo spec to 'training/argo.yaml'\n",
      "Submit your workflow with: argo submit -n argo training/argo.yaml\n",
      "==================================== Done. =====================================\n",
      "=================================== Warnings ===================================\n",
      "Your git repository contains uncommitted files, which will be ignored when building the Docker image. Commit them if needed.\n",
      "================================================================================\n"
     ]
    },
    {
     "name": "stderr",
     "output_type": "stream",
     "text": [
      "100%|██████████| 5/5 [00:00<00:00, 3272.20it/s]\n",
      "#1 [internal] load build definition from Dockerfile\n",
      "#1 sha256:f89d895001ec67b441260e7a18d9becac6e2cfcbbe0968174a4beb2593e446a4\n",
      "#1 transferring dockerfile: 37B 0.0s done\n",
      "#1 DONE 0.1s\n",
      "\n",
      "#2 [internal] load .dockerignore\n",
      "#2 sha256:e03270e169da127e3d41269228afb3ac1ce7456ceeb95cc669762193447e3c2f\n",
      "#2 transferring context: 2B done\n",
      "#2 DONE 0.0s\n",
      "\n",
      "#3 [internal] load metadata for docker.io/condaforge/mambaforge:4.10.1-0\n",
      "#3 sha256:9b12efa2a5d145f1e49b558cab6574b00e33d523e33b5f48656f7ff13e753cb9\n",
      "#3 DONE 1.7s\n",
      "\n",
      "#4 [1/7] FROM docker.io/condaforge/mambaforge:4.10.1-0@sha256:0afe653d5d0af8269e221009c88f378b4d5662967114d91de6b38171985d9637\n",
      "#4 sha256:f54afc42d2bd43672081f35d5c21b3b7903983738735bf8fed474deb9617d9bb\n",
      "#4 DONE 0.0s\n",
      "\n",
      "#5 [internal] load build context\n",
      "#5 sha256:5b00ba47c695241a2ac83a49666dbda9b7edfa2cc6a48d021c8706829d85a285\n",
      "#5 transferring context: 127.75kB 0.0s done\n",
      "#5 DONE 0.0s\n",
      "\n",
      "#6 [2/7] COPY requirements.lock.txt project/requirements.lock.txt\n",
      "#6 sha256:3f2a5ce93d0b14f869c8215e142ed2a46ef520cde3e2b5909ae6d2f74032dcda\n",
      "#6 CACHED\n",
      "\n",
      "#7 [3/7] RUN pip install --requirement project/requirements.lock.txt && rm -rf /root/.cache/pip/\n",
      "#7 sha256:258fade1546ce21f0eee4eaef03651d1ba0848bc72828fa66d6aa677ca4f3f2e\n",
      "#7 CACHED\n",
      "\n",
      "#8 [4/7] COPY dist/* project/\n",
      "#8 sha256:1296e505540efecf0c5a3be0cf6e51b3ba43091d5d23781f25111195c81ac4c3\n",
      "#8 DONE 0.0s\n",
      "\n",
      "#9 [5/7] WORKDIR /project/\n",
      "#9 sha256:674b896f49cfe76bdf59845c47094863d4d7893012b02a358224a1071fe266a1\n",
      "#9 DONE 0.0s\n",
      "\n",
      "#10 [6/7] RUN tar --strip-components=1 -zxvf *.tar.gz\n",
      "#10 sha256:1fa1b0888d5e4ad085f870bee8181455fa21fdcdcb2555ae6e99ae041c60e061\n",
      "#10 1.018 ml-intermediate/README.ipynb\n",
      "#10 1.020 ml-intermediate/README.md\n",
      "#10 1.020 ml-intermediate/_source.md\n",
      "#10 1.020 ml-intermediate/clients.py\n",
      "#10 1.020 ml-intermediate/env.local.yaml\n",
      "#10 1.020 ml-intermediate/env.serve.yaml\n",
      "#10 1.021 ml-intermediate/env.yaml\n",
      "#10 1.021 ml-intermediate/environment.yml\n",
      "#10 1.022 ml-intermediate/fit.py\n",
      "#10 1.022 ml-intermediate/integration.py\n",
      "#10 1.022 ml-intermediate/partial.features.yaml\n",
      "#10 1.022 ml-intermediate/pipeline.serve.yaml\n",
      "#10 1.023 ml-intermediate/pipeline.yaml\n",
      "#10 1.023 ml-intermediate/requirements.lock.txt\n",
      "#10 1.023 ml-intermediate/requirements.txt\n",
      "#10 1.023 ml-intermediate/soopervisor.yaml\n",
      "#10 1.023 ml-intermediate/tasks/\n",
      "#10 1.024 ml-intermediate/tasks/__init__.py\n",
      "#10 1.024 ml-intermediate/tasks/features.py\n",
      "#10 1.024 ml-intermediate/tasks/get.py\n",
      "#10 1.024 ml-intermediate/tasks/join.py\n",
      "#10 1.024 ml-intermediate/tasks/serve.py\n",
      "#10 1.025 ml-intermediate/training/\n",
      "#10 1.025 ml-intermediate/training/Dockerfile\n",
      "#10 1.025 ml-intermediate/training/argo.yaml\n",
      "#10 1.025 ml-intermediate/training/requirements.lock.txt\n",
      "#10 DONE 1.0s\n",
      "\n",
      "#11 [7/7] RUN cp -r /project/ploomber/ /root/.ploomber/  || echo 'ploomber home does not exist'\n",
      "#11 sha256:0e2772620fb0eb5506d7ee4582998a17cf1c53a8a67e85db823827326a08c1aa\n",
      "#11 0.347 cp: cannot stat '/project/ploomber/': No such file or directory\n",
      "#11 0.347 ploomber home does not exist\n",
      "#11 DONE 0.4s\n",
      "\n",
      "#12 exporting to image\n",
      "#12 sha256:e8c613e07b0b7ff33893b694f7759a10d42e180f2b4dc349fb57dc6b71dcab00\n",
      "#12 exporting layers\n",
      "#12 exporting layers 0.1s done\n",
      "#12 writing image sha256:6ffb204a32c6c71f298bfeaa11002fdb9d49b9e6119daf00cd68cbef29f21be1 done\n",
      "#12 naming to docker.io/library/ml-intermediate:latest-default done\n",
      "#12 DONE 0.1s\n",
      "\n",
      "Use 'docker scan' to run Snyk tests against images to find vulnerabilities and learn how to fix them\n"
     ]
    }
   ],
   "source": [
    "%%bash\n",
    "cd ml-intermediate\n",
    "soopervisor export training --skip-tests --ignore-git --mode force"
   ]
  },
  {
   "cell_type": "code",
   "execution_count": 38,
   "id": "e011aaaf-4aed-4002-b3dc-98f64b14c291",
   "metadata": {},
   "outputs": [
    {
     "name": "stderr",
     "output_type": "stream",
     "text": [
      "Image: \"ml-intermediate:latest-default\" with ID \"sha256:6ffb204a32c6c71f298bfeaa11002fdb9d49b9e6119daf00cd68cbef29f21be1\" not yet present on node \"kind-control-plane\", loading...\n"
     ]
    }
   ],
   "source": [
    "%%bash\n",
    "kind load docker-image ml-intermediate:latest-default"
   ]
  },
  {
   "cell_type": "code",
   "execution_count": 63,
   "id": "a051e016-fedd-4a96-8564-1eb067e5353a",
   "metadata": {},
   "outputs": [
    {
     "name": "stdout",
     "output_type": "stream",
     "text": [
      "Name:                ml-intermediate-527nn\n",
      "Namespace:           argo\n",
      "ServiceAccount:      default\n",
      "Status:              Pending\n",
      "Created:             Sat Aug 27 22:37:08 -0500 (now)\n",
      "Progress:            \n"
     ]
    }
   ],
   "source": [
    "%%bash\n",
    "cd ml-intermediate\n",
    "argo submit -n argo training/argo.yaml"
   ]
  },
  {
   "cell_type": "code",
   "execution_count": 64,
   "id": "ac06dc88-1a84-4cd8-8136-887afd298afb",
   "metadata": {},
   "outputs": [
    {
     "name": "stdout",
     "output_type": "stream",
     "text": [
      "@latest Succeeded at 2022-08-27 22:39:00 -0500 CDT\n"
     ]
    }
   ],
   "source": [
    "%%bash\n",
    "argo wait @latest -n argo"
   ]
  },
  {
   "cell_type": "code",
   "execution_count": 65,
   "id": "7ca15f79-e9cd-42e2-b1f7-cc0688ceec3f",
   "metadata": {},
   "outputs": [
    {
     "name": "stdout",
     "output_type": "stream",
     "text": [
      "Name:                ml-intermediate-527nn\n",
      "Namespace:           argo\n",
      "ServiceAccount:      default\n",
      "Status:              Succeeded\n",
      "Conditions:          \n",
      " PodRunning          False\n",
      " Completed           True\n",
      "Created:             Sat Aug 27 22:37:08 -0500 (1 minute ago)\n",
      "Started:             Sat Aug 27 22:37:08 -0500 (1 minute ago)\n",
      "Finished:            Sat Aug 27 22:39:00 -0500 (1 second ago)\n",
      "Duration:            1 minute 52 seconds\n",
      "Progress:            5/5\n",
      "ResourcesDuration:   2m30s*(1 cpu),2m30s*(100Mi memory)\n",
      "\n",
      "\u001b[39mSTEP\u001b[0m                      TEMPLATE  PODNAME                           DURATION  MESSAGE\n",
      " \u001b[32m✔\u001b[0m ml-intermediate-527nn  dag                                                     \n",
      " ├─\u001b[32m✔\u001b[0m get                  run-task  ml-intermediate-527nn-2388056745  13s         \n",
      " ├─\u001b[32m✔\u001b[0m petal-area           run-task  ml-intermediate-527nn-891858397   19s         \n",
      " ├─\u001b[32m✔\u001b[0m sepal-area           run-task  ml-intermediate-527nn-3280603182  19s         \n",
      " ├─\u001b[32m✔\u001b[0m join                 run-task  ml-intermediate-527nn-3141811951  15s         \n",
      " └─\u001b[32m✔\u001b[0m fit                  run-task  ml-intermediate-527nn-4210443830  27s         \n"
     ]
    }
   ],
   "source": [
    "%%bash\n",
    "argo get @latest -n argo"
   ]
  },
  {
   "cell_type": "code",
   "execution_count": 67,
   "id": "149bf1a1-81b7-4aef-b143-a6855ad348b0",
   "metadata": {},
   "outputs": [
    {
     "name": "stdout",
     "output_type": "stream",
     "text": [
      "get.parquet         model.pickle        petal_area.parquet\n",
      "join.parquet        nb.html             sepal_area.parquet\n"
     ]
    }
   ],
   "source": [
    "ls outputs/sample=False"
   ]
  },
  {
   "cell_type": "code",
   "execution_count": null,
   "id": "08b2dd46-476e-4fa8-8219-792de205a796",
   "metadata": {},
   "outputs": [],
   "source": []
  }
 ],
 "metadata": {
  "kernelspec": {
   "display_name": "Python 3 (ipykernel)",
   "language": "python",
   "name": "python3"
  },
  "language_info": {
   "codemirror_mode": {
    "name": "ipython",
    "version": 3
   },
   "file_extension": ".py",
   "mimetype": "text/x-python",
   "name": "python",
   "nbconvert_exporter": "python",
   "pygments_lexer": "ipython3",
   "version": "3.9.12"
  }
 },
 "nbformat": 4,
 "nbformat_minor": 5
}
