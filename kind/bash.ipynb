{
 "cells": [
  {
   "cell_type": "code",
   "execution_count": 22,
   "id": "6595e08d-fcd3-41c7-a0c2-4b3fae0f5a08",
   "metadata": {},
   "outputs": [
    {
     "name": "stdout",
     "output_type": "stream",
     "text": [
      "You have new mail in /var/mail/Edu\n",
      "(soopervisor) "
     ]
    },
    {
     "ename": "",
     "evalue": "1",
     "output_type": "error",
     "traceback": []
    }
   ],
   "source": [
    "conda activate soopervisor"
   ]
  },
  {
   "cell_type": "code",
   "execution_count": 27,
   "id": "439bf9e0-b23c-44d3-9b8c-f9f9ac8d1535",
   "metadata": {},
   "outputs": [
    {
     "name": "stdout",
     "output_type": "stream",
     "text": [
      "/Users/Edu/miniconda3/envs/soopervisor/bin/python\n",
      "(soopervisor) "
     ]
    },
    {
     "ename": "",
     "evalue": "1",
     "output_type": "error",
     "traceback": []
    }
   ],
   "source": [
    "which python"
   ]
  },
  {
   "cell_type": "code",
   "execution_count": 8,
   "id": "20408a42-9615-4905-98ab-f0868c545e24",
   "metadata": {},
   "outputs": [
    {
     "name": "stdout",
     "output_type": "stream",
     "text": [
      "/Users/Edu/dev/soopervisor/kind\n"
     ]
    }
   ],
   "source": [
    "pwd"
   ]
  },
  {
   "cell_type": "code",
   "execution_count": 11,
   "id": "2dbf493f-09d6-4cbb-bc73-e491ff675cdb",
   "metadata": {},
   "outputs": [
    {
     "name": "stdout",
     "output_type": "stream",
     "text": [
      "argo.ipynb        kind-config.yaml  \u001b[1m\u001b[36mml-intermediate\u001b[39;49m\u001b[0m/\n",
      "bash.ipynb        long.py           \u001b[1m\u001b[36moutputs\u001b[39;49m\u001b[0m/\n"
     ]
    }
   ],
   "source": [
    "ls"
   ]
  },
  {
   "cell_type": "code",
   "execution_count": 9,
   "id": "74f4aef7-31ac-468f-90c8-f5d2ed71ac16",
   "metadata": {},
   "outputs": [
    {
     "name": "stdout",
     "output_type": "stream",
     "text": [
      "Deleting cluster \"kind\" ...\n"
     ]
    }
   ],
   "source": [
    "kind delete cluster"
   ]
  },
  {
   "cell_type": "code",
   "execution_count": 12,
   "id": "e6aaa7d4-354d-4c00-bf21-6247dd87ab9f",
   "metadata": {},
   "outputs": [
    {
     "name": "stdout",
     "output_type": "stream",
     "text": [
      "Creating cluster \"kind\" ...\n",
      " \u001b[32m✓\u001b[0m Ensuring node image (kindest/node:v1.24.0) 🖼7l\n",
      " \u001b[32m✓\u001b[0m Preparing nodes 📦 7l\n",
      " \u001b[32m✓\u001b[0m Writing configuration 📜7l\n",
      " \u001b[32m✓\u001b[0m Starting control-plane 🕹️7l\n",
      " \u001b[32m✓\u001b[0m Installing CNI 🔌7l\n",
      " \u001b[32m✓\u001b[0m Installing StorageClass 💾7l\n",
      "Set kubectl context to \"kind-kind\"\n",
      "You can now use your cluster with:\n",
      "\n",
      "kubectl cluster-info --context kind-kind\n",
      "\n",
      "Have a question, bug, or feature request? Let us know! https://kind.sigs.k8s.io/#community 🙂\n",
      "You have new mail in /var/mail/Edu\n"
     ]
    }
   ],
   "source": [
    "kind create cluster --config kind-config.yaml"
   ]
  },
  {
   "cell_type": "code",
   "execution_count": 13,
   "id": "62d8b37c-b3b8-4068-b617-8d64d843a77d",
   "metadata": {},
   "outputs": [
    {
     "name": "stdout",
     "output_type": "stream",
     "text": [
      "NAME                 STATUS   ROLES           AGE   VERSION\n",
      "kind-control-plane   Ready    control-plane   59s   v1.24.0\n"
     ]
    }
   ],
   "source": [
    "kubectl get nodes"
   ]
  },
  {
   "cell_type": "code",
   "execution_count": 14,
   "id": "0ebc190e-3c42-4871-9edb-d6649f6a9de1",
   "metadata": {},
   "outputs": [
    {
     "name": "stdout",
     "output_type": "stream",
     "text": [
      "namespace/argo created\n",
      "customresourcedefinition.apiextensions.k8s.io/clusterworkflowtemplates.argoproj.io created\n",
      "customresourcedefinition.apiextensions.k8s.io/cronworkflows.argoproj.io created\n",
      "customresourcedefinition.apiextensions.k8s.io/workfloweventbindings.argoproj.io created\n",
      "customresourcedefinition.apiextensions.k8s.io/workflows.argoproj.io created\n",
      "customresourcedefinition.apiextensions.k8s.io/workflowtaskresults.argoproj.io created\n",
      "customresourcedefinition.apiextensions.k8s.io/workflowtasksets.argoproj.io created\n",
      "customresourcedefinition.apiextensions.k8s.io/workflowtemplates.argoproj.io created\n",
      "serviceaccount/argo created\n",
      "serviceaccount/argo-server created\n",
      "role.rbac.authorization.k8s.io/argo-role created\n",
      "clusterrole.rbac.authorization.k8s.io/argo-aggregate-to-admin created\n",
      "clusterrole.rbac.authorization.k8s.io/argo-aggregate-to-edit created\n",
      "clusterrole.rbac.authorization.k8s.io/argo-aggregate-to-view created\n",
      "clusterrole.rbac.authorization.k8s.io/argo-cluster-role created\n",
      "clusterrole.rbac.authorization.k8s.io/argo-server-cluster-role created\n",
      "rolebinding.rbac.authorization.k8s.io/argo-binding created\n",
      "clusterrolebinding.rbac.authorization.k8s.io/argo-binding created\n",
      "clusterrolebinding.rbac.authorization.k8s.io/argo-server-binding created\n",
      "configmap/workflow-controller-configmap created\n",
      "service/argo-server created\n",
      "service/workflow-controller-metrics created\n",
      "priorityclass.scheduling.k8s.io/workflow-controller created\n",
      "deployment.apps/argo-server created\n",
      "deployment.apps/workflow-controller created\n"
     ]
    }
   ],
   "source": [
    "kubectl create namespace argo\n",
    "kubectl apply -n argo -f https://github.com/argoproj/argo-workflows/releases/download/v3.3.9/install.yaml"
   ]
  },
  {
   "cell_type": "code",
   "execution_count": 15,
   "id": "a20926d7-4cbc-46bd-aec1-b2b362aed767",
   "metadata": {},
   "outputs": [
    {
     "name": "stdout",
     "output_type": "stream",
     "text": [
      "deployment.apps/argo-server patched\n"
     ]
    }
   ],
   "source": [
    "kubectl patch deployment \\\n",
    "  argo-server \\\n",
    "  --namespace argo \\\n",
    "  --type='json' \\\n",
    "  -p='[{\"op\": \"replace\", \"path\": \"/spec/template/spec/containers/0/args\", \"value\": [\n",
    "  \"server\",\n",
    "  \"--auth-mode=server\"\n",
    "]}]'"
   ]
  },
  {
   "cell_type": "code",
   "execution_count": 17,
   "id": "2c3fed17-8601-4cd3-aab9-d9ebc3571576",
   "metadata": {},
   "outputs": [
    {
     "name": "stdout",
     "output_type": "stream",
     "text": [
      "NAME                                   READY   STATUS    RESTARTS   AGE\n",
      "argo-server-57cf87c886-rd2gt           0/1     Running   0          9s\n",
      "argo-server-65566599f8-hb2pb           0/1     Running   0          15s\n",
      "workflow-controller-77c44779bf-9nng5   1/1     Running   0          15s\n",
      "You have new mail in /var/mail/Edu\n"
     ]
    }
   ],
   "source": [
    "kubectl get pods -n argo"
   ]
  },
  {
   "cell_type": "code",
   "execution_count": 30,
   "id": "eeb4f977-207b-4171-b015-820cc6b0528b",
   "metadata": {},
   "outputs": [
    {
     "name": "stdout",
     "output_type": "stream",
     "text": [
      "(soopervisor) "
     ]
    },
    {
     "ename": "",
     "evalue": "1",
     "output_type": "error",
     "traceback": []
    }
   ],
   "source": [
    "# pip install ploomber soopervisor"
   ]
  },
  {
   "cell_type": "code",
   "execution_count": 48,
   "id": "59c90698-33ae-419f-aefc-7a36f6c86376",
   "metadata": {},
   "outputs": [
    {
     "name": "stdout",
     "output_type": "stream",
     "text": [
      "Loading examples...\n",
      "\u001b[34m======== Copying example templates/ml-intermediate to ml-intermediate/ =========\u001b[0m\n",
      "Next steps:\n",
      "\n",
      "$ cd ml-intermediate/\n",
      "$ ploomber install\u001b[34m\n",
      "\n",
      "Open ml-intermediate/README.md for details.\n",
      "\u001b[0m\u001b[0m(soopervisor) (soopervisor) (soopervisor) "
     ]
    },
    {
     "ename": "",
     "evalue": "1",
     "output_type": "error",
     "traceback": []
    }
   ],
   "source": [
    "ploomber examples -n templates/ml-intermediate -o ml-intermediate\n",
    "\n",
    "cd ml-intermediate"
   ]
  },
  {
   "cell_type": "code",
   "execution_count": 51,
   "id": "d65e515b-248b-4310-b6b9-671e1ba06f2d",
   "metadata": {},
   "outputs": [
    {
     "name": "stdout",
     "output_type": "stream",
     "text": [
      "(soopervisor) (soopervisor) "
     ]
    },
    {
     "ename": "",
     "evalue": "1",
     "output_type": "error",
     "traceback": []
    }
   ],
   "source": [
    "# configure development environment\n",
    "cp requirements.txt requirements.lock.txt"
   ]
  },
  {
   "cell_type": "code",
   "execution_count": null,
   "id": "70f7a555-b231-49f9-8fde-0f60ed15b385",
   "metadata": {},
   "outputs": [],
   "source": [
    "pip install -r requirements.txt"
   ]
  },
  {
   "cell_type": "code",
   "execution_count": 49,
   "id": "f95b4889-9f9a-48fb-9f71-d62b3761a4aa",
   "metadata": {},
   "outputs": [
    {
     "name": "stdout",
     "output_type": "stream",
     "text": [
      "README.ipynb           env.serve.yaml         partial.features.yaml\n",
      "README.md              env.yaml               pipeline.serve.yaml\n",
      "_source.md             environment.yml        pipeline.yaml\n",
      "clients.py             fit.py                 requirements.txt\n",
      "env.local.yaml         integration.py         \u001b[1m\u001b[36mtasks\u001b[39;49m\u001b[0m/\n",
      "(soopervisor) "
     ]
    },
    {
     "ename": "",
     "evalue": "1",
     "output_type": "error",
     "traceback": []
    }
   ],
   "source": [
    "ls"
   ]
  },
  {
   "cell_type": "code",
   "execution_count": 34,
   "id": "e7773c54-9fd9-4e00-8285-db42abde0018",
   "metadata": {},
   "outputs": [
    {
     "name": "stdout",
     "output_type": "stream",
     "text": [
      "/Users/Edu/dev/soopervisor/kind/ml-intermediate\n",
      "(soopervisor) "
     ]
    },
    {
     "ename": "",
     "evalue": "1",
     "output_type": "error",
     "traceback": []
    }
   ],
   "source": [
    "pwd"
   ]
  },
  {
   "cell_type": "code",
   "execution_count": 52,
   "id": "01e68e49-09c5-4777-84f8-5c42637ecfc4",
   "metadata": {},
   "outputs": [
    {
     "name": "stdout",
     "output_type": "stream",
     "text": [
      "\u001b[34m================================= Loading DAG ==================================\u001b[0m\n",
      "No pipeline.training.yaml found, looking for pipeline.yaml instead\n",
      "Found /Users/Edu/dev/soopervisor/kind/ml-intermediate/pipeline.yaml. Loading...\n",
      "\u001b[34m= Adding /Users/Edu/dev/soopervisor/kind/ml-intermediate/training/Dockerfile... =\u001b[0m\n",
      "\u001b[32m===================================== Done =====================================\u001b[0m\n",
      "Environment added, to export it:\n",
      "\t $ soopervisor export training\n",
      "To force execution of all tasks:\n",
      "\t $ soopervisor export training --mode force\n",
      "\n",
      "\u001b[0m(soopervisor) "
     ]
    },
    {
     "ename": "",
     "evalue": "1",
     "output_type": "error",
     "traceback": []
    }
   ],
   "source": [
    "soopervisor add training --backend argo-workflows"
   ]
  },
  {
   "cell_type": "code",
   "execution_count": 53,
   "id": "7a5193a1-509d-41cd-8272-08cd831b1deb",
   "metadata": {},
   "outputs": [
    {
     "name": "stdout",
     "output_type": "stream",
     "text": [
      "  % Total    % Received % Xferd  Average Speed   Time    Time     Time  Current\n",
      "                                 Dload  Upload   Total   Spent    Left  Speed\n",
      "100    38  100    38    0     0    255      0 --:--:-- --:--:-- --:--:--   255\n",
      "(soopervisor) "
     ]
    },
    {
     "ename": "",
     "evalue": "1",
     "output_type": "error",
     "traceback": []
    }
   ],
   "source": [
    "curl https://raw.githubusercontent.com/ploomber/soopervisor/master/tutorials/kubernetes/env-k8s.yaml -o env.yaml"
   ]
  },
  {
   "cell_type": "code",
   "execution_count": 54,
   "id": "b261c51d-20f4-4079-9b4b-339bf0a4f918",
   "metadata": {},
   "outputs": [
    {
     "name": "stdout",
     "output_type": "stream",
     "text": [
      "  % Total    % Received % Xferd  Average Speed   Time    Time     Time  Current\n",
      "                                 Dload  Upload   Total   Spent    Left  Speed\n",
      "100   284  100   284    0     0   1880      0 --:--:-- --:--:-- --:--:--  1880\n",
      "(soopervisor) "
     ]
    },
    {
     "ename": "",
     "evalue": "1",
     "output_type": "error",
     "traceback": []
    }
   ],
   "source": [
    "curl https://raw.githubusercontent.com/ploomber/soopervisor/master/tutorials/kubernetes/soopervisor-k8s.yaml -o soopervisor.yaml"
   ]
  },
  {
   "cell_type": "code",
   "execution_count": 55,
   "id": "1d131829-cc98-44f2-bdb2-e4bc859da527",
   "metadata": {},
   "outputs": [
    {
     "name": "stdout",
     "output_type": "stream",
     "text": [
      "\u001b[34m================================= Loading DAG ==================================\u001b[0m\n",
      "No pipeline.training.yaml found, looking for pipeline.yaml instead\n",
      "Found /Users/Edu/dev/soopervisor/kind/ml-intermediate/pipeline.yaml. Loading...\n",
      "\u001b[34m================================= Loading DAG ==================================\u001b[0m\n",
      "No pipeline.training.yaml found, looking for pipeline.yaml instead\n",
      "Found /Users/Edu/dev/soopervisor/kind/ml-intermediate/pipeline.yaml. Loading...\n",
      "100%|███████████████████████████████████████████| 5/5 [00:00<00:00, 4321.35it/s]\n",
      "\u001b[34m================================ Packaging code ================================\u001b[0m\n",
      "Copying soopervisor.yaml -> dist/ml-intermediate/soopervisor.yaml\n",
      "Copying env.serve.yaml -> dist/ml-intermediate/env.serve.yaml\n",
      "Copying tasks/__init__.py -> dist/ml-intermediate/tasks/__init__.py\n",
      "Copying tasks/serve.py -> dist/ml-intermediate/tasks/serve.py\n",
      "Copying tasks/features.py -> dist/ml-intermediate/tasks/features.py\n",
      "Copying tasks/join.py -> dist/ml-intermediate/tasks/join.py\n",
      "Copying tasks/get.py -> dist/ml-intermediate/tasks/get.py\n",
      "Copying fit.py -> dist/ml-intermediate/fit.py\n",
      "Copying requirements.txt -> dist/ml-intermediate/requirements.txt\n",
      "Copying environment.yml -> dist/ml-intermediate/environment.yml\n",
      "Copying env.yaml -> dist/ml-intermediate/env.yaml\n",
      "Copying training/Dockerfile -> dist/ml-intermediate/training/Dockerfile\n",
      "Copying training/requirements.lock.txt -> dist/ml-intermediate/training/requirements.lock.txt\n",
      "Copying README.ipynb -> dist/ml-intermediate/README.ipynb\n",
      "Copying integration.py -> dist/ml-intermediate/integration.py\n",
      "Copying README.md -> dist/ml-intermediate/README.md\n",
      "Copying clients.py -> dist/ml-intermediate/clients.py\n",
      "Copying partial.features.yaml -> dist/ml-intermediate/partial.features.yaml\n",
      "Copying _source.md -> dist/ml-intermediate/_source.md\n",
      "Copying requirements.lock.txt -> dist/ml-intermediate/requirements.lock.txt\n",
      "Copying env.local.yaml -> dist/ml-intermediate/env.local.yaml\n",
      "Copying pipeline.yaml -> dist/ml-intermediate/pipeline.yaml\n",
      "Copying pipeline.serve.yaml -> dist/ml-intermediate/pipeline.serve.yaml\n",
      "Compressing directory , src : dist/ml-intermediate, dst : dist/ml-intermediate.tar.gz\n",
      "docker args: ['docker', 'build', '.', '--tag', 'ml-intermediate:latest-default']\n",
      "\u001b[34m===== Building image: docker build . --tag ml-intermediate:latest-default ======\u001b[0m\n",
      "\u001b[1A\u001b[1B\u001b[0G\u001b[?25l[+] Building 0.0s (0/1)                                                         \n",
      "\u001b[?25h\u001b[1A\u001b[0G\u001b[?25l[+] Building 0.1s (0/2)                                                         \n",
      " => [internal] load build definition from Dockerfile                       0.1s\n",
      "\u001b[?25h\u001b[1A\u001b[1A\u001b[0G\u001b[?25l[+] Building 0.2s (1/2)                                                         \n",
      " => [internal] load build definition from Dockerfile                       0.2s\n",
      "\u001b[34m => => transferring dockerfile: 495B                                       0.0s\n",
      "\u001b[0m\u001b[34m => [internal] load .dockerignore                                          0.0s\n",
      "\u001b[0m\u001b[34m => => transferring context: 2B                                            0.0s\n",
      "\u001b[0m\u001b[?25h\u001b[1A\u001b[1A\u001b[1A\u001b[1A\u001b[1A\u001b[0G\u001b[?25l[+] Building 0.3s (2/3)                                                         \n",
      "\u001b[34m => [internal] load build definition from Dockerfile                       0.2s\n",
      "\u001b[0m\u001b[34m => => transferring dockerfile: 495B                                       0.0s\n",
      "\u001b[0m\u001b[34m => [internal] load .dockerignore                                          0.0s\n",
      "\u001b[0m\u001b[34m => => transferring context: 2B                                            0.0s\n",
      "\u001b[0m => [internal] load metadata for docker.io/condaforge/mambaforge:4.10.1-0  0.1s\n",
      "\u001b[?25h\u001b[1A\u001b[1A\u001b[1A\u001b[1A\u001b[1A\u001b[1A\u001b[0G\u001b[?25l[+] Building 0.5s (2/3)                                                         \n",
      "\u001b[34m => [internal] load build definition from Dockerfile                       0.2s\n",
      "\u001b[0m\u001b[34m => => transferring dockerfile: 495B                                       0.0s\n",
      "\u001b[0m\u001b[34m => [internal] load .dockerignore                                          0.0s\n",
      "\u001b[0m\u001b[34m => => transferring context: 2B                                            0.0s\n",
      "\u001b[0m => [internal] load metadata for docker.io/condaforge/mambaforge:4.10.1-0  0.2s\n",
      "\u001b[?25h\u001b[1A\u001b[1A\u001b[1A\u001b[1A\u001b[1A\u001b[1A\u001b[0G\u001b[?25l[+] Building 0.6s (2/3)                                                         \n",
      "\u001b[34m => [internal] load build definition from Dockerfile                       0.2s\n",
      "\u001b[0m\u001b[34m => => transferring dockerfile: 495B                                       0.0s\n",
      "\u001b[0m\u001b[34m => [internal] load .dockerignore                                          0.0s\n",
      "\u001b[0m\u001b[34m => => transferring context: 2B                                            0.0s\n",
      "\u001b[0m => [internal] load metadata for docker.io/condaforge/mambaforge:4.10.1-0  0.4s\n",
      "\u001b[?25h\u001b[1A\u001b[1A\u001b[1A\u001b[1A\u001b[1A\u001b[1A\u001b[0G\u001b[?25l[+] Building 0.8s (2/3)                                                         \n",
      "\u001b[34m => [internal] load build definition from Dockerfile                       0.2s\n",
      "\u001b[0m\u001b[34m => => transferring dockerfile: 495B                                       0.0s\n",
      "\u001b[0m\u001b[34m => [internal] load .dockerignore                                          0.0s\n",
      "\u001b[0m\u001b[34m => => transferring context: 2B                                            0.0s\n",
      "\u001b[0m => [internal] load metadata for docker.io/condaforge/mambaforge:4.10.1-0  0.5s\n",
      "\u001b[?25h\u001b[1A\u001b[1A\u001b[1A\u001b[1A\u001b[1A\u001b[1A\u001b[0G\u001b[?25l[+] Building 1.0s (2/3)                                                         \n",
      "\u001b[34m => [internal] load build definition from Dockerfile                       0.2s\n",
      "\u001b[0m\u001b[34m => => transferring dockerfile: 495B                                       0.0s\n",
      "\u001b[0m\u001b[34m => [internal] load .dockerignore                                          0.0s\n",
      "\u001b[0m\u001b[34m => => transferring context: 2B                                            0.0s\n",
      "\u001b[0m => [internal] load metadata for docker.io/condaforge/mambaforge:4.10.1-0  0.7s\n",
      "\u001b[?25h\u001b[1A\u001b[1A\u001b[1A\u001b[1A\u001b[1A\u001b[1A\u001b[0G\u001b[?25l[+] Building 1.1s (2/3)                                                         \n",
      "\u001b[34m => [internal] load build definition from Dockerfile                       0.2s\n",
      "\u001b[0m\u001b[34m => => transferring dockerfile: 495B                                       0.0s\n",
      "\u001b[0m\u001b[34m => [internal] load .dockerignore                                          0.0s\n",
      "\u001b[0m\u001b[34m => => transferring context: 2B                                            0.0s\n",
      "\u001b[0m => [internal] load metadata for docker.io/condaforge/mambaforge:4.10.1-0  0.8s\n",
      "\u001b[?25h\u001b[1A\u001b[1A\u001b[1A\u001b[1A\u001b[1A\u001b[1A\u001b[0G\u001b[?25l[+] Building 1.3s (2/3)                                                         \n",
      "\u001b[34m => [internal] load build definition from Dockerfile                       0.2s\n",
      "\u001b[0m\u001b[34m => => transferring dockerfile: 495B                                       0.0s\n",
      "\u001b[0m\u001b[34m => [internal] load .dockerignore                                          0.0s\n",
      "\u001b[0m\u001b[34m => => transferring context: 2B                                            0.0s\n",
      "\u001b[0m => [internal] load metadata for docker.io/condaforge/mambaforge:4.10.1-0  1.0s\n",
      "\u001b[?25h\u001b[1A\u001b[1A\u001b[1A\u001b[1A\u001b[1A\u001b[1A\u001b[0G\u001b[?25l[+] Building 1.4s (2/3)                                                         \n",
      "\u001b[34m => [internal] load build definition from Dockerfile                       0.2s\n",
      "\u001b[0m\u001b[34m => => transferring dockerfile: 495B                                       0.0s\n",
      "\u001b[0m\u001b[34m => [internal] load .dockerignore                                          0.0s\n",
      "\u001b[0m\u001b[34m => => transferring context: 2B                                            0.0s\n",
      "\u001b[0m => [internal] load metadata for docker.io/condaforge/mambaforge:4.10.1-0  1.1s\n",
      "\u001b[?25h\u001b[1A\u001b[1A\u001b[1A\u001b[1A\u001b[1A\u001b[1A\u001b[0G\u001b[?25l[+] Building 1.6s (2/3)                                                         \n",
      "\u001b[34m => [internal] load build definition from Dockerfile                       0.2s\n",
      "\u001b[0m\u001b[34m => => transferring dockerfile: 495B                                       0.0s\n",
      "\u001b[0m\u001b[34m => [internal] load .dockerignore                                          0.0s\n",
      "\u001b[0m\u001b[34m => => transferring context: 2B                                            0.0s\n",
      "\u001b[0m => [internal] load metadata for docker.io/condaforge/mambaforge:4.10.1-0  1.3s\n",
      "\u001b[?25h\u001b[1A\u001b[1A\u001b[1A\u001b[1A\u001b[1A\u001b[1A\u001b[0G\u001b[?25l[+] Building 1.7s (2/3)                                                         \n",
      "\u001b[34m => [internal] load build definition from Dockerfile                       0.2s\n",
      "\u001b[0m\u001b[34m => => transferring dockerfile: 495B                                       0.0s\n",
      "\u001b[0m\u001b[34m => [internal] load .dockerignore                                          0.0s\n",
      "\u001b[0m\u001b[34m => => transferring context: 2B                                            0.0s\n",
      "\u001b[0m => [internal] load metadata for docker.io/condaforge/mambaforge:4.10.1-0  1.4s\n",
      "\u001b[?25h\u001b[1A\u001b[1A\u001b[1A\u001b[1A\u001b[1A\u001b[1A\u001b[0G\u001b[?25l[+] Building 1.9s (2/3)                                                         \n",
      "\u001b[34m => [internal] load build definition from Dockerfile                       0.2s\n",
      "\u001b[0m\u001b[34m => => transferring dockerfile: 495B                                       0.0s\n",
      "\u001b[0m\u001b[34m => [internal] load .dockerignore                                          0.0s\n",
      "\u001b[0m\u001b[34m => => transferring context: 2B                                            0.0s\n",
      "\u001b[0m => [internal] load metadata for docker.io/condaforge/mambaforge:4.10.1-0  1.6s\n",
      "\u001b[?25h\u001b[1A\u001b[1A\u001b[1A\u001b[1A\u001b[1A\u001b[1A\u001b[0G\u001b[?25l[+] Building 2.0s (7/11)                                                        \n",
      "\u001b[34m => [internal] load build definition from Dockerfile                       0.2s\n",
      "\u001b[0m\u001b[34m => => transferring dockerfile: 495B                                       0.0s\n",
      "\u001b[0m\u001b[34m => [internal] load .dockerignore                                          0.0s\n",
      "\u001b[0m\u001b[34m => => transferring context: 2B                                            0.0s\n",
      "\u001b[0m\u001b[34m => [internal] load metadata for docker.io/condaforge/mambaforge:4.10.1-0  1.6s\n",
      "\u001b[0m\u001b[34m => [1/7] FROM docker.io/condaforge/mambaforge:4.10.1-0@sha256:0afe653d5d  0.0s\n",
      "\u001b[0m\u001b[34m => [internal] load build context                                          0.0s\n",
      "\u001b[0m\u001b[34m => => transferring context: 127.35kB                                      0.0s\n",
      "\u001b[0m\u001b[34m => CACHED [2/7] COPY requirements.lock.txt project/requirements.lock.txt  0.0s\n",
      "\u001b[0m\u001b[34m => CACHED [3/7] RUN pip install --requirement project/requirements.lock.  0.0s\n",
      "\u001b[0m => [4/7] COPY dist/* project/                                             0.1s\n",
      "\u001b[?25h\u001b[1A\u001b[1A\u001b[1A\u001b[1A\u001b[1A\u001b[1A\u001b[1A\u001b[1A\u001b[1A\u001b[1A\u001b[1A\u001b[1A\u001b[0G\u001b[?25l[+] Building 2.2s (9/11)                                                        \n",
      "\u001b[34m => [internal] load build definition from Dockerfile                       0.2s\n",
      "\u001b[0m\u001b[34m => => transferring dockerfile: 495B                                       0.0s\n",
      "\u001b[0m\u001b[34m => [internal] load .dockerignore                                          0.0s\n",
      "\u001b[0m\u001b[34m => => transferring context: 2B                                            0.0s\n",
      "\u001b[0m\u001b[34m => [internal] load metadata for docker.io/condaforge/mambaforge:4.10.1-0  1.6s\n",
      "\u001b[0m\u001b[34m => [1/7] FROM docker.io/condaforge/mambaforge:4.10.1-0@sha256:0afe653d5d  0.0s\n",
      "\u001b[0m\u001b[34m => [internal] load build context                                          0.0s\n",
      "\u001b[0m\u001b[34m => => transferring context: 127.35kB                                      0.0s\n",
      "\u001b[0m\u001b[34m => CACHED [2/7] COPY requirements.lock.txt project/requirements.lock.txt  0.0s\n",
      "\u001b[0m\u001b[34m => CACHED [3/7] RUN pip install --requirement project/requirements.lock.  0.0s\n",
      "\u001b[0m\u001b[34m => [4/7] COPY dist/* project/                                             0.1s\n",
      "\u001b[0m\u001b[34m => [5/7] WORKDIR /project/                                                0.1s\n",
      "\u001b[0m => [6/7] RUN tar --strip-components=1 -zxvf *.tar.gz                      0.1s\n",
      "\u001b[?25h\u001b[1A\u001b[1A\u001b[1A\u001b[1A\u001b[1A\u001b[1A\u001b[1A\u001b[1A\u001b[1A\u001b[1A\u001b[1A\u001b[1A\u001b[1A\u001b[1A\u001b[0G\u001b[?25l[+] Building 2.3s (9/11)                                                        \n",
      "\u001b[34m => [internal] load build definition from Dockerfile                       0.2s\n",
      "\u001b[0m\u001b[34m => => transferring dockerfile: 495B                                       0.0s\n",
      "\u001b[0m\u001b[34m => [internal] load .dockerignore                                          0.0s\n",
      "\u001b[0m\u001b[34m => => transferring context: 2B                                            0.0s\n",
      "\u001b[0m\u001b[34m => [internal] load metadata for docker.io/condaforge/mambaforge:4.10.1-0  1.6s\n",
      "\u001b[0m\u001b[34m => [1/7] FROM docker.io/condaforge/mambaforge:4.10.1-0@sha256:0afe653d5d  0.0s\n",
      "\u001b[0m\u001b[34m => [internal] load build context                                          0.0s\n",
      "\u001b[0m\u001b[34m => => transferring context: 127.35kB                                      0.0s\n",
      "\u001b[0m\u001b[34m => CACHED [2/7] COPY requirements.lock.txt project/requirements.lock.txt  0.0s\n",
      "\u001b[0m\u001b[34m => CACHED [3/7] RUN pip install --requirement project/requirements.lock.  0.0s\n",
      "\u001b[0m\u001b[34m => [4/7] COPY dist/* project/                                             0.1s\n",
      "\u001b[0m\u001b[34m => [5/7] WORKDIR /project/                                                0.1s\n",
      "\u001b[0m => [6/7] RUN tar --strip-components=1 -zxvf *.tar.gz                      0.2s\n",
      "\u001b[?25h\u001b[1A\u001b[1A\u001b[1A\u001b[1A\u001b[1A\u001b[1A\u001b[1A\u001b[1A\u001b[1A\u001b[1A\u001b[1A\u001b[1A\u001b[1A\u001b[1A\u001b[0G\u001b[?25l[+] Building 2.5s (9/11)                                                        \n",
      "\u001b[34m => [internal] load build definition from Dockerfile                       0.2s\n",
      "\u001b[0m\u001b[34m => => transferring dockerfile: 495B                                       0.0s\n",
      "\u001b[0m\u001b[34m => [internal] load .dockerignore                                          0.0s\n",
      "\u001b[0m\u001b[34m => => transferring context: 2B                                            0.0s\n",
      "\u001b[0m\u001b[34m => [internal] load metadata for docker.io/condaforge/mambaforge:4.10.1-0  1.6s\n",
      "\u001b[0m\u001b[34m => [1/7] FROM docker.io/condaforge/mambaforge:4.10.1-0@sha256:0afe653d5d  0.0s\n",
      "\u001b[0m\u001b[34m => [internal] load build context                                          0.0s\n",
      "\u001b[0m\u001b[34m => => transferring context: 127.35kB                                      0.0s\n",
      "\u001b[0m\u001b[34m => CACHED [2/7] COPY requirements.lock.txt project/requirements.lock.txt  0.0s\n",
      "\u001b[0m\u001b[34m => CACHED [3/7] RUN pip install --requirement project/requirements.lock.  0.0s\n",
      "\u001b[0m\u001b[34m => [4/7] COPY dist/* project/                                             0.1s\n",
      "\u001b[0m\u001b[34m => [5/7] WORKDIR /project/                                                0.1s\n",
      "\u001b[0m => [6/7] RUN tar --strip-components=1 -zxvf *.tar.gz                      0.4s\n",
      "\u001b[?25h\u001b[1A\u001b[1A\u001b[1A\u001b[1A\u001b[1A\u001b[1A\u001b[1A\u001b[1A\u001b[1A\u001b[1A\u001b[1A\u001b[1A\u001b[1A\u001b[1A\u001b[0G\u001b[?25l[+] Building 2.6s (9/11)                                                        \n",
      "\u001b[34m => [internal] load build definition from Dockerfile                       0.2s\n",
      "\u001b[0m\u001b[34m => => transferring dockerfile: 495B                                       0.0s\n",
      "\u001b[0m\u001b[34m => [internal] load .dockerignore                                          0.0s\n",
      "\u001b[0m\u001b[34m => => transferring context: 2B                                            0.0s\n",
      "\u001b[0m\u001b[34m => [internal] load metadata for docker.io/condaforge/mambaforge:4.10.1-0  1.6s\n",
      "\u001b[0m\u001b[34m => [1/7] FROM docker.io/condaforge/mambaforge:4.10.1-0@sha256:0afe653d5d  0.0s\n",
      "\u001b[0m\u001b[34m => [internal] load build context                                          0.0s\n",
      "\u001b[0m\u001b[34m => => transferring context: 127.35kB                                      0.0s\n",
      "\u001b[0m\u001b[34m => CACHED [2/7] COPY requirements.lock.txt project/requirements.lock.txt  0.0s\n",
      "\u001b[0m\u001b[34m => CACHED [3/7] RUN pip install --requirement project/requirements.lock.  0.0s\n",
      "\u001b[0m\u001b[34m => [4/7] COPY dist/* project/                                             0.1s\n",
      "\u001b[0m\u001b[34m => [5/7] WORKDIR /project/                                                0.1s\n",
      "\u001b[0m => [6/7] RUN tar --strip-components=1 -zxvf *.tar.gz                      0.5s\n",
      "\u001b[?25h\u001b[1A\u001b[1A\u001b[1A\u001b[1A\u001b[1A\u001b[1A\u001b[1A\u001b[1A\u001b[1A\u001b[1A\u001b[1A\u001b[1A\u001b[1A\u001b[1A\u001b[0G\u001b[?25l[+] Building 2.8s (9/11)                                                        \n",
      "\u001b[34m => [internal] load build definition from Dockerfile                       0.2s\n",
      "\u001b[0m\u001b[34m => => transferring dockerfile: 495B                                       0.0s\n",
      "\u001b[0m\u001b[34m => [internal] load .dockerignore                                          0.0s\n",
      "\u001b[0m\u001b[34m => => transferring context: 2B                                            0.0s\n",
      "\u001b[0m\u001b[34m => [internal] load metadata for docker.io/condaforge/mambaforge:4.10.1-0  1.6s\n",
      "\u001b[0m\u001b[34m => [1/7] FROM docker.io/condaforge/mambaforge:4.10.1-0@sha256:0afe653d5d  0.0s\n",
      "\u001b[0m\u001b[34m => [internal] load build context                                          0.0s\n",
      "\u001b[0m\u001b[34m => => transferring context: 127.35kB                                      0.0s\n",
      "\u001b[0m\u001b[34m => CACHED [2/7] COPY requirements.lock.txt project/requirements.lock.txt  0.0s\n",
      "\u001b[0m\u001b[34m => CACHED [3/7] RUN pip install --requirement project/requirements.lock.  0.0s\n",
      "\u001b[0m\u001b[34m => [4/7] COPY dist/* project/                                             0.1s\n",
      "\u001b[0m\u001b[34m => [5/7] WORKDIR /project/                                                0.1s\n",
      "\u001b[0m => [6/7] RUN tar --strip-components=1 -zxvf *.tar.gz                      0.7s\n",
      "\u001b[?25h\u001b[1A\u001b[1A\u001b[1A\u001b[1A\u001b[1A\u001b[1A\u001b[1A\u001b[1A\u001b[1A\u001b[1A\u001b[1A\u001b[1A\u001b[1A\u001b[1A\u001b[0G\u001b[?25l[+] Building 2.9s (9/11)                                                        \n",
      "\u001b[34m => [internal] load build definition from Dockerfile                       0.2s\n",
      "\u001b[0m\u001b[34m => => transferring dockerfile: 495B                                       0.0s\n",
      "\u001b[0m\u001b[34m => [internal] load .dockerignore                                          0.0s\n",
      "\u001b[0m\u001b[34m => => transferring context: 2B                                            0.0s\n",
      "\u001b[0m\u001b[34m => [internal] load metadata for docker.io/condaforge/mambaforge:4.10.1-0  1.6s\n",
      "\u001b[0m\u001b[34m => [1/7] FROM docker.io/condaforge/mambaforge:4.10.1-0@sha256:0afe653d5d  0.0s\n",
      "\u001b[0m\u001b[34m => [internal] load build context                                          0.0s\n",
      "\u001b[0m\u001b[34m => => transferring context: 127.35kB                                      0.0s\n",
      "\u001b[0m\u001b[34m => CACHED [2/7] COPY requirements.lock.txt project/requirements.lock.txt  0.0s\n",
      "\u001b[0m\u001b[34m => CACHED [3/7] RUN pip install --requirement project/requirements.lock.  0.0s\n",
      "\u001b[0m\u001b[34m => [4/7] COPY dist/* project/                                             0.1s\n",
      "\u001b[0m\u001b[34m => [5/7] WORKDIR /project/                                                0.1s\n",
      "\u001b[0m => [6/7] RUN tar --strip-components=1 -zxvf *.tar.gz                      0.8s\n",
      "\u001b[?25h\u001b[1A\u001b[1A\u001b[1A\u001b[1A\u001b[1A\u001b[1A\u001b[1A\u001b[1A\u001b[1A\u001b[1A\u001b[1A\u001b[1A\u001b[1A\u001b[1A\u001b[0G\u001b[?25l[+] Building 3.1s (9/11)                                                        \n",
      "\u001b[34m => [internal] load build definition from Dockerfile                       0.2s\n",
      "\u001b[0m\u001b[34m => => transferring dockerfile: 495B                                       0.0s\n",
      "\u001b[0m\u001b[34m => [internal] load .dockerignore                                          0.0s\n",
      "\u001b[0m\u001b[34m => => transferring context: 2B                                            0.0s\n",
      "\u001b[0m\u001b[34m => [internal] load metadata for docker.io/condaforge/mambaforge:4.10.1-0  1.6s\n",
      "\u001b[0m\u001b[34m => [1/7] FROM docker.io/condaforge/mambaforge:4.10.1-0@sha256:0afe653d5d  0.0s\n",
      "\u001b[0m\u001b[34m => [internal] load build context                                          0.0s\n",
      "\u001b[0m\u001b[34m => => transferring context: 127.35kB                                      0.0s\n",
      "\u001b[0m\u001b[34m => CACHED [2/7] COPY requirements.lock.txt project/requirements.lock.txt  0.0s\n",
      "\u001b[0m\u001b[34m => CACHED [3/7] RUN pip install --requirement project/requirements.lock.  0.0s\n",
      "\u001b[0m\u001b[34m => [4/7] COPY dist/* project/                                             0.1s\n",
      "\u001b[0m\u001b[34m => [5/7] WORKDIR /project/                                                0.1s\n",
      "\u001b[0m => [6/7] RUN tar --strip-components=1 -zxvf *.tar.gz                      1.0s\n",
      "\u001b[?25h\u001b[1A\u001b[1A\u001b[1A\u001b[1A\u001b[1A\u001b[1A\u001b[1A\u001b[1A\u001b[1A\u001b[1A\u001b[1A\u001b[1A\u001b[1A\u001b[1A\u001b[0G\u001b[?25l[+] Building 3.2s (9/11)                                                        \n",
      "\u001b[34m => [internal] load build definition from Dockerfile                       0.2s\n",
      "\u001b[0m\u001b[34m => => transferring dockerfile: 495B                                       0.0s\n",
      "\u001b[0m\u001b[34m => [internal] load .dockerignore                                          0.0s\n",
      "\u001b[0m\u001b[34m => => transferring context: 2B                                            0.0s\n",
      "\u001b[0m\u001b[34m => [internal] load metadata for docker.io/condaforge/mambaforge:4.10.1-0  1.6s\n",
      "\u001b[0m\u001b[34m => [1/7] FROM docker.io/condaforge/mambaforge:4.10.1-0@sha256:0afe653d5d  0.0s\n",
      "\u001b[0m\u001b[34m => [internal] load build context                                          0.0s\n",
      "\u001b[0m\u001b[34m => => transferring context: 127.35kB                                      0.0s\n",
      "\u001b[0m\u001b[34m => CACHED [2/7] COPY requirements.lock.txt project/requirements.lock.txt  0.0s\n",
      "\u001b[0m\u001b[34m => CACHED [3/7] RUN pip install --requirement project/requirements.lock.  0.0s\n",
      "\u001b[0m\u001b[34m => [4/7] COPY dist/* project/                                             0.1s\n",
      "\u001b[0m\u001b[34m => [5/7] WORKDIR /project/                                                0.1s\n",
      "\u001b[0m => [6/7] RUN tar --strip-components=1 -zxvf *.tar.gz                      1.1s\n",
      "\u001b[?25h\u001b[1A\u001b[1A\u001b[1A\u001b[1A\u001b[1A\u001b[1A\u001b[1A\u001b[1A\u001b[1A\u001b[1A\u001b[1A\u001b[1A\u001b[1A\u001b[1A\u001b[0G\u001b[?25l[+] Building 3.4s (9/11)                                                        \n",
      "\u001b[34m => [internal] load build definition from Dockerfile                       0.2s\n",
      "\u001b[0m\u001b[34m => => transferring dockerfile: 495B                                       0.0s\n",
      "\u001b[0m\u001b[34m => [internal] load .dockerignore                                          0.0s\n",
      "\u001b[0m\u001b[34m => => transferring context: 2B                                            0.0s\n",
      "\u001b[0m\u001b[34m => [internal] load metadata for docker.io/condaforge/mambaforge:4.10.1-0  1.6s\n",
      "\u001b[0m\u001b[34m => [1/7] FROM docker.io/condaforge/mambaforge:4.10.1-0@sha256:0afe653d5d  0.0s\n",
      "\u001b[0m\u001b[34m => [internal] load build context                                          0.0s\n",
      "\u001b[0m\u001b[34m => => transferring context: 127.35kB                                      0.0s\n",
      "\u001b[0m\u001b[34m => CACHED [2/7] COPY requirements.lock.txt project/requirements.lock.txt  0.0s\n",
      "\u001b[0m\u001b[34m => CACHED [3/7] RUN pip install --requirement project/requirements.lock.  0.0s\n",
      "\u001b[0m\u001b[34m => [4/7] COPY dist/* project/                                             0.1s\n",
      "\u001b[0m\u001b[34m => [5/7] WORKDIR /project/                                                0.1s\n",
      "\u001b[0m => [6/7] RUN tar --strip-components=1 -zxvf *.tar.gz                      1.3s\n",
      "\u001b[2m => => # ml-intermediate/README.ipynb                                          \n",
      "\u001b[0m\u001b[?25h\u001b[1A\u001b[1A\u001b[1A\u001b[1A\u001b[1A\u001b[1A\u001b[1A\u001b[1A\u001b[1A\u001b[1A\u001b[1A\u001b[1A\u001b[1A\u001b[1A\u001b[1A\u001b[0G\u001b[?25l[+] Building 3.5s (10/11)                                                       \n",
      "\u001b[34m => [internal] load build definition from Dockerfile                       0.2s\n",
      "\u001b[0m\u001b[34m => => transferring dockerfile: 495B                                       0.0s\n",
      "\u001b[0m\u001b[34m => [internal] load .dockerignore                                          0.0s\n",
      "\u001b[0m\u001b[34m => => transferring context: 2B                                            0.0s\n",
      "\u001b[0m\u001b[34m => [internal] load metadata for docker.io/condaforge/mambaforge:4.10.1-0  1.6s\n",
      "\u001b[0m\u001b[34m => [1/7] FROM docker.io/condaforge/mambaforge:4.10.1-0@sha256:0afe653d5d  0.0s\n",
      "\u001b[0m\u001b[34m => [internal] load build context                                          0.0s\n",
      "\u001b[0m\u001b[34m => => transferring context: 127.35kB                                      0.0s\n",
      "\u001b[0m\u001b[34m => CACHED [2/7] COPY requirements.lock.txt project/requirements.lock.txt  0.0s\n",
      "\u001b[0m\u001b[34m => CACHED [3/7] RUN pip install --requirement project/requirements.lock.  0.0s\n",
      "\u001b[0m\u001b[34m => [4/7] COPY dist/* project/                                             0.1s\n",
      "\u001b[0m\u001b[34m => [5/7] WORKDIR /project/                                                0.1s\n",
      "\u001b[0m\u001b[34m => [6/7] RUN tar --strip-components=1 -zxvf *.tar.gz                      1.4s\n",
      "\u001b[0m                                                                                \n",
      "\u001b[1A\u001b[0G\u001b[?25h\u001b[1A\u001b[1A\u001b[1A\u001b[1A\u001b[1A\u001b[1A\u001b[1A\u001b[1A\u001b[1A\u001b[1A\u001b[1A\u001b[1A\u001b[1A\u001b[1A\u001b[0G\u001b[?25l[+] Building 3.7s (10/11)                                                       \n",
      "\u001b[34m => [internal] load build definition from Dockerfile                       0.2s\n",
      "\u001b[0m\u001b[34m => => transferring dockerfile: 495B                                       0.0s\n",
      "\u001b[0m\u001b[34m => [internal] load .dockerignore                                          0.0s\n",
      "\u001b[0m\u001b[34m => => transferring context: 2B                                            0.0s\n",
      "\u001b[0m\u001b[34m => [internal] load metadata for docker.io/condaforge/mambaforge:4.10.1-0  1.6s\n",
      "\u001b[0m\u001b[34m => [1/7] FROM docker.io/condaforge/mambaforge:4.10.1-0@sha256:0afe653d5d  0.0s\n",
      "\u001b[0m\u001b[34m => [internal] load build context                                          0.0s\n",
      "\u001b[0m\u001b[34m => => transferring context: 127.35kB                                      0.0s\n",
      "\u001b[0m\u001b[34m => CACHED [2/7] COPY requirements.lock.txt project/requirements.lock.txt  0.0s\n",
      "\u001b[0m\u001b[34m => CACHED [3/7] RUN pip install --requirement project/requirements.lock.  0.0s\n",
      "\u001b[0m\u001b[34m => [4/7] COPY dist/* project/                                             0.1s\n",
      "\u001b[0m\u001b[34m => [5/7] WORKDIR /project/                                                0.1s\n",
      "\u001b[0m\u001b[34m => [6/7] RUN tar --strip-components=1 -zxvf *.tar.gz                      1.4s\n",
      "\u001b[0m => [7/7] RUN cp -r /project/ploomber/ /root/.ploomber/  || echo 'ploombe  0.1s\n",
      "\u001b[?25h\u001b[1A\u001b[1A\u001b[1A\u001b[1A\u001b[1A\u001b[1A\u001b[1A\u001b[1A\u001b[1A\u001b[1A\u001b[1A\u001b[1A\u001b[1A\u001b[1A\u001b[1A\u001b[0G\u001b[?25l[+] Building 3.8s (10/11)                                                       \n",
      "\u001b[34m => [internal] load build definition from Dockerfile                       0.2s\n",
      "\u001b[0m\u001b[34m => => transferring dockerfile: 495B                                       0.0s\n",
      "\u001b[0m\u001b[34m => [internal] load .dockerignore                                          0.0s\n",
      "\u001b[0m\u001b[34m => => transferring context: 2B                                            0.0s\n",
      "\u001b[0m\u001b[34m => [internal] load metadata for docker.io/condaforge/mambaforge:4.10.1-0  1.6s\n",
      "\u001b[0m\u001b[34m => [1/7] FROM docker.io/condaforge/mambaforge:4.10.1-0@sha256:0afe653d5d  0.0s\n",
      "\u001b[0m\u001b[34m => [internal] load build context                                          0.0s\n",
      "\u001b[0m\u001b[34m => => transferring context: 127.35kB                                      0.0s\n",
      "\u001b[0m\u001b[34m => CACHED [2/7] COPY requirements.lock.txt project/requirements.lock.txt  0.0s\n",
      "\u001b[0m\u001b[34m => CACHED [3/7] RUN pip install --requirement project/requirements.lock.  0.0s\n",
      "\u001b[0m\u001b[34m => [4/7] COPY dist/* project/                                             0.1s\n",
      "\u001b[0m\u001b[34m => [5/7] WORKDIR /project/                                                0.1s\n",
      "\u001b[0m\u001b[34m => [6/7] RUN tar --strip-components=1 -zxvf *.tar.gz                      1.4s\n",
      "\u001b[0m => [7/7] RUN cp -r /project/ploomber/ /root/.ploomber/  || echo 'ploombe  0.3s\n",
      "\u001b[?25h\u001b[1A\u001b[1A\u001b[1A\u001b[1A\u001b[1A\u001b[1A\u001b[1A\u001b[1A\u001b[1A\u001b[1A\u001b[1A\u001b[1A\u001b[1A\u001b[1A\u001b[1A\u001b[0G\u001b[?25l[+] Building 4.0s (10/11)                                                       \n",
      "\u001b[34m => [internal] load build definition from Dockerfile                       0.2s\n",
      "\u001b[0m\u001b[34m => => transferring dockerfile: 495B                                       0.0s\n",
      "\u001b[0m\u001b[34m => [internal] load .dockerignore                                          0.0s\n",
      "\u001b[0m\u001b[34m => => transferring context: 2B                                            0.0s\n",
      "\u001b[0m\u001b[34m => [internal] load metadata for docker.io/condaforge/mambaforge:4.10.1-0  1.6s\n",
      "\u001b[0m\u001b[34m => [1/7] FROM docker.io/condaforge/mambaforge:4.10.1-0@sha256:0afe653d5d  0.0s\n",
      "\u001b[0m\u001b[34m => [internal] load build context                                          0.0s\n",
      "\u001b[0m\u001b[34m => => transferring context: 127.35kB                                      0.0s\n",
      "\u001b[0m\u001b[34m => CACHED [2/7] COPY requirements.lock.txt project/requirements.lock.txt  0.0s\n",
      "\u001b[0m\u001b[34m => CACHED [3/7] RUN pip install --requirement project/requirements.lock.  0.0s\n",
      "\u001b[0m\u001b[34m => [4/7] COPY dist/* project/                                             0.1s\n",
      "\u001b[0m\u001b[34m => [5/7] WORKDIR /project/                                                0.1s\n",
      "\u001b[0m\u001b[34m => [6/7] RUN tar --strip-components=1 -zxvf *.tar.gz                      1.4s\n",
      "\u001b[0m => [7/7] RUN cp -r /project/ploomber/ /root/.ploomber/  || echo 'ploombe  0.5s\n",
      "\u001b[?25h\u001b[1A\u001b[1A\u001b[1A\u001b[1A\u001b[1A\u001b[1A\u001b[1A\u001b[1A\u001b[1A\u001b[1A\u001b[1A\u001b[1A\u001b[1A\u001b[1A\u001b[1A\u001b[0G\u001b[?25l[+] Building 4.1s (10/11)                                                       \n",
      "\u001b[34m => [internal] load build definition from Dockerfile                       0.2s\n",
      "\u001b[0m\u001b[34m => => transferring dockerfile: 495B                                       0.0s\n",
      "\u001b[0m\u001b[34m => [internal] load .dockerignore                                          0.0s\n",
      "\u001b[0m\u001b[34m => => transferring context: 2B                                            0.0s\n",
      "\u001b[0m\u001b[34m => [internal] load metadata for docker.io/condaforge/mambaforge:4.10.1-0  1.6s\n",
      "\u001b[0m\u001b[34m => [1/7] FROM docker.io/condaforge/mambaforge:4.10.1-0@sha256:0afe653d5d  0.0s\n",
      "\u001b[0m\u001b[34m => [internal] load build context                                          0.0s\n",
      "\u001b[0m\u001b[34m => => transferring context: 127.35kB                                      0.0s\n",
      "\u001b[0m\u001b[34m => CACHED [2/7] COPY requirements.lock.txt project/requirements.lock.txt  0.0s\n",
      "\u001b[0m\u001b[34m => CACHED [3/7] RUN pip install --requirement project/requirements.lock.  0.0s\n",
      "\u001b[0m\u001b[34m => [4/7] COPY dist/* project/                                             0.1s\n",
      "\u001b[0m\u001b[34m => [5/7] WORKDIR /project/                                                0.1s\n",
      "\u001b[0m\u001b[34m => [6/7] RUN tar --strip-components=1 -zxvf *.tar.gz                      1.4s\n",
      "\u001b[0m => [7/7] RUN cp -r /project/ploomber/ /root/.ploomber/  || echo 'ploombe  0.6s\n",
      "\u001b[?25h\u001b[1A\u001b[1A\u001b[1A\u001b[1A\u001b[1A\u001b[1A\u001b[1A\u001b[1A\u001b[1A\u001b[1A\u001b[1A\u001b[1A\u001b[1A\u001b[1A\u001b[1A\u001b[0G\u001b[?25l[+] Building 4.3s (10/11)                                                       \n",
      "\u001b[34m => [internal] load build definition from Dockerfile                       0.2s\n",
      "\u001b[0m\u001b[34m => => transferring dockerfile: 495B                                       0.0s\n",
      "\u001b[0m\u001b[34m => [internal] load .dockerignore                                          0.0s\n",
      "\u001b[0m\u001b[34m => => transferring context: 2B                                            0.0s\n",
      "\u001b[0m\u001b[34m => [internal] load metadata for docker.io/condaforge/mambaforge:4.10.1-0  1.6s\n",
      "\u001b[0m\u001b[34m => [1/7] FROM docker.io/condaforge/mambaforge:4.10.1-0@sha256:0afe653d5d  0.0s\n",
      "\u001b[0m\u001b[34m => [internal] load build context                                          0.0s\n",
      "\u001b[0m\u001b[34m => => transferring context: 127.35kB                                      0.0s\n",
      "\u001b[0m\u001b[34m => CACHED [2/7] COPY requirements.lock.txt project/requirements.lock.txt  0.0s\n",
      "\u001b[0m\u001b[34m => CACHED [3/7] RUN pip install --requirement project/requirements.lock.  0.0s\n",
      "\u001b[0m\u001b[34m => [4/7] COPY dist/* project/                                             0.1s\n",
      "\u001b[0m\u001b[34m => [5/7] WORKDIR /project/                                                0.1s\n",
      "\u001b[0m\u001b[34m => [6/7] RUN tar --strip-components=1 -zxvf *.tar.gz                      1.4s\n",
      "\u001b[0m => [7/7] RUN cp -r /project/ploomber/ /root/.ploomber/  || echo 'ploombe  0.7s\n",
      "\u001b[2m => => # cp: cannot stat '/project/ploomber/'                                  \n",
      "\u001b[0m\u001b[?25h\u001b[1A\u001b[1A\u001b[1A\u001b[1A\u001b[1A\u001b[1A\u001b[1A\u001b[1A\u001b[1A\u001b[1A\u001b[1A\u001b[1A\u001b[1A\u001b[1A\u001b[1A\u001b[1A\u001b[0G\u001b[?25l[+] Building 4.4s (11/12)                                                       \n",
      "\u001b[34m => [internal] load build definition from Dockerfile                       0.2s\n",
      "\u001b[0m\u001b[34m => => transferring dockerfile: 495B                                       0.0s\n",
      "\u001b[0m\u001b[34m => [internal] load .dockerignore                                          0.0s\n",
      "\u001b[0m\u001b[34m => => transferring context: 2B                                            0.0s\n",
      "\u001b[0m\u001b[34m => [internal] load metadata for docker.io/condaforge/mambaforge:4.10.1-0  1.6s\n",
      "\u001b[0m\u001b[34m => [1/7] FROM docker.io/condaforge/mambaforge:4.10.1-0@sha256:0afe653d5d  0.0s\n",
      "\u001b[0m\u001b[34m => [internal] load build context                                          0.0s\n",
      "\u001b[0m\u001b[34m => => transferring context: 127.35kB                                      0.0s\n",
      "\u001b[0m\u001b[34m => CACHED [2/7] COPY requirements.lock.txt project/requirements.lock.txt  0.0s\n",
      "\u001b[0m\u001b[34m => CACHED [3/7] RUN pip install --requirement project/requirements.lock.  0.0s\n",
      "\u001b[0m\u001b[34m => [4/7] COPY dist/* project/                                             0.1s\n",
      "\u001b[0m\u001b[34m => [5/7] WORKDIR /project/                                                0.1s\n",
      "\u001b[0m\u001b[34m => [6/7] RUN tar --strip-components=1 -zxvf *.tar.gz                      1.4s\n",
      "\u001b[0m\u001b[34m => [7/7] RUN cp -r /project/ploomber/ /root/.ploomber/  || echo 'ploombe  0.8s\n",
      "\u001b[0m => exporting to image                                                     0.1s\n",
      " => => exporting layers                                                    0.1s\n",
      "\u001b[?25h\u001b[1A\u001b[1A\u001b[1A\u001b[1A\u001b[1A\u001b[1A\u001b[1A\u001b[1A\u001b[1A\u001b[1A\u001b[1A\u001b[1A\u001b[1A\u001b[1A\u001b[1A\u001b[1A\u001b[1A\u001b[0G\u001b[?25l[+] Building 4.5s (12/12) FINISHED                                              \n",
      "\u001b[34m => [internal] load build definition from Dockerfile                       0.2s\n",
      "\u001b[0m\u001b[34m => => transferring dockerfile: 495B                                       0.0s\n",
      "\u001b[0m\u001b[34m => [internal] load .dockerignore                                          0.0s\n",
      "\u001b[0m\u001b[34m => => transferring context: 2B                                            0.0s\n",
      "\u001b[0m\u001b[34m => [internal] load metadata for docker.io/condaforge/mambaforge:4.10.1-0  1.6s\n",
      "\u001b[0m\u001b[34m => [1/7] FROM docker.io/condaforge/mambaforge:4.10.1-0@sha256:0afe653d5d  0.0s\n",
      "\u001b[0m\u001b[34m => [internal] load build context                                          0.0s\n",
      "\u001b[0m\u001b[34m => => transferring context: 127.35kB                                      0.0s\n",
      "\u001b[0m\u001b[34m => CACHED [2/7] COPY requirements.lock.txt project/requirements.lock.txt  0.0s\n",
      "\u001b[0m\u001b[34m => CACHED [3/7] RUN pip install --requirement project/requirements.lock.  0.0s\n",
      "\u001b[0m\u001b[34m => [4/7] COPY dist/* project/                                             0.1s\n",
      "\u001b[0m\u001b[34m => [5/7] WORKDIR /project/                                                0.1s\n",
      "\u001b[0m\u001b[34m => [6/7] RUN tar --strip-components=1 -zxvf *.tar.gz                      1.4s\n",
      "\u001b[0m\u001b[34m => [7/7] RUN cp -r /project/ploomber/ /root/.ploomber/  || echo 'ploombe  0.8s\n",
      "\u001b[0m\u001b[34m => exporting to image                                                     0.2s\n",
      "\u001b[0m\u001b[34m => => exporting layers                                                    0.2s\n",
      "\u001b[0m\u001b[34m => => writing image sha256:0fe03b09c6ba576b8a68c6551a5db77d64b918b28342a  0.0s\n",
      "\u001b[0m\u001b[34m => => naming to docker.io/library/ml-intermediate:latest-default          0.0s\n",
      "\u001b[0m\u001b[?25h\n",
      "Use 'docker scan' to run Snyk tests against images to find vulnerabilities and learn how to fix them\n",
      "\u001b[34m===================== Generating Argo Workflows YAML spec ======================\u001b[0m\n",
      "null repository found in soopervisor.yaml, setting imagePullPolicy to \"Never\"\n",
      "Done. Saved argo spec to 'training/argo.yaml'\n",
      "Submit your workflow with: argo submit -n argo training/argo.yaml\n",
      "\u001b[32m==================================== Done. =====================================\u001b[0m\n",
      "\u001b[33m=================================== Warnings ===================================\u001b[0m\n",
      "Your git repository contains uncommitted files, which will be ignored when building the Docker image. Commit them if needed.\n",
      "\u001b[33m================================================================================\u001b[0m\n",
      "\u001b[0m(soopervisor) "
     ]
    },
    {
     "ename": "",
     "evalue": "1",
     "output_type": "error",
     "traceback": []
    }
   ],
   "source": [
    "soopervisor export training --skip-tests --ignore-git --mode force"
   ]
  },
  {
   "cell_type": "code",
   "execution_count": 56,
   "id": "72e52a42-ad74-4a12-a755-8242056fbe6b",
   "metadata": {},
   "outputs": [
    {
     "name": "stdout",
     "output_type": "stream",
     "text": [
      "Image: \"ml-intermediate:latest-default\" with ID \"sha256:0fe03b09c6ba576b8a68c6551a5db77d64b918b28342a22a372ef98a9a1fde29\" not yet present on node \"kind-control-plane\", loading...\n",
      "You have new mail in /var/mail/Edu\n",
      "(soopervisor) "
     ]
    },
    {
     "ename": "",
     "evalue": "1",
     "output_type": "error",
     "traceback": []
    }
   ],
   "source": [
    "kind load docker-image ml-intermediate:latest-default"
   ]
  },
  {
   "cell_type": "code",
   "execution_count": 57,
   "id": "66ff30e0-5100-4c8a-852e-8d5a5c94323f",
   "metadata": {},
   "outputs": [
    {
     "name": "stdout",
     "output_type": "stream",
     "text": [
      "Name:                ml-intermediate-gwgvx\n",
      "Namespace:           argo\n",
      "ServiceAccount:      default\n",
      "Status:              Pending\n",
      "Created:             Sat Aug 27 23:35:02 -0500 (now)\n",
      "Progress:            \n",
      "You have new mail in /var/mail/Edu\n",
      "(soopervisor) "
     ]
    },
    {
     "ename": "",
     "evalue": "1",
     "output_type": "error",
     "traceback": []
    }
   ],
   "source": [
    "argo submit -n argo training/argo.yaml"
   ]
  },
  {
   "cell_type": "code",
   "execution_count": 58,
   "id": "5d3ab6b1-1c0f-4f1d-8274-510cd0c2ebbf",
   "metadata": {},
   "outputs": [
    {
     "name": "stdout",
     "output_type": "stream",
     "text": [
      "@latest Succeeded at 2022-08-27 23:37:01 -0500 CDT\n",
      "You have new mail in /var/mail/Edu\n",
      "(soopervisor) "
     ]
    },
    {
     "ename": "",
     "evalue": "1",
     "output_type": "error",
     "traceback": []
    }
   ],
   "source": [
    "argo wait @latest -n argo"
   ]
  },
  {
   "cell_type": "code",
   "execution_count": 59,
   "id": "d9ce88d6-62f1-49e8-8cbd-bda82e872cf8",
   "metadata": {},
   "outputs": [
    {
     "name": "stdout",
     "output_type": "stream",
     "text": [
      "Name:                ml-intermediate-gwgvx\n",
      "Namespace:           argo\n",
      "ServiceAccount:      default\n",
      "Status:              Succeeded\n",
      "Conditions:          \n",
      " PodRunning          False\n",
      " Completed           True\n",
      "Created:             Sat Aug 27 23:35:02 -0500 (4 minutes ago)\n",
      "Started:             Sat Aug 27 23:35:03 -0500 (4 minutes ago)\n",
      "Finished:            Sat Aug 27 23:37:01 -0500 (2 minutes ago)\n",
      "Duration:            1 minute 58 seconds\n",
      "Progress:            5/5\n",
      "ResourcesDuration:   2m7s*(100Mi memory),2m7s*(1 cpu)\n",
      "\n",
      "\u001b[39mSTEP\u001b[0m                      TEMPLATE  PODNAME                           DURATION  MESSAGE\n",
      " \u001b[32m✔\u001b[0m ml-intermediate-gwgvx  dag                                                     \n",
      " ├─\u001b[32m✔\u001b[0m get                  run-task  ml-intermediate-gwgvx-1936308960  34s         \n",
      " ├─\u001b[32m✔\u001b[0m petal-area           run-task  ml-intermediate-gwgvx-1006976306  13s         \n",
      " ├─\u001b[32m✔\u001b[0m sepal-area           run-task  ml-intermediate-gwgvx-1618204345  13s         \n",
      " ├─\u001b[32m✔\u001b[0m join                 run-task  ml-intermediate-gwgvx-256640804   11s         \n",
      " └─\u001b[32m✔\u001b[0m fit                  run-task  ml-intermediate-gwgvx-412214795   23s         \n",
      "You have new mail in /var/mail/Edu\n",
      "(soopervisor) "
     ]
    },
    {
     "ename": "",
     "evalue": "1",
     "output_type": "error",
     "traceback": []
    }
   ],
   "source": [
    "argo get @latest -n argo"
   ]
  },
  {
   "cell_type": "code",
   "execution_count": 60,
   "id": "d71e2c2b-0c67-4033-8915-835d7e9134b3",
   "metadata": {},
   "outputs": [
    {
     "name": "stdout",
     "output_type": "stream",
     "text": [
      "ls: outputs/sample=False: No such file or directory\n",
      "(soopervisor) "
     ]
    },
    {
     "ename": "",
     "evalue": "1",
     "output_type": "error",
     "traceback": []
    }
   ],
   "source": [
    "ls outputs/sample=False"
   ]
  },
  {
   "cell_type": "code",
   "execution_count": null,
   "id": "d3a410df-533f-4d42-a356-7fac7891979a",
   "metadata": {},
   "outputs": [],
   "source": []
  }
 ],
 "metadata": {
  "kernelspec": {
   "display_name": "Bash",
   "language": "bash",
   "name": "bash"
  },
  "language_info": {
   "codemirror_mode": "shell",
   "file_extension": ".sh",
   "mimetype": "text/x-sh",
   "name": "bash"
  }
 },
 "nbformat": 4,
 "nbformat_minor": 5
}
